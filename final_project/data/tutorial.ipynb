{
 "cells": [
  {
   "cell_type": "markdown",
   "metadata": {
    "nbpresent": {
     "id": "dde7b85f-ae2f-42f9-9ebf-58ab93239983"
    }
   },
   "source": [
    "# Molecular dynamics simulation of a small protein using GROMACS "
   ]
  },
  {
   "cell_type": "markdown",
   "metadata": {
    "nbpresent": {
     "id": "59d19417-8116-4511-8fc5-c5abbbfe82b3"
    }
   },
   "source": [
    "    authors  : Alessandra Villa (based on a Justin Lemkuhl tutorial see http://www.mdtutorials.com or Living J. Comp. Mol. Sci. 2018, 1, 5068).    \n",
    "    goal     : learn step-by-step how to run a molecular dynamics simulation of a small protein using GROMACS \n",
    "    time     : 90 minutes\n",
    "    software : GROMACS 2023, python modules: numpy, matplotlib, re, nglviewer, md_traj, panda. \n",
    "    optional software: visualization software [VMD](https://www.ks.uiuc.edu/Research/vmd), Xmgrace plotting tool\n",
    "    tutorial source: tutorials.gromacs.org\n",
    "    version  : release"
   ]
  },
  {
   "cell_type": "markdown",
   "metadata": {},
   "source": [
    "# Preparations to run this notebook"
   ]
  },
  {
   "cell_type": "code",
   "execution_count": 1,
   "metadata": {
    "nbpresent": {
     "id": "cf4e0e9a-6503-430f-8c60-815a9ae22616"
    }
   },
   "outputs": [
    {
     "name": "stdout",
     "output_type": "stream",
     "text": [
      "[Errno 2] No such file or directory: 'data'\n",
      "/Users/alejandraduran/Documents/Pton_courses/CBE422/final_project/data\n"
     ]
    }
   ],
   "source": [
    "# Change to the data directory\n",
    "# Note that executing this command twice will result in an error you can ignore\n",
    "%cd data"
   ]
  },
  {
   "cell_type": "markdown",
   "metadata": {
    "nbpresent": {
     "id": "3d13b2f5-7423-4201-b832-303524849db8"
    }
   },
   "source": [
    "# Obtaining the input for a simulation"
   ]
  },
  {
   "cell_type": "markdown",
   "metadata": {
    "nbpresent": {
     "id": "40fa54aa-811b-4991-8dcf-3fdc464b1249"
    }
   },
   "source": [
    "The starting point for each simulation is a molecular structure file. For this tutorial, we will utilize Factor Xa, a protein playing critical role in the formation of blood clots. The 3D structure is available from the RCSB website, https://www.rcsb.org/ with PDB code 1FJS. You can find the PDB file for the crystal structure in \"input\" directory as \"1fjs.pdb\"."
   ]
  },
  {
   "cell_type": "markdown",
   "metadata": {},
   "source": [
    "Now we visualize the structure"
   ]
  },
  {
   "cell_type": "code",
   "execution_count": 2,
   "metadata": {},
   "outputs": [
    {
     "data": {
      "application/vnd.jupyter.widget-view+json": {
       "model_id": "7c4f77add10042d7bd00d56a69335e19",
       "version_major": 2,
       "version_minor": 0
      },
      "text/plain": []
     },
     "metadata": {},
     "output_type": "display_data"
    },
    {
     "data": {
      "application/vnd.jupyter.widget-view+json": {
       "model_id": "b738446016a940948170dd1d167c84d1",
       "version_major": 2,
       "version_minor": 0
      },
      "text/plain": [
       "NGLWidget()"
      ]
     },
     "metadata": {},
     "output_type": "display_data"
    }
   ],
   "source": [
    "import nglview as ng\n",
    "view = ng.show_file(\"input/1fjs.pdb\")\n",
    "view\n",
    "# click and drag to rotate, zoom with your mouseweel \n",
    "# for more infor on this viewer have a look at https://github.com/nglviewer/nglview"
   ]
  },
  {
   "cell_type": "markdown",
   "metadata": {},
   "source": [
    "In alternative, you can use VMD to visualize the structure on your local machine. To run VMD from within this notebook, remove the comment character (#) in the following cell and VMD should pop up:\n",
    " **`close the VMD window after you are done looking at the protein to continue with this notebook`**"
   ]
  },
  {
   "cell_type": "markdown",
   "metadata": {
    "nbpresent": {
     "id": "d5d197b7-16ea-4cb7-bc4c-dc18ea76e1d1"
    }
   },
   "source": [
    "## Cleaning the input structure"
   ]
  },
  {
   "cell_type": "markdown",
   "metadata": {
    "nbpresent": {
     "id": "992503cc-771a-439b-bae3-3a660a755b7c"
    }
   },
   "source": [
    "Once you've had a look at the molecule, you are going to want to strip out all the atoms that do not belong to the protein (e.i crystal waters, ligands, etc). To delete those atoms (labelled \"HETATM\" in the PDB file) and eventually their connectivity, either use a plain text editor like vi, emacs (Linux/Mac), or Notepad (Windows). Do not use word processing software! Alternatively, you can use grep to delete these lines very easily:"
   ]
  },
  {
   "cell_type": "code",
   "execution_count": 3,
   "metadata": {
    "nbpresent": {
     "id": "2655e386-be87-4ac5-91ef-9ac4ee9360f9"
    },
    "scrolled": true
   },
   "outputs": [],
   "source": [
    "!grep -v HETATM input/1fjs.pdb > 1fjs_protein_tmp.pdb\n",
    "!grep -v CONECT 1fjs_protein_tmp.pdb > 1fjs_protein.pdb"
   ]
  },
  {
   "cell_type": "markdown",
   "metadata": {},
   "source": [
    "View the cleaned structure"
   ]
  },
  {
   "cell_type": "code",
   "execution_count": 4,
   "metadata": {},
   "outputs": [
    {
     "data": {
      "application/vnd.jupyter.widget-view+json": {
       "model_id": "c296db4e37714bd4b31f2e308749859d",
       "version_major": 2,
       "version_minor": 0
      },
      "text/plain": [
       "NGLWidget()"
      ]
     },
     "metadata": {},
     "output_type": "display_data"
    }
   ],
   "source": [
    "import nglview as ng\n",
    "view = ng.show_structure_file(\"1fjs_protein.pdb\")\n",
    "view\n",
    "# click and drag to rotate, zoom with your mouseweel \n",
    "# for more infor on this viewer have a look at https://github.com/nglviewer/nglview"
   ]
  },
  {
   "cell_type": "markdown",
   "metadata": {
    "nbpresent": {
     "id": "345d6e37-b392-4f54-b2ed-4d19f5c13b3d"
    }
   },
   "source": [
    "Note *Such a procedure is not universally appropriate (e.g., the case of a tightly bound ligand or otherwise functional active-site water molecule).*"
   ]
  },
  {
   "cell_type": "markdown",
   "metadata": {
    "nbpresent": {
     "id": "345d6e37-b392-4f54-b2ed-4d19f5c13b3d"
    }
   },
   "source": [
    "Always check your .pdb file for entries listed under the comment MISSING, as these entries indicate either atoms or whole residues that are not present in the crystal structure. Terminal regions may be absent, and may not present a problem for dynamics."
   ]
  },
  {
   "cell_type": "code",
   "execution_count": 5,
   "metadata": {},
   "outputs": [],
   "source": [
    "!grep MISSING input/1fjs.pdb"
   ]
  },
  {
   "cell_type": "markdown",
   "metadata": {
    "nbpresent": {
     "id": "21e7a22b-6304-496d-8a9d-dfec05a513f6"
    }
   },
   "source": [
    "## Generating a topology"
   ]
  },
  {
   "cell_type": "markdown",
   "metadata": {
    "nbpresent": {
     "id": "1d259e27-9071-43e4-93ab-4c45dbf7c7a1"
    }
   },
   "source": [
    "Now we have verified that all the necessary atoms are present and the PDB file contains only protein atoms, and is ready to be input into GROMACS (see <a href=http://manual.gromacs.org/current/index.html> GROMACS documentation </a>). \n",
    "The first GROMACS tool, we use, is [`gmx pdb2gmx`](https://manual.gromacs.org/current/onlinehelp/gmx-pdb2gmx.html). The purpose of `gmx pdb2gmx` is to generate three files:\n",
    "\n",
    "* The topology for the molecule.\n",
    "* A position restraint file.\n",
    "* A post-processed structure file. \n",
    "\n",
    "The topology (topol.top by default) contains all the information necessary to define the molecule within a simulation. This information includes nonbonded parameters (atom types and charges) as well as bonded parameters (bonds, angles, dihedrals and atom connectivity). We will take a more detailed look at the topology once it has been generated."
   ]
  },
  {
   "cell_type": "markdown",
   "metadata": {},
   "source": [
    "Note *Incomplete internal sequences or any amino acid residues that have missing atoms will cause `gmx pdb2gmx` to fail. These missing atoms/residues must be modeled in using other software packages. Also note that `gmx pdb2gmx` is not magic. It cannot generate topologies for arbitrary molecules, just the residues defined by the force field (in the *.rtp files - generally proteins, nucleic acids, and a very finite amount of cofactors, like NAD(H) and ATP).*"
   ]
  },
  {
   "cell_type": "markdown",
   "metadata": {},
   "source": [
    "Execute `gmx pdb2gmx` by issuing the following command:"
   ]
  },
  {
   "cell_type": "code",
   "execution_count": 6,
   "metadata": {
    "nbpresent": {
     "id": "2f9730de-896f-4e92-84c7-3de46d837d53"
    },
    "scrolled": true
   },
   "outputs": [
    {
     "name": "stdout",
     "output_type": "stream",
     "text": [
      "               :-) GROMACS - gmx pdb2gmx, 2023.3-conda_forge (-:\n",
      "\n",
      "Executable:   /Users/alejandraduran/opt/anaconda3/envs/md-intro-tutorial/bin.SSE2/gmx\n",
      "Data prefix:  /Users/alejandraduran/opt/anaconda3/envs/md-intro-tutorial\n",
      "Working dir:  /Users/alejandraduran/Documents/Pton_courses/CBE422/final_project/data\n",
      "Command line:\n",
      "  gmx pdb2gmx -f 1fjs_protein.pdb -o 1fjs_processed.gro -water tip3p -ff charmm27\n",
      "\n",
      "Using the Charmm27 force field in directory charmm27.ff\n",
      "\n",
      "going to rename charmm27.ff/aminoacids.r2b\n",
      "Opening force field file /Users/alejandraduran/opt/anaconda3/envs/md-intro-tutorial/share/gromacs/top/charmm27.ff/aminoacids.r2b\n",
      "\n",
      "going to rename charmm27.ff/rna.r2b\n",
      "Opening force field file /Users/alejandraduran/opt/anaconda3/envs/md-intro-tutorial/share/gromacs/top/charmm27.ff/rna.r2b\n",
      "Reading 1fjs_protein.pdb...\n",
      "Read 'COAGULATION FACTOR XA; COAGULATION FACTOR XA', 2236 atoms\n",
      "\n",
      "Analyzing pdb file\n",
      "Splitting chemical chains based on TER records or chain id changing.\n",
      "\n",
      "There are 2 chains and 0 blocks of water and 286 residues with 2236 atoms\n",
      "\n",
      "  chain  #res #atoms\n",
      "\n",
      "  1 'A'   234   1852  \n",
      "\n",
      "  2 'L'    52    384  \n",
      "\n",
      "there were 14 atoms with zero occupancy and 20 atoms with          occupancy unequal to one (out of 2236 atoms). Check your pdb file.\n",
      "there were 14 atoms with zero occupancy and 20 atoms with          occupancy unequal to one (out of 2236 atoms). Check your pdb file.\n",
      "Opening force field file /Users/alejandraduran/opt/anaconda3/envs/md-intro-tutorial/share/gromacs/top/charmm27.ff/atomtypes.atp\n",
      "\n",
      "Reading residue database... (Charmm27)\n",
      "Opening force field file /Users/alejandraduran/opt/anaconda3/envs/md-intro-tutorial/share/gromacs/top/charmm27.ff/aminoacids.rtp\n",
      "Opening force field file /Users/alejandraduran/opt/anaconda3/envs/md-intro-tutorial/share/gromacs/top/charmm27.ff/dna.rtp\n",
      "Opening force field file /Users/alejandraduran/opt/anaconda3/envs/md-intro-tutorial/share/gromacs/top/charmm27.ff/lipids.rtp\n",
      "Opening force field file /Users/alejandraduran/opt/anaconda3/envs/md-intro-tutorial/share/gromacs/top/charmm27.ff/rna.rtp\n",
      "Opening force field file /Users/alejandraduran/opt/anaconda3/envs/md-intro-tutorial/share/gromacs/top/charmm27.ff/aminoacids.hdb\n",
      "Opening force field file /Users/alejandraduran/opt/anaconda3/envs/md-intro-tutorial/share/gromacs/top/charmm27.ff/dna.hdb\n",
      "Opening force field file /Users/alejandraduran/opt/anaconda3/envs/md-intro-tutorial/share/gromacs/top/charmm27.ff/lipids.hdb\n",
      "Opening force field file /Users/alejandraduran/opt/anaconda3/envs/md-intro-tutorial/share/gromacs/top/charmm27.ff/rna.hdb\n",
      "Opening force field file /Users/alejandraduran/opt/anaconda3/envs/md-intro-tutorial/share/gromacs/top/charmm27.ff/aminoacids.n.tdb\n",
      "Opening force field file /Users/alejandraduran/opt/anaconda3/envs/md-intro-tutorial/share/gromacs/top/charmm27.ff/dna.n.tdb\n",
      "Opening force field file /Users/alejandraduran/opt/anaconda3/envs/md-intro-tutorial/share/gromacs/top/charmm27.ff/rna.n.tdb\n",
      "Opening force field file /Users/alejandraduran/opt/anaconda3/envs/md-intro-tutorial/share/gromacs/top/charmm27.ff/aminoacids.c.tdb\n",
      "Opening force field file /Users/alejandraduran/opt/anaconda3/envs/md-intro-tutorial/share/gromacs/top/charmm27.ff/dna.c.tdb\n",
      "Opening force field file /Users/alejandraduran/opt/anaconda3/envs/md-intro-tutorial/share/gromacs/top/charmm27.ff/rna.c.tdb\n",
      "\n",
      "Back Off! I just backed up topol.top to ./#topol.top.1#\n",
      "\n",
      "Processing chain 1 'A' (1852 atoms, 234 residues)\n",
      "Analysing hydrogen-bonding network for automated assignment of histidine\n",
      " protonation. 362 donors and 349 acceptors were found.\n",
      "There are 555 hydrogen bonds\n",
      "Will use HISD for residue 57\n",
      "Will use HISE for residue 83\n",
      "Will use HISE for residue 91\n",
      "Will use HISE for residue 145\n",
      "Will use HISE for residue 199\n",
      "\n",
      "Identified residue ILE16 as a starting terminus.\n",
      "\n",
      "Identified residue THR244 as a ending terminus.\n",
      "8 out of 8 lines of specbond.dat converted successfully\n",
      "Special Atom Distance matrix:\n",
      "                   CYS22   CYS27   CYS42   HIS57   CYS58   HIS83   HIS91\n",
      "                    SG47    SG83   SG206  NE2318   SG324  NE2536  NE2602\n",
      "   CYS27    SG83   0.230\n",
      "   CYS42   SG206   1.706   1.726\n",
      "   HIS57  NE2318   1.948   1.957   0.488\n",
      "   CYS58   SG324   1.773   1.764   0.239   0.410\n",
      "   HIS83  NE2536   1.872   1.798   1.852   2.279   1.873\n",
      "   HIS91  NE2602   2.853   2.730   1.835   1.629   1.597   2.634\n",
      "  MET116   SD817   1.252   1.187   2.584   2.933   2.636   1.627   3.494\n",
      "  CYS122   SG856   1.708   1.478   2.379   2.509   2.269   1.937   2.281\n",
      "  MET131   SD955   2.113   1.962   2.158   1.966   1.988   2.884   1.650\n",
      "  HIS145 NE21060   1.681   1.881   2.029   2.090   2.189   3.133   3.567\n",
      "  MET157  SD1150   0.444   0.441   1.993   2.151   2.030   2.237   2.952\n",
      "  CYS168  SG1240   2.410   2.363   2.047   1.668   1.921   3.430   1.943\n",
      "  MET180  SD1333   2.454   2.400   1.600   1.169   1.431   3.072   1.338\n",
      "  CYS182  SG1351   2.251   2.220   1.931   1.568   1.827   3.346   2.037\n",
      "  CYS191  SG1433   1.587   1.712   1.218   1.163   1.340   2.724   2.665\n",
      "  HIS199 NE21485   1.407   1.306   1.711   1.594   1.615   2.569   1.992\n",
      "  CYS220  SG1644   1.746   1.851   1.264   1.115   1.355   2.864   2.577\n",
      "  MET242  SD1835   2.207   2.023   1.934   2.057   1.767   1.591   1.426\n",
      "                  MET116  CYS122  MET131  HIS145  MET157  CYS168  MET180\n",
      "                   SD817   SG856   SD955 NE21060  SD1150  SG1240  SD1333\n",
      "  CYS122   SG856   1.719\n",
      "  MET131   SD955   2.879   1.549\n",
      "  HIS145 NE21060   2.784   3.257   2.955\n",
      "  MET157  SD1150   1.417   1.664   1.956   1.752\n",
      "  CYS168  SG1240   3.501   2.566   1.163   2.504   2.283\n",
      "  MET180  SD1333   3.482   2.530   1.310   2.641   2.453   0.737\n",
      "  CYS182  SG1351   3.378   2.552   1.241   2.275   2.129   0.230   0.797\n",
      "  CYS191  SG1433   2.789   2.821   2.308   0.954   1.714   1.796   1.759\n",
      "  HIS199 NE21485   2.392   1.569   0.811   2.167   1.251   1.137   1.341\n",
      "  CYS220  SG1644   2.961   2.872   2.227   1.111   1.838   1.617   1.589\n",
      "  MET242  SD1835   2.366   1.191   1.760   3.512   2.346   2.587   2.218\n",
      "                  CYS182  CYS191  HIS199  CYS220\n",
      "                  SG1351  SG1433 NE21485  SG1644\n",
      "  CYS191  SG1433   1.584\n",
      "  HIS199 NE21485   1.054   1.611\n",
      "  CYS220  SG1644   1.407   0.237   1.574\n",
      "  MET242  SD1835   2.606   2.828   1.915   2.851\n",
      "Start terminus ILE-16: NH3+\n",
      "End terminus THR-244: COO-\n",
      "Opening force field file /Users/alejandraduran/opt/anaconda3/envs/md-intro-tutorial/share/gromacs/top/charmm27.ff/aminoacids.arn\n",
      "Opening force field file /Users/alejandraduran/opt/anaconda3/envs/md-intro-tutorial/share/gromacs/top/charmm27.ff/dna.arn\n",
      "Opening force field file /Users/alejandraduran/opt/anaconda3/envs/md-intro-tutorial/share/gromacs/top/charmm27.ff/rna.arn\n",
      "\n",
      "Checking for duplicate atoms....\n",
      "\n",
      "Generating any missing hydrogen atoms and/or adding termini.\n",
      "\n",
      "Now there are 234 residues with 3673 atoms\n",
      "Chain time...\n",
      "\n",
      "Back Off! I just backed up topol_Protein_chain_A.itp to ./#topol_Protein_chain_A.itp.1#\n",
      "\n",
      "Making bonds...\n",
      "\n",
      "Number of bonds was 3711, now 3711\n",
      "\n",
      "Generating angles, dihedrals and pairs...\n",
      "Before cleaning: 9703 pairs\n",
      "Before cleaning: 9778 dihedrals\n",
      "\n",
      "Making cmap torsions...\n",
      "\n",
      "There are  232 cmap torsion pairs\n",
      "\n",
      "There are 9778 dihedrals,  605 impropers, 6679 angles\n",
      "          9631 pairs,     3711 bonds and     0 virtual sites\n",
      "\n",
      "Total mass 26412.137 a.m.u.\n",
      "\n",
      "Total charge 1.000 e\n",
      "\n",
      "Writing topology\n",
      "\n",
      "Back Off! I just backed up posre_Protein_chain_A.itp to ./#posre_Protein_chain_A.itp.1#\n",
      "\n",
      "Processing chain 2 'L' (384 atoms, 52 residues)\n",
      "Analysing hydrogen-bonding network for automated assignment of histidine\n",
      " protonation. 74 donors and 80 acceptors were found.\n",
      "There are 118 hydrogen bonds\n",
      "Will use HISE for residue 101\n",
      "\n",
      "Identified residue LYS87 as a starting terminus.\n",
      "\n",
      "Identified residue GLU138 as a ending terminus.\n",
      "8 out of 8 lines of specbond.dat converted successfully\n",
      "Special Atom Distance matrix:\n",
      "                   CYS89   CYS96  CYS100  HIS101  CYS109  CYS111  CYS124\n",
      "                    SG23    SG71   SG105  NE2115   SG176   SG188   SG280\n",
      "   CYS96    SG71   0.578\n",
      "  CYS100   SG105   0.236   0.347\n",
      "  HIS101  NE2115   0.735   0.673   0.662\n",
      "  CYS109   SG176   0.752   0.229   0.539   0.710\n",
      "  CYS111   SG188   1.344   0.870   1.141   0.855   0.787\n",
      "  CYS124   SG280   1.299   0.804   1.083   0.926   0.760   0.239\n",
      "  CYS132   SG338   1.943   1.630   1.787   1.458   1.656   0.993   0.967\n",
      "                \n",
      "                \n",
      "Start terminus LYS-87: NH3+\n",
      "End terminus GLU-138: COO-\n",
      "Opening force field file /Users/alejandraduran/opt/anaconda3/envs/md-intro-tutorial/share/gromacs/top/charmm27.ff/aminoacids.arn\n",
      "Opening force field file /Users/alejandraduran/opt/anaconda3/envs/md-intro-tutorial/share/gromacs/top/charmm27.ff/dna.arn\n",
      "Opening force field file /Users/alejandraduran/opt/anaconda3/envs/md-intro-tutorial/share/gromacs/top/charmm27.ff/rna.arn\n",
      "\n",
      "Checking for duplicate atoms....\n",
      "\n",
      "Generating any missing hydrogen atoms and/or adding termini.\n",
      "\n",
      "Now there are 52 residues with 744 atoms\n",
      "Chain time...\n",
      "\n",
      "Back Off! I just backed up topol_Protein_chain_L.itp to ./#topol_Protein_chain_L.itp.1#\n",
      "\n",
      "Making bonds...\n",
      "\n",
      "Number of bonds was 750, now 750\n",
      "\n",
      "Generating angles, dihedrals and pairs...\n",
      "Before cleaning: 1959 pairs\n",
      "Before cleaning: 1979 dihedrals\n",
      "\n",
      "Making cmap torsions...\n",
      "\n",
      "There are   50 cmap torsion pairs\n",
      "\n",
      "There are 1979 dihedrals,  141 impropers, 1348 angles\n",
      "          1950 pairs,      750 bonds and     0 virtual sites\n",
      "\n",
      "Total mass 5581.215 a.m.u.\n",
      "\n",
      "Total charge -3.000 e\n",
      "\n",
      "Writing topology\n",
      "\n",
      "Back Off! I just backed up posre_Protein_chain_L.itp to ./#posre_Protein_chain_L.itp.1#\n",
      "\n",
      "Including chain 1 in system: 3673 atoms 234 residues\n",
      "\n",
      "Including chain 2 in system: 744 atoms 52 residues\n",
      "\n",
      "Now there are 4417 atoms and 286 residues\n",
      "\n",
      "Total mass in system 31993.352 a.m.u.\n",
      "\n",
      "Total charge in system -2.000 e\n",
      "\n",
      "Writing coordinate file...\n",
      "\n",
      "Back Off! I just backed up 1fjs_processed.gro to ./#1fjs_processed.gro.1#\n",
      "\n",
      "\t\t--------- PLEASE NOTE ------------\n",
      "\n",
      "You have successfully generated a topology from: 1fjs_protein.pdb.\n",
      "\n",
      "The Charmm27 force field and the tip3p water model are used.\n",
      "\n",
      "\t\t--------- ETON ESAELP ------------\n",
      "\n",
      "GROMACS reminds you: \"It has been discovered that C++ provides a remarkable facility for concealing the trivial details of a program - such as where its bugs are.\" (David Keppel)\n",
      "\n"
     ]
    }
   ],
   "source": [
    "!gmx pdb2gmx -f 1fjs_protein.pdb -o 1fjs_processed.gro -water tip3p -ff \"charmm27\""
   ]
  },
  {
   "cell_type": "markdown",
   "metadata": {
    "nbpresent": {
     "id": "d5ba1bb9-c859-4e03-a21b-780533486c27"
    }
   },
   "source": [
    "Here, we made an important decision for the course of the simulation in choosing the CHARMM27 all-atom force field. The force field will contain the information that will be written to the topology. This is a very important choice! You should always read thoroughly about each force field and decide which is most applicable to your situation. Other choices are given, when running `gmx pdb2gmx` without the -ff flag"
   ]
  },
  {
   "cell_type": "markdown",
   "metadata": {
    "nbpresent": {
     "id": "b5b8ad6b-94b6-4ffc-b771-87dadfb78841"
    }
   },
   "source": [
    "    Select the Force Field:\n",
    "    From '/usr/local/gromacs/share/gromacs/top':\n",
    "     1: AMBER03 protein, nucleic AMBER94 (Duan et al., J. Comp. Chem. 24, 1999-2012, 2003)\n",
    "     2: AMBER94 force field (Cornell et al., JACS 117, 5179-5197, 1995)\n",
    "     3: AMBER96 protein, nucleic AMBER94 (Kollman et al., Acc. Chem. Res. 29, 461-469, 1996)\n",
    "     4: AMBER99 protein, nucleic AMBER94 (Wang et al., J. Comp. Chem. 21, 1049-1074, 2000)\n",
    "     5: AMBER99SB protein, nucleic AMBER94 (Hornak et al., Proteins 65, 712-725, 2006)\n",
    "     6: AMBER99SB-ILDN protein, nucleic AMBER94 (Lindorff-Larsen et al., Proteins 78, 1950-58, 2010)\n",
    "     7: AMBERGS force field (Garcia & Sanbonmatsu, PNAS 99, 2782-2787, 2002)\n",
    "     8: CHARMM27 all-atom force field (CHARM22 plus CMAP for proteins)\n",
    "     9: GROMOS96 43a1 force field\n",
    "    10: GROMOS96 43a2 force field (improved alkane dihedrals)\n",
    "    11: GROMOS96 45a3 force field (Schuler JCC 2001 22 1205)\n",
    "    12: GROMOS96 53a5 force field (JCC 2004 vol 25 pag 1656)\n",
    "    13: GROMOS96 53a6 force field (JCC 2004 vol 25 pag 1656)\n",
    "    14: GROMOS96 54a7 force field (Eur. Biophys. J. (2011), 40,, 843-856, DOI: 10.1007/s00249-011-0700-9)\n",
    "    15: OPLS-AA/L all-atom force field (2001 aminoacid dihedrals)\n"
   ]
  },
  {
   "cell_type": "markdown",
   "metadata": {
    "nbpresent": {
     "id": "313f7d4f-aef7-4034-a8f0-d01ccbc0f61a"
    }
   },
   "source": [
    "There are many other options that can be passed to `gmx pdb2gmx` (see http://manual.gromacs.org/documentation/current/onlinehelp/gmx-pdb2gmx.html). Some commonly used ones are listed here:\n",
    "\n",
    "| Option | Effect |\n",
    "|--------|--------\n",
    "|-water  | Water model to use: none, spc, spce, tip3p, tip4p, tip5p, tips3p.|\n",
    "|-ignh   | Ignore H atoms in the PDB file; especially useful for NMR structures. Otherwise, if H atoms are present, they must be in the named exactly how the force fields in GROMACS expect them to be. Different conventions exist, so dealing with H atoms can occasionally be a headache! If you need to preserve the initial H coordinates, but renaming is required, then the Linux sed command is your friend.|\n",
    "|-ter    | Interactively assign charge states for N- and C-termini.|\n",
    "|-inter  | Interactively assign charge states for Glu, Asp, Lys, Arg, and His; choose which Cys are involved in disulfide bonds.|"
   ]
  },
  {
   "cell_type": "markdown",
   "metadata": {
    "nbpresent": {
     "id": "d0e9e6a0-2330-4d50-90ee-9c2ebcfeccb9"
    }
   },
   "source": [
    "## A peek at the generated files"
   ]
  },
  {
   "cell_type": "code",
   "execution_count": 7,
   "metadata": {
    "nbpresent": {
     "id": "db39c2bf-2b27-4143-a5bf-2d8a9ad69a86"
    },
    "scrolled": true
   },
   "outputs": [
    {
     "name": "stdout",
     "output_type": "stream",
     "text": [
      "#1fjs_processed.gro.1#        \u001b[34minput\u001b[m\u001b[m\n",
      "#posre_Protein_chain_A.itp.1# posre_Protein_chain_A.itp\n",
      "#posre_Protein_chain_L.itp.1# posre_Protein_chain_L.itp\n",
      "#topol.top.1#                 \u001b[34mreference\u001b[m\u001b[m\n",
      "#topol_Protein_chain_A.itp.1# topol.top\n",
      "#topol_Protein_chain_L.itp.1# topol_Protein_chain_A.itp\n",
      "1fjs_processed.gro            topol_Protein_chain_L.itp\n",
      "1fjs_protein.pdb              tutorial.ipynb\n",
      "1fjs_protein_tmp.pdb\n"
     ]
    }
   ],
   "source": [
    "!ls"
   ]
  },
  {
   "cell_type": "markdown",
   "metadata": {
    "nbpresent": {
     "id": "e726db3d-da64-4dc6-979a-37de5aca3555"
    }
   },
   "source": [
    "You have now generated three new files: 1fjs_processed.gro, topol.top, topol_Protein_chain_X.itp and posre_Protein_chain_X.itp. 1fjs_processed.gro is a GROMACS-formatted structure file that contains all the atoms defined within the force field (i.e., H atoms have been added to the amino acids in the protein). The topol.top file is the system topology (more on this in a minute). The posre files contain information used to restrain the positions of heavy atoms (more on this later).\n",
    "\n",
    "One final note: many users assume that a .gro file is mandatory. This is not true. GROMACS can handle many different file formats, with .gro simply being the default for commands that write coordinate files. It is a very compact format, but it has limited precision. If you prefer to use, for instance, PDB format, all you need to do is to specify an appropriate file name with .pdb extension as your output. The purpose of `gmx pdb2gmx` is to produce a force field-compliant topology; the output structure is largely a side effect of this purpose and is intended for user convenience. The format can be just about anything you like (see http://manual.gromacs.org/documentation/current/reference-manual/file-formats.html for different formats)."
   ]
  },
  {
   "cell_type": "markdown",
   "metadata": {
    "nbpresent": {
     "id": "aeae1bf0-ee7a-466f-8a74-ffa719813bc6"
    }
   },
   "source": [
    "# Understanding molecule \"topologies\""
   ]
  },
  {
   "cell_type": "markdown",
   "metadata": {
    "nbpresent": {
     "id": "93e9c7bd-075d-429f-be86-6b3118cb5b1c"
    }
   },
   "source": [
    "Let's look at what is in the output topology (topol.top). Again, using a plain text editor, inspect its contents. After several comment lines (preceded by `;`), you will find the following:"
   ]
  },
  {
   "cell_type": "code",
   "execution_count": 8,
   "metadata": {
    "scrolled": true
   },
   "outputs": [
    {
     "name": "stdout",
     "output_type": "stream",
     "text": [
      ";\n",
      ";\tFile 'topol.top' was generated\n",
      ";\tBy user: root (501)\n",
      ";\tOn host: dynamic-oit-vapornet100-10-9-57-210.princeton.edu\n",
      ";\tAt date: Wed Dec  6 00:50:51 2023\n",
      ";\n",
      ";\tThis is a standalone topology file\n",
      ";\n",
      ";\tCreated by:\n",
      ";\t              :-) GROMACS - gmx pdb2gmx, 2023.3-conda_forge (-:\n",
      ";\t\n",
      ";\tExecutable:   /Users/alejandraduran/opt/anaconda3/envs/md-intro-tutorial/bin.SSE2/gmx\n",
      ";\tData prefix:  /Users/alejandraduran/opt/anaconda3/envs/md-intro-tutorial\n",
      ";\tWorking dir:  /Users/alejandraduran/Documents/Pton_courses/CBE422/final_project/data\n",
      ";\tCommand line:\n",
      ";\t  gmx pdb2gmx -f 1fjs_protein.pdb -o 1fjs_processed.gro -water tip3p -ff charmm27\n",
      ";\tForce field was read from the standard GROMACS share directory.\n",
      ";\n",
      "\n",
      "; Include forcefield parameters\n",
      "#include \"charmm27.ff/forcefield.itp\"\n",
      "\n",
      "; Include chain topologies\n",
      "#include \"topol_Protein_chain_A.itp\"\n",
      "#include \"topol_Protein_chain_L.itp\"\n",
      "\n",
      "; Include water topology\n",
      "#include \"charmm27.ff/tip3p.itp\"\n",
      "\n",
      "#ifdef POSRES_WATER\n",
      "; Position restraint for each water oxygen\n",
      "[ position_restraints ]\n",
      ";  i funct       fcx        fcy        fcz\n",
      "   1    1       1000       1000       1000\n",
      "#endif\n",
      "\n",
      "; Include topology for ions\n",
      "#include \"charmm27.ff/ions.itp\"\n",
      "\n",
      "[ system ]\n",
      "; Name\n",
      "COAGULATION FACTOR XA; COAGULATION FACTOR XA\n",
      "\n",
      "[ molecules ]\n",
      "; Compound        #mols\n",
      "Protein_chain_A     1\n",
      "Protein_chain_L     1\n"
     ]
    }
   ],
   "source": [
    "!cat topol.top"
   ]
  },
  {
   "cell_type": "markdown",
   "metadata": {
    "nbpresent": {
     "id": "c2e72686-c836-46ff-947a-faaf1e87d18a"
    }
   },
   "source": [
    "The first line calls the parameters within the chosen force field. It is at the beginning of the file, indicating that all subsequent parameters are derived from this force field.  Then next important line is [ moleculetype ], that you find in  "
   ]
  },
  {
   "cell_type": "code",
   "execution_count": 9,
   "metadata": {},
   "outputs": [
    {
     "name": "stdout",
     "output_type": "stream",
     "text": [
      "[ moleculetype ]\n",
      "; Name            nrexcl\n",
      "Protein_chain_A     3\n",
      "\n"
     ]
    }
   ],
   "source": [
    "!grep \"moleculetype\" -A 3 topol_Protein_chain_A.itp"
   ]
  },
  {
   "cell_type": "markdown",
   "metadata": {},
   "source": [
    "and"
   ]
  },
  {
   "cell_type": "code",
   "execution_count": 10,
   "metadata": {},
   "outputs": [
    {
     "name": "stdout",
     "output_type": "stream",
     "text": [
      "[ moleculetype ]\n",
      "; Name            nrexcl\n",
      "Protein_chain_L     3\n",
      "\n"
     ]
    }
   ],
   "source": [
    "!grep \"moleculetype\" -A 3 topol_Protein_chain_L.itp"
   ]
  },
  {
   "cell_type": "markdown",
   "metadata": {
    "nbpresent": {
     "id": "49a884b4-6326-4c0b-99a0-d66f60bd9e4d"
    }
   },
   "source": [
    "The name \"Protein_chain_A\" defines the molecule name, based on the fact that the protein was labeled as chain A in the PDB file. There are 3 exclusions for bonded neighbors. More information on exclusions can be found in the <a href=http://manual.gromacs.org/current/reference-manual/topologies.html>GROMACS manual</a>."
   ]
  },
  {
   "cell_type": "markdown",
   "metadata": {
    "nbpresent": {
     "id": "db680c9f-9999-4423-b607-47b2746a64c4"
    }
   },
   "source": [
    "## Atoms in a topology"
   ]
  },
  {
   "cell_type": "markdown",
   "metadata": {
    "nbpresent": {
     "id": "98122e18-61f8-44b2-b5cf-6b4fa20ae864"
    }
   },
   "source": [
    "The next section defines the [ atoms ] in the protein. The information is presented as columns:"
   ]
  },
  {
   "cell_type": "code",
   "execution_count": 11,
   "metadata": {},
   "outputs": [
    {
     "name": "stdout",
     "output_type": "stream",
     "text": [
      "[ atoms ]\n",
      ";   nr       type  resnr residue  atom   cgnr     charge       mass  typeB    chargeB      massB\n",
      "; residue  16 ILE rtp ILE  q +1.0\n",
      "     1        NH3     16    ILE      N      1       -0.3     14.007\n",
      "     2         HC     16    ILE     H1      2       0.33      1.008\n"
     ]
    }
   ],
   "source": [
    "! grep \"atoms\" -A 4 topol_Protein_chain_A.itp"
   ]
  },
  {
   "cell_type": "markdown",
   "metadata": {
    "nbpresent": {
     "id": "09648857-440c-4e54-86c6-932fa288cfa9"
    }
   },
   "source": [
    "The interpretation of this information is as follows:\n",
    "\n",
    "|Field  |  description |\n",
    "|--|--\n",
    "|nr|Atom number\n",
    "|type| Atom type\n",
    "|resnr|Amino acid residue number\n",
    "|residue| The amino acid residue name- Note that this may be different from .rtp entry. \n",
    "|atom| Atom name\n",
    "|cgnr| Charge group number - Not used anymore \n",
    "|charge| Self-explanatory - The \"qtot\" descriptor is a running total of the charge on the molecule\n",
    "|mass| Also self-explanatory\n",
    "|typeB, chargeB, massB| Used for free energy perturbation (not discussed here) "
   ]
  },
  {
   "cell_type": "markdown",
   "metadata": {
    "nbpresent": {
     "id": "18a65484-38e3-49fc-9dc2-57f04d698628"
    }
   },
   "source": [
    "## Bonds and other interactions"
   ]
  },
  {
   "cell_type": "markdown",
   "metadata": {
    "nbpresent": {
     "id": "0a8bda1d-2727-4a76-983d-dab8112e1dcf"
    }
   },
   "source": [
    "Subsequent sections include [ bonds ], [ pairs ], [ angles ], and [ dihedrals ]. Some of these sections are self-explanatory (bonds, angles, and dihedrals). These interactions are found [here](http://manual.gromacs.org/current/reference-manual/functions.html) and special 1-4 interactions are included under [pairs](http://manual.gromacs.org/current/reference-manual/functions/interaction-methods.html#exclusions-and-1-4-interactions). For format associated to function types [see topology file table](http://manual.gromacs.org/documentation/2020-beta1/reference-manual/topologies/topology-file-formats.html) in GROMACS manual."
   ]
  },
  {
   "cell_type": "markdown",
   "metadata": {},
   "source": [
    "Below we look for these interactions in topology file. As example we start with chain A. Bonded interactions"
   ]
  },
  {
   "cell_type": "code",
   "execution_count": 12,
   "metadata": {},
   "outputs": [
    {
     "name": "stdout",
     "output_type": "stream",
     "text": [
      "[ bonds ]\n",
      ";  ai    aj funct            c0            c1            c2            c3\n",
      "    1     2     1 \n"
     ]
    }
   ],
   "source": [
    "!grep \"bonds\" -A 2 topol_Protein_chain_A.itp"
   ]
  },
  {
   "cell_type": "markdown",
   "metadata": {},
   "source": [
    "Pair interactions"
   ]
  },
  {
   "cell_type": "code",
   "execution_count": 13,
   "metadata": {},
   "outputs": [
    {
     "name": "stdout",
     "output_type": "stream",
     "text": [
      "[ pairs ]\n",
      ";  ai    aj funct            c0            c1            c2            c3\n",
      "    1     8     1 \n"
     ]
    }
   ],
   "source": [
    "!grep \"pairs\" -A 2  topol_Protein_chain_A.itp"
   ]
  },
  {
   "cell_type": "markdown",
   "metadata": {},
   "source": [
    "Angle interactions"
   ]
  },
  {
   "cell_type": "code",
   "execution_count": 14,
   "metadata": {},
   "outputs": [
    {
     "name": "stdout",
     "output_type": "stream",
     "text": [
      "[ angles ]\n",
      ";  ai    aj    ak funct            c0            c1            c2            c3\n",
      "    2     1     3     5 \n"
     ]
    }
   ],
   "source": [
    "!grep \"angles\" -A 2 topol_Protein_chain_A.itp"
   ]
  },
  {
   "cell_type": "markdown",
   "metadata": {},
   "source": [
    "Dihedral interactions"
   ]
  },
  {
   "cell_type": "code",
   "execution_count": 15,
   "metadata": {},
   "outputs": [
    {
     "name": "stdout",
     "output_type": "stream",
     "text": [
      "[ dihedrals ]\n",
      ";  ai    aj    ak    al funct            c0            c1            c2            c3            c4            c5\n",
      "    2     1     5     6     9 \n",
      "--\n",
      "[ dihedrals ]\n",
      ";  ai    aj    ak    al funct            c0            c1            c2            c3\n",
      "   20     5    22    21     2 \n"
     ]
    }
   ],
   "source": [
    "!grep \"dihedrals\" -A 2 topol_Protein_chain_A.itp"
   ]
  },
  {
   "cell_type": "markdown",
   "metadata": {
    "nbpresent": {
     "id": "ef42771f-cf92-4505-a904-9e5b8f9ab0d1"
    }
   },
   "source": [
    "## Water and position restraints"
   ]
  },
  {
   "cell_type": "markdown",
   "metadata": {
    "nbpresent": {
     "id": "b43f5e17-887e-415c-a7da-1b61d8e53b93"
    }
   },
   "source": [
    "The remainder of the file involves including a few other useful/necessary topologies, starting with position restraints. The \"posre.itp\" file was generated by `gmx pdb2gmx`; it defines a force constant used to keep atoms in place during equilibration (more on this later)."
   ]
  },
  {
   "cell_type": "code",
   "execution_count": 16,
   "metadata": {},
   "outputs": [
    {
     "name": "stdout",
     "output_type": "stream",
     "text": [
      "topol_Protein_chain_A.itp:#include \"posre_Protein_chain_A.itp\"\n",
      "topol_Protein_chain_L.itp:#include \"posre_Protein_chain_L.itp\"\n"
     ]
    }
   ],
   "source": [
    "!grep \"posre\" topol*.itp"
   ]
  },
  {
   "cell_type": "code",
   "execution_count": 17,
   "metadata": {
    "nbpresent": {
     "id": "04e0801a-6444-4279-b4ed-36245a918cba"
    },
    "scrolled": true
   },
   "outputs": [
    {
     "name": "stdout",
     "output_type": "stream",
     "text": [
      "; In this topology include file, you will find position restraint\n",
      "; entries for all the heavy atoms in your original pdb file.\n",
      "; This means that all the protons which were added by pdb2gmx are\n",
      "; not restrained.\n",
      "\n",
      "[ position_restraints ]\n",
      "; atom  type      fx      fy      fz\n",
      "     1     1  1000  1000  1000\n",
      "     5     1  1000  1000  1000\n",
      "     7     1  1000  1000  1000\n",
      "     9     1  1000  1000  1000\n",
      "    13     1  1000  1000  1000\n",
      "    16     1  1000  1000  1000\n",
      "    20     1  1000  1000  1000\n",
      "    21     1  1000  1000  1000\n",
      "    22     1  1000  1000  1000\n",
      "    24     1  1000  1000  1000\n",
      "    26     1  1000  1000  1000\n",
      "    28     1  1000  1000  1000\n",
      "    32     1  1000  1000  1000\n",
      "    36     1  1000  1000  1000\n",
      "    37     1  1000  1000  1000\n",
      "    38     1  1000  1000  1000\n",
      "    40     1  1000  1000  1000\n",
      "    43     1  1000  1000  1000\n",
      "    44     1  1000  1000  1000\n",
      "    45     1  1000  1000  1000\n",
      "    47     1  1000  1000  1000\n",
      "    50     1  1000  1000  1000\n",
      "    51     1  1000  1000  1000\n",
      "    52     1  1000  1000  1000\n",
      "    54     1  1000  1000  1000\n",
      "    56     1  1000  1000  1000\n",
      "    59     1  1000  1000  1000\n",
      "    62     1  1000  1000  1000\n",
      "    63     1  1000  1000  1000\n",
      "    64     1  1000  1000  1000\n",
      "    67     1  1000  1000  1000\n",
      "    68     1  1000  1000  1000\n",
      "    69     1  1000  1000  1000\n",
      "    71     1  1000  1000  1000\n",
      "    73     1  1000  1000  1000\n",
      "    76     1  1000  1000  1000\n",
      "    79     1  1000  1000  1000\n",
      "    80     1  1000  1000  1000\n",
      "    81     1  1000  1000  1000\n",
      "    82     1  1000  1000  1000\n",
      "    83     1  1000  1000  1000\n",
      "    84     1  1000  1000  1000\n",
      "    86     1  1000  1000  1000\n",
      "    88     1  1000  1000  1000\n",
      "    91     1  1000  1000  1000\n",
      "    93     1  1000  1000  1000\n",
      "    94     1  1000  1000  1000\n",
      "    95     1  1000  1000  1000\n",
      "    97     1  1000  1000  1000\n",
      "    99     1  1000  1000  1000\n",
      "   102     1  1000  1000  1000\n",
      "   105     1  1000  1000  1000\n",
      "   108     1  1000  1000  1000\n",
      "   111     1  1000  1000  1000\n",
      "   115     1  1000  1000  1000\n",
      "   116     1  1000  1000  1000\n",
      "   117     1  1000  1000  1000\n",
      "   119     1  1000  1000  1000\n",
      "   121     1  1000  1000  1000\n",
      "   124     1  1000  1000  1000\n",
      "   125     1  1000  1000  1000\n",
      "   126     1  1000  1000  1000\n",
      "   127     1  1000  1000  1000\n",
      "   128     1  1000  1000  1000\n",
      "   129     1  1000  1000  1000\n",
      "   131     1  1000  1000  1000\n",
      "   134     1  1000  1000  1000\n",
      "   135     1  1000  1000  1000\n",
      "   136     1  1000  1000  1000\n",
      "   138     1  1000  1000  1000\n",
      "   140     1  1000  1000  1000\n",
      "   143     1  1000  1000  1000\n",
      "   146     1  1000  1000  1000\n",
      "   147     1  1000  1000  1000\n",
      "   148     1  1000  1000  1000\n",
      "   149     1  1000  1000  1000\n",
      "   150     1  1000  1000  1000\n",
      "   151     1  1000  1000  1000\n",
      "   153     1  1000  1000  1000\n",
      "   155     1  1000  1000  1000\n",
      "   158     1  1000  1000  1000\n",
      "   160     1  1000  1000  1000\n",
      "   161     1  1000  1000  1000\n",
      "   162     1  1000  1000  1000\n",
      "   163     1  1000  1000  1000\n",
      "   166     1  1000  1000  1000\n",
      "   168     1  1000  1000  1000\n",
      "   171     1  1000  1000  1000\n",
      "   174     1  1000  1000  1000\n",
      "   175     1  1000  1000  1000\n",
      "   176     1  1000  1000  1000\n",
      "   178     1  1000  1000  1000\n",
      "   180     1  1000  1000  1000\n",
      "   183     1  1000  1000  1000\n",
      "   184     1  1000  1000  1000\n",
      "   186     1  1000  1000  1000\n",
      "   188     1  1000  1000  1000\n",
      "   189     1  1000  1000  1000\n",
      "   190     1  1000  1000  1000\n",
      "   192     1  1000  1000  1000\n",
      "   194     1  1000  1000  1000\n",
      "   196     1  1000  1000  1000\n",
      "   198     1  1000  1000  1000\n",
      "   199     1  1000  1000  1000\n",
      "   200     1  1000  1000  1000\n",
      "   202     1  1000  1000  1000\n",
      "   204     1  1000  1000  1000\n",
      "   207     1  1000  1000  1000\n",
      "   210     1  1000  1000  1000\n",
      "   211     1  1000  1000  1000\n",
      "   212     1  1000  1000  1000\n",
      "   215     1  1000  1000  1000\n",
      "   216     1  1000  1000  1000\n",
      "   217     1  1000  1000  1000\n",
      "   219     1  1000  1000  1000\n",
      "   221     1  1000  1000  1000\n",
      "   225     1  1000  1000  1000\n",
      "   226     1  1000  1000  1000\n",
      "   227     1  1000  1000  1000\n",
      "   229     1  1000  1000  1000\n",
      "   231     1  1000  1000  1000\n",
      "   234     1  1000  1000  1000\n",
      "   236     1  1000  1000  1000\n",
      "   240     1  1000  1000  1000\n",
      "   244     1  1000  1000  1000\n",
      "   245     1  1000  1000  1000\n",
      "   246     1  1000  1000  1000\n",
      "   248     1  1000  1000  1000\n",
      "   250     1  1000  1000  1000\n",
      "   253     1  1000  1000  1000\n",
      "   255     1  1000  1000  1000\n",
      "   259     1  1000  1000  1000\n",
      "   263     1  1000  1000  1000\n",
      "   264     1  1000  1000  1000\n",
      "   265     1  1000  1000  1000\n",
      "   267     1  1000  1000  1000\n",
      "   269     1  1000  1000  1000\n",
      "   271     1  1000  1000  1000\n",
      "   275     1  1000  1000  1000\n",
      "   278     1  1000  1000  1000\n",
      "   282     1  1000  1000  1000\n",
      "   283     1  1000  1000  1000\n",
      "   284     1  1000  1000  1000\n",
      "   286     1  1000  1000  1000\n",
      "   288     1  1000  1000  1000\n",
      "   291     1  1000  1000  1000\n",
      "   292     1  1000  1000  1000\n",
      "   293     1  1000  1000  1000\n",
      "   296     1  1000  1000  1000\n",
      "   297     1  1000  1000  1000\n",
      "   298     1  1000  1000  1000\n",
      "   300     1  1000  1000  1000\n",
      "   302     1  1000  1000  1000\n",
      "   305     1  1000  1000  1000\n",
      "   308     1  1000  1000  1000\n",
      "   309     1  1000  1000  1000\n",
      "   310     1  1000  1000  1000\n",
      "   311     1  1000  1000  1000\n",
      "   312     1  1000  1000  1000\n",
      "   313     1  1000  1000  1000\n",
      "   315     1  1000  1000  1000\n",
      "   317     1  1000  1000  1000\n",
      "   320     1  1000  1000  1000\n",
      "   323     1  1000  1000  1000\n",
      "   324     1  1000  1000  1000\n",
      "   325     1  1000  1000  1000\n",
      "   326     1  1000  1000  1000\n",
      "   327     1  1000  1000  1000\n",
      "   328     1  1000  1000  1000\n",
      "   330     1  1000  1000  1000\n",
      "   332     1  1000  1000  1000\n",
      "   335     1  1000  1000  1000\n",
      "   336     1  1000  1000  1000\n",
      "   337     1  1000  1000  1000\n",
      "   340     1  1000  1000  1000\n",
      "   341     1  1000  1000  1000\n",
      "   342     1  1000  1000  1000\n",
      "   344     1  1000  1000  1000\n",
      "   346     1  1000  1000  1000\n",
      "   349     1  1000  1000  1000\n",
      "   352     1  1000  1000  1000\n",
      "   353     1  1000  1000  1000\n",
      "   354     1  1000  1000  1000\n",
      "   355     1  1000  1000  1000\n",
      "   356     1  1000  1000  1000\n",
      "   357     1  1000  1000  1000\n",
      "   359     1  1000  1000  1000\n",
      "   362     1  1000  1000  1000\n",
      "   363     1  1000  1000  1000\n",
      "   364     1  1000  1000  1000\n",
      "   366     1  1000  1000  1000\n",
      "   368     1  1000  1000  1000\n",
      "   371     1  1000  1000  1000\n",
      "   372     1  1000  1000  1000\n",
      "   374     1  1000  1000  1000\n",
      "   376     1  1000  1000  1000\n",
      "   378     1  1000  1000  1000\n",
      "   380     1  1000  1000  1000\n",
      "   382     1  1000  1000  1000\n",
      "   383     1  1000  1000  1000\n",
      "   384     1  1000  1000  1000\n",
      "   386     1  1000  1000  1000\n",
      "   388     1  1000  1000  1000\n",
      "   391     1  1000  1000  1000\n",
      "   393     1  1000  1000  1000\n",
      "   394     1  1000  1000  1000\n",
      "   395     1  1000  1000  1000\n",
      "   397     1  1000  1000  1000\n",
      "   400     1  1000  1000  1000\n",
      "   401     1  1000  1000  1000\n",
      "   402     1  1000  1000  1000\n",
      "   404     1  1000  1000  1000\n",
      "   407     1  1000  1000  1000\n",
      "   408     1  1000  1000  1000\n",
      "   409     1  1000  1000  1000\n",
      "   411     1  1000  1000  1000\n",
      "   413     1  1000  1000  1000\n",
      "   415     1  1000  1000  1000\n",
      "   417     1  1000  1000  1000\n",
      "   421     1  1000  1000  1000\n",
      "   422     1  1000  1000  1000\n",
      "   423     1  1000  1000  1000\n",
      "   425     1  1000  1000  1000\n",
      "   427     1  1000  1000  1000\n",
      "   429     1  1000  1000  1000\n",
      "   433     1  1000  1000  1000\n",
      "   436     1  1000  1000  1000\n",
      "   440     1  1000  1000  1000\n",
      "   441     1  1000  1000  1000\n",
      "   442     1  1000  1000  1000\n",
      "   444     1  1000  1000  1000\n",
      "   446     1  1000  1000  1000\n",
      "   449     1  1000  1000  1000\n",
      "   451     1  1000  1000  1000\n",
      "   455     1  1000  1000  1000\n",
      "   459     1  1000  1000  1000\n",
      "   460     1  1000  1000  1000\n",
      "   461     1  1000  1000  1000\n",
      "   463     1  1000  1000  1000\n",
      "   465     1  1000  1000  1000\n",
      "   468     1  1000  1000  1000\n",
      "   470     1  1000  1000  1000\n",
      "   471     1  1000  1000  1000\n",
      "   472     1  1000  1000  1000\n",
      "   474     1  1000  1000  1000\n",
      "   476     1  1000  1000  1000\n",
      "   479     1  1000  1000  1000\n",
      "   482     1  1000  1000  1000\n",
      "   483     1  1000  1000  1000\n",
      "   484     1  1000  1000  1000\n",
      "   485     1  1000  1000  1000\n",
      "   486     1  1000  1000  1000\n",
      "   487     1  1000  1000  1000\n",
      "   489     1  1000  1000  1000\n",
      "   491     1  1000  1000  1000\n",
      "   494     1  1000  1000  1000\n",
      "   495     1  1000  1000  1000\n",
      "   497     1  1000  1000  1000\n",
      "   499     1  1000  1000  1000\n",
      "   501     1  1000  1000  1000\n",
      "   503     1  1000  1000  1000\n",
      "   505     1  1000  1000  1000\n",
      "   506     1  1000  1000  1000\n",
      "   507     1  1000  1000  1000\n",
      "   509     1  1000  1000  1000\n",
      "   511     1  1000  1000  1000\n",
      "   514     1  1000  1000  1000\n",
      "   515     1  1000  1000  1000\n",
      "   517     1  1000  1000  1000\n",
      "   519     1  1000  1000  1000\n",
      "   520     1  1000  1000  1000\n",
      "   522     1  1000  1000  1000\n",
      "   524     1  1000  1000  1000\n",
      "   526     1  1000  1000  1000\n",
      "   527     1  1000  1000  1000\n",
      "   528     1  1000  1000  1000\n",
      "   530     1  1000  1000  1000\n",
      "   532     1  1000  1000  1000\n",
      "   534     1  1000  1000  1000\n",
      "   538     1  1000  1000  1000\n",
      "   541     1  1000  1000  1000\n",
      "   545     1  1000  1000  1000\n",
      "   546     1  1000  1000  1000\n",
      "   547     1  1000  1000  1000\n",
      "   549     1  1000  1000  1000\n",
      "   551     1  1000  1000  1000\n",
      "   554     1  1000  1000  1000\n",
      "   556     1  1000  1000  1000\n",
      "   560     1  1000  1000  1000\n",
      "   564     1  1000  1000  1000\n",
      "   565     1  1000  1000  1000\n",
      "   566     1  1000  1000  1000\n",
      "   568     1  1000  1000  1000\n",
      "   570     1  1000  1000  1000\n",
      "   572     1  1000  1000  1000\n",
      "   574     1  1000  1000  1000\n",
      "   578     1  1000  1000  1000\n",
      "   579     1  1000  1000  1000\n",
      "   580     1  1000  1000  1000\n",
      "   582     1  1000  1000  1000\n",
      "   584     1  1000  1000  1000\n",
      "   588     1  1000  1000  1000\n",
      "   589     1  1000  1000  1000\n",
      "   590     1  1000  1000  1000\n",
      "   592     1  1000  1000  1000\n",
      "   594     1  1000  1000  1000\n",
      "   598     1  1000  1000  1000\n",
      "   599     1  1000  1000  1000\n",
      "   600     1  1000  1000  1000\n",
      "   602     1  1000  1000  1000\n",
      "   604     1  1000  1000  1000\n",
      "   607     1  1000  1000  1000\n",
      "   609     1  1000  1000  1000\n",
      "   610     1  1000  1000  1000\n",
      "   612     1  1000  1000  1000\n",
      "   613     1  1000  1000  1000\n",
      "   615     1  1000  1000  1000\n",
      "   616     1  1000  1000  1000\n",
      "   617     1  1000  1000  1000\n",
      "   619     1  1000  1000  1000\n",
      "   621     1  1000  1000  1000\n",
      "   624     1  1000  1000  1000\n",
      "   626     1  1000  1000  1000\n",
      "   627     1  1000  1000  1000\n",
      "   628     1  1000  1000  1000\n",
      "   630     1  1000  1000  1000\n",
      "   632     1  1000  1000  1000\n",
      "   635     1  1000  1000  1000\n",
      "   637     1  1000  1000  1000\n",
      "   641     1  1000  1000  1000\n",
      "   645     1  1000  1000  1000\n",
      "   646     1  1000  1000  1000\n",
      "   647     1  1000  1000  1000\n",
      "   649     1  1000  1000  1000\n",
      "   651     1  1000  1000  1000\n",
      "   654     1  1000  1000  1000\n",
      "   655     1  1000  1000  1000\n",
      "   657     1  1000  1000  1000\n",
      "   659     1  1000  1000  1000\n",
      "   660     1  1000  1000  1000\n",
      "   662     1  1000  1000  1000\n",
      "   664     1  1000  1000  1000\n",
      "   666     1  1000  1000  1000\n",
      "   667     1  1000  1000  1000\n",
      "   668     1  1000  1000  1000\n",
      "   670     1  1000  1000  1000\n",
      "   672     1  1000  1000  1000\n",
      "   675     1  1000  1000  1000\n",
      "   678     1  1000  1000  1000\n",
      "   679     1  1000  1000  1000\n",
      "   680     1  1000  1000  1000\n",
      "   683     1  1000  1000  1000\n",
      "   684     1  1000  1000  1000\n",
      "   685     1  1000  1000  1000\n",
      "   687     1  1000  1000  1000\n",
      "   689     1  1000  1000  1000\n",
      "   693     1  1000  1000  1000\n",
      "   694     1  1000  1000  1000\n",
      "   695     1  1000  1000  1000\n",
      "   697     1  1000  1000  1000\n",
      "   699     1  1000  1000  1000\n",
      "   702     1  1000  1000  1000\n",
      "   705     1  1000  1000  1000\n",
      "   708     1  1000  1000  1000\n",
      "   711     1  1000  1000  1000\n",
      "   715     1  1000  1000  1000\n",
      "   716     1  1000  1000  1000\n",
      "   717     1  1000  1000  1000\n",
      "   719     1  1000  1000  1000\n",
      "   721     1  1000  1000  1000\n",
      "   724     1  1000  1000  1000\n",
      "   727     1  1000  1000  1000\n",
      "   730     1  1000  1000  1000\n",
      "   732     1  1000  1000  1000\n",
      "   733     1  1000  1000  1000\n",
      "   736     1  1000  1000  1000\n",
      "   739     1  1000  1000  1000\n",
      "   740     1  1000  1000  1000\n",
      "   741     1  1000  1000  1000\n",
      "   743     1  1000  1000  1000\n",
      "   745     1  1000  1000  1000\n",
      "   748     1  1000  1000  1000\n",
      "   749     1  1000  1000  1000\n",
      "   751     1  1000  1000  1000\n",
      "   753     1  1000  1000  1000\n",
      "   755     1  1000  1000  1000\n",
      "   757     1  1000  1000  1000\n",
      "   759     1  1000  1000  1000\n",
      "   760     1  1000  1000  1000\n",
      "   761     1  1000  1000  1000\n",
      "   763     1  1000  1000  1000\n",
      "   765     1  1000  1000  1000\n",
      "   768     1  1000  1000  1000\n",
      "   771     1  1000  1000  1000\n",
      "   774     1  1000  1000  1000\n",
      "   777     1  1000  1000  1000\n",
      "   781     1  1000  1000  1000\n",
      "   782     1  1000  1000  1000\n",
      "   783     1  1000  1000  1000\n",
      "   785     1  1000  1000  1000\n",
      "   787     1  1000  1000  1000\n",
      "   789     1  1000  1000  1000\n",
      "   793     1  1000  1000  1000\n",
      "   797     1  1000  1000  1000\n",
      "   798     1  1000  1000  1000\n",
      "   799     1  1000  1000  1000\n",
      "   801     1  1000  1000  1000\n",
      "   803     1  1000  1000  1000\n",
      "   806     1  1000  1000  1000\n",
      "   809     1  1000  1000  1000\n",
      "   812     1  1000  1000  1000\n",
      "   814     1  1000  1000  1000\n",
      "   815     1  1000  1000  1000\n",
      "   818     1  1000  1000  1000\n",
      "   821     1  1000  1000  1000\n",
      "   822     1  1000  1000  1000\n",
      "   823     1  1000  1000  1000\n",
      "   825     1  1000  1000  1000\n",
      "   827     1  1000  1000  1000\n",
      "   829     1  1000  1000  1000\n",
      "   833     1  1000  1000  1000\n",
      "   837     1  1000  1000  1000\n",
      "   838     1  1000  1000  1000\n",
      "   839     1  1000  1000  1000\n",
      "   841     1  1000  1000  1000\n",
      "   844     1  1000  1000  1000\n",
      "   845     1  1000  1000  1000\n",
      "   846     1  1000  1000  1000\n",
      "   848     1  1000  1000  1000\n",
      "   850     1  1000  1000  1000\n",
      "   853     1  1000  1000  1000\n",
      "   854     1  1000  1000  1000\n",
      "   855     1  1000  1000  1000\n",
      "   856     1  1000  1000  1000\n",
      "   857     1  1000  1000  1000\n",
      "   858     1  1000  1000  1000\n",
      "   860     1  1000  1000  1000\n",
      "   862     1  1000  1000  1000\n",
      "   865     1  1000  1000  1000\n",
      "   868     1  1000  1000  1000\n",
      "   871     1  1000  1000  1000\n",
      "   873     1  1000  1000  1000\n",
      "   874     1  1000  1000  1000\n",
      "   877     1  1000  1000  1000\n",
      "   880     1  1000  1000  1000\n",
      "   881     1  1000  1000  1000\n",
      "   882     1  1000  1000  1000\n",
      "   884     1  1000  1000  1000\n",
      "   886     1  1000  1000  1000\n",
      "   889     1  1000  1000  1000\n",
      "   890     1  1000  1000  1000\n",
      "   891     1  1000  1000  1000\n",
      "   894     1  1000  1000  1000\n",
      "   895     1  1000  1000  1000\n",
      "   896     1  1000  1000  1000\n",
      "   898     1  1000  1000  1000\n",
      "   900     1  1000  1000  1000\n",
      "   902     1  1000  1000  1000\n",
      "   904     1  1000  1000  1000\n",
      "   908     1  1000  1000  1000\n",
      "   909     1  1000  1000  1000\n",
      "   910     1  1000  1000  1000\n",
      "   912     1  1000  1000  1000\n",
      "   914     1  1000  1000  1000\n",
      "   917     1  1000  1000  1000\n",
      "   920     1  1000  1000  1000\n",
      "   921     1  1000  1000  1000\n",
      "   922     1  1000  1000  1000\n",
      "   923     1  1000  1000  1000\n",
      "   924     1  1000  1000  1000\n",
      "   925     1  1000  1000  1000\n",
      "   927     1  1000  1000  1000\n",
      "   929     1  1000  1000  1000\n",
      "   932     1  1000  1000  1000\n",
      "   935     1  1000  1000  1000\n",
      "   936     1  1000  1000  1000\n",
      "   937     1  1000  1000  1000\n",
      "   940     1  1000  1000  1000\n",
      "   941     1  1000  1000  1000\n",
      "   942     1  1000  1000  1000\n",
      "   944     1  1000  1000  1000\n",
      "   946     1  1000  1000  1000\n",
      "   949     1  1000  1000  1000\n",
      "   952     1  1000  1000  1000\n",
      "   953     1  1000  1000  1000\n",
      "   954     1  1000  1000  1000\n",
      "   955     1  1000  1000  1000\n",
      "   956     1  1000  1000  1000\n",
      "   957     1  1000  1000  1000\n",
      "   959     1  1000  1000  1000\n",
      "   961     1  1000  1000  1000\n",
      "   964     1  1000  1000  1000\n",
      "   967     1  1000  1000  1000\n",
      "   968     1  1000  1000  1000\n",
      "   969     1  1000  1000  1000\n",
      "   970     1  1000  1000  1000\n",
      "   971     1  1000  1000  1000\n",
      "   972     1  1000  1000  1000\n",
      "   974     1  1000  1000  1000\n",
      "   977     1  1000  1000  1000\n",
      "   978     1  1000  1000  1000\n",
      "   979     1  1000  1000  1000\n",
      "   981     1  1000  1000  1000\n",
      "   984     1  1000  1000  1000\n",
      "   985     1  1000  1000  1000\n",
      "   986     1  1000  1000  1000\n",
      "   988     1  1000  1000  1000\n",
      "   990     1  1000  1000  1000\n",
      "   993     1  1000  1000  1000\n",
      "   996     1  1000  1000  1000\n",
      "   997     1  1000  1000  1000\n",
      "   998     1  1000  1000  1000\n",
      "   999     1  1000  1000  1000\n",
      "  1000     1  1000  1000  1000\n",
      "  1001     1  1000  1000  1000\n",
      "  1003     1  1000  1000  1000\n",
      "  1005     1  1000  1000  1000\n",
      "  1009     1  1000  1000  1000\n",
      "  1010     1  1000  1000  1000\n",
      "  1011     1  1000  1000  1000\n",
      "  1013     1  1000  1000  1000\n",
      "  1015     1  1000  1000  1000\n",
      "  1017     1  1000  1000  1000\n",
      "  1021     1  1000  1000  1000\n",
      "  1025     1  1000  1000  1000\n",
      "  1026     1  1000  1000  1000\n",
      "  1027     1  1000  1000  1000\n",
      "  1029     1  1000  1000  1000\n",
      "  1031     1  1000  1000  1000\n",
      "  1034     1  1000  1000  1000\n",
      "  1035     1  1000  1000  1000\n",
      "  1036     1  1000  1000  1000\n",
      "  1038     1  1000  1000  1000\n",
      "  1040     1  1000  1000  1000\n",
      "  1042     1  1000  1000  1000\n",
      "  1043     1  1000  1000  1000\n",
      "  1044     1  1000  1000  1000\n",
      "  1046     1  1000  1000  1000\n",
      "  1048     1  1000  1000  1000\n",
      "  1051     1  1000  1000  1000\n",
      "  1054     1  1000  1000  1000\n",
      "  1055     1  1000  1000  1000\n",
      "  1056     1  1000  1000  1000\n",
      "  1057     1  1000  1000  1000\n",
      "  1058     1  1000  1000  1000\n",
      "  1059     1  1000  1000  1000\n",
      "  1061     1  1000  1000  1000\n",
      "  1063     1  1000  1000  1000\n",
      "  1065     1  1000  1000  1000\n",
      "  1069     1  1000  1000  1000\n",
      "  1073     1  1000  1000  1000\n",
      "  1074     1  1000  1000  1000\n",
      "  1075     1  1000  1000  1000\n",
      "  1077     1  1000  1000  1000\n",
      "  1079     1  1000  1000  1000\n",
      "  1082     1  1000  1000  1000\n",
      "  1085     1  1000  1000  1000\n",
      "  1086     1  1000  1000  1000\n",
      "  1087     1  1000  1000  1000\n",
      "  1088     1  1000  1000  1000\n",
      "  1089     1  1000  1000  1000\n",
      "  1090     1  1000  1000  1000\n",
      "  1092     1  1000  1000  1000\n",
      "  1094     1  1000  1000  1000\n",
      "  1096     1  1000  1000  1000\n",
      "  1100     1  1000  1000  1000\n",
      "  1104     1  1000  1000  1000\n",
      "  1105     1  1000  1000  1000\n",
      "  1106     1  1000  1000  1000\n",
      "  1108     1  1000  1000  1000\n",
      "  1110     1  1000  1000  1000\n",
      "  1112     1  1000  1000  1000\n",
      "  1116     1  1000  1000  1000\n",
      "  1120     1  1000  1000  1000\n",
      "  1121     1  1000  1000  1000\n",
      "  1122     1  1000  1000  1000\n",
      "  1124     1  1000  1000  1000\n",
      "  1126     1  1000  1000  1000\n",
      "  1128     1  1000  1000  1000\n",
      "  1132     1  1000  1000  1000\n",
      "  1135     1  1000  1000  1000\n",
      "  1139     1  1000  1000  1000\n",
      "  1140     1  1000  1000  1000\n",
      "  1141     1  1000  1000  1000\n",
      "  1143     1  1000  1000  1000\n",
      "  1145     1  1000  1000  1000\n",
      "  1148     1  1000  1000  1000\n",
      "  1151     1  1000  1000  1000\n",
      "  1154     1  1000  1000  1000\n",
      "  1157     1  1000  1000  1000\n",
      "  1161     1  1000  1000  1000\n",
      "  1162     1  1000  1000  1000\n",
      "  1163     1  1000  1000  1000\n",
      "  1165     1  1000  1000  1000\n",
      "  1167     1  1000  1000  1000\n",
      "  1170     1  1000  1000  1000\n",
      "  1171     1  1000  1000  1000\n",
      "  1172     1  1000  1000  1000\n",
      "  1174     1  1000  1000  1000\n",
      "  1176     1  1000  1000  1000\n",
      "  1178     1  1000  1000  1000\n",
      "  1179     1  1000  1000  1000\n",
      "  1180     1  1000  1000  1000\n",
      "  1182     1  1000  1000  1000\n",
      "  1184     1  1000  1000  1000\n",
      "  1187     1  1000  1000  1000\n",
      "  1188     1  1000  1000  1000\n",
      "  1189     1  1000  1000  1000\n",
      "  1192     1  1000  1000  1000\n",
      "  1193     1  1000  1000  1000\n",
      "  1194     1  1000  1000  1000\n",
      "  1196     1  1000  1000  1000\n",
      "  1198     1  1000  1000  1000\n",
      "  1201     1  1000  1000  1000\n",
      "  1204     1  1000  1000  1000\n",
      "  1207     1  1000  1000  1000\n",
      "  1209     1  1000  1000  1000\n",
      "  1210     1  1000  1000  1000\n",
      "  1213     1  1000  1000  1000\n",
      "  1216     1  1000  1000  1000\n",
      "  1217     1  1000  1000  1000\n",
      "  1218     1  1000  1000  1000\n",
      "  1220     1  1000  1000  1000\n",
      "  1222     1  1000  1000  1000\n",
      "  1225     1  1000  1000  1000\n",
      "  1226     1  1000  1000  1000\n",
      "  1228     1  1000  1000  1000\n",
      "  1230     1  1000  1000  1000\n",
      "  1232     1  1000  1000  1000\n",
      "  1234     1  1000  1000  1000\n",
      "  1236     1  1000  1000  1000\n",
      "  1237     1  1000  1000  1000\n",
      "  1238     1  1000  1000  1000\n",
      "  1240     1  1000  1000  1000\n",
      "  1242     1  1000  1000  1000\n",
      "  1244     1  1000  1000  1000\n",
      "  1246     1  1000  1000  1000\n",
      "  1250     1  1000  1000  1000\n",
      "  1251     1  1000  1000  1000\n",
      "  1252     1  1000  1000  1000\n",
      "  1254     1  1000  1000  1000\n",
      "  1256     1  1000  1000  1000\n",
      "  1259     1  1000  1000  1000\n",
      "  1262     1  1000  1000  1000\n",
      "  1265     1  1000  1000  1000\n",
      "  1268     1  1000  1000  1000\n",
      "  1272     1  1000  1000  1000\n",
      "  1273     1  1000  1000  1000\n",
      "  1274     1  1000  1000  1000\n",
      "  1276     1  1000  1000  1000\n",
      "  1278     1  1000  1000  1000\n",
      "  1281     1  1000  1000  1000\n",
      "  1284     1  1000  1000  1000\n",
      "  1285     1  1000  1000  1000\n",
      "  1286     1  1000  1000  1000\n",
      "  1287     1  1000  1000  1000\n",
      "  1288     1  1000  1000  1000\n",
      "  1289     1  1000  1000  1000\n",
      "  1291     1  1000  1000  1000\n",
      "  1293     1  1000  1000  1000\n",
      "  1295     1  1000  1000  1000\n",
      "  1297     1  1000  1000  1000\n",
      "  1301     1  1000  1000  1000\n",
      "  1302     1  1000  1000  1000\n",
      "  1303     1  1000  1000  1000\n",
      "  1305     1  1000  1000  1000\n",
      "  1307     1  1000  1000  1000\n",
      "  1310     1  1000  1000  1000\n",
      "  1311     1  1000  1000  1000\n",
      "  1313     1  1000  1000  1000\n",
      "  1315     1  1000  1000  1000\n",
      "  1316     1  1000  1000  1000\n",
      "  1318     1  1000  1000  1000\n",
      "  1320     1  1000  1000  1000\n",
      "  1322     1  1000  1000  1000\n",
      "  1323     1  1000  1000  1000\n",
      "  1324     1  1000  1000  1000\n",
      "  1326     1  1000  1000  1000\n",
      "  1328     1  1000  1000  1000\n",
      "  1331     1  1000  1000  1000\n",
      "  1332     1  1000  1000  1000\n",
      "  1333     1  1000  1000  1000\n",
      "  1334     1  1000  1000  1000\n",
      "  1335     1  1000  1000  1000\n",
      "  1336     1  1000  1000  1000\n",
      "  1338     1  1000  1000  1000\n",
      "  1340     1  1000  1000  1000\n",
      "  1343     1  1000  1000  1000\n",
      "  1344     1  1000  1000  1000\n",
      "  1346     1  1000  1000  1000\n",
      "  1348     1  1000  1000  1000\n",
      "  1350     1  1000  1000  1000\n",
      "  1352     1  1000  1000  1000\n",
      "  1354     1  1000  1000  1000\n",
      "  1355     1  1000  1000  1000\n",
      "  1356     1  1000  1000  1000\n",
      "  1358     1  1000  1000  1000\n",
      "  1360     1  1000  1000  1000\n",
      "  1363     1  1000  1000  1000\n",
      "  1364     1  1000  1000  1000\n",
      "  1365     1  1000  1000  1000\n",
      "  1366     1  1000  1000  1000\n",
      "  1367     1  1000  1000  1000\n",
      "  1368     1  1000  1000  1000\n",
      "  1370     1  1000  1000  1000\n",
      "  1372     1  1000  1000  1000\n",
      "  1374     1  1000  1000  1000\n",
      "  1378     1  1000  1000  1000\n",
      "  1381     1  1000  1000  1000\n",
      "  1385     1  1000  1000  1000\n",
      "  1386     1  1000  1000  1000\n",
      "  1387     1  1000  1000  1000\n",
      "  1389     1  1000  1000  1000\n",
      "  1391     1  1000  1000  1000\n",
      "  1395     1  1000  1000  1000\n",
      "  1396     1  1000  1000  1000\n",
      "  1397     1  1000  1000  1000\n",
      "  1399     1  1000  1000  1000\n",
      "  1401     1  1000  1000  1000\n",
      "  1403     1  1000  1000  1000\n",
      "  1407     1  1000  1000  1000\n",
      "  1411     1  1000  1000  1000\n",
      "  1412     1  1000  1000  1000\n",
      "  1413     1  1000  1000  1000\n",
      "  1415     1  1000  1000  1000\n",
      "  1417     1  1000  1000  1000\n",
      "  1420     1  1000  1000  1000\n",
      "  1422     1  1000  1000  1000\n",
      "  1426     1  1000  1000  1000\n",
      "  1430     1  1000  1000  1000\n",
      "  1431     1  1000  1000  1000\n",
      "  1432     1  1000  1000  1000\n",
      "  1434     1  1000  1000  1000\n",
      "  1436     1  1000  1000  1000\n",
      "  1439     1  1000  1000  1000\n",
      "  1442     1  1000  1000  1000\n",
      "  1445     1  1000  1000  1000\n",
      "  1447     1  1000  1000  1000\n",
      "  1448     1  1000  1000  1000\n",
      "  1451     1  1000  1000  1000\n",
      "  1454     1  1000  1000  1000\n",
      "  1455     1  1000  1000  1000\n",
      "  1456     1  1000  1000  1000\n",
      "  1458     1  1000  1000  1000\n",
      "  1460     1  1000  1000  1000\n",
      "  1463     1  1000  1000  1000\n",
      "  1465     1  1000  1000  1000\n",
      "  1469     1  1000  1000  1000\n",
      "  1473     1  1000  1000  1000\n",
      "  1474     1  1000  1000  1000\n",
      "  1475     1  1000  1000  1000\n",
      "  1477     1  1000  1000  1000\n",
      "  1479     1  1000  1000  1000\n",
      "  1482     1  1000  1000  1000\n",
      "  1485     1  1000  1000  1000\n",
      "  1488     1  1000  1000  1000\n",
      "  1491     1  1000  1000  1000\n",
      "  1495     1  1000  1000  1000\n",
      "  1496     1  1000  1000  1000\n",
      "  1497     1  1000  1000  1000\n",
      "  1499     1  1000  1000  1000\n",
      "  1501     1  1000  1000  1000\n",
      "  1503     1  1000  1000  1000\n",
      "  1505     1  1000  1000  1000\n",
      "  1509     1  1000  1000  1000\n",
      "  1510     1  1000  1000  1000\n",
      "  1511     1  1000  1000  1000\n",
      "  1512     1  1000  1000  1000\n",
      "  1515     1  1000  1000  1000\n",
      "  1517     1  1000  1000  1000\n",
      "  1520     1  1000  1000  1000\n",
      "  1523     1  1000  1000  1000\n",
      "  1524     1  1000  1000  1000\n",
      "  1525     1  1000  1000  1000\n",
      "  1527     1  1000  1000  1000\n",
      "  1529     1  1000  1000  1000\n",
      "  1531     1  1000  1000  1000\n",
      "  1535     1  1000  1000  1000\n",
      "  1538     1  1000  1000  1000\n",
      "  1542     1  1000  1000  1000\n",
      "  1543     1  1000  1000  1000\n",
      "  1544     1  1000  1000  1000\n",
      "  1546     1  1000  1000  1000\n",
      "  1548     1  1000  1000  1000\n",
      "  1550     1  1000  1000  1000\n",
      "  1552     1  1000  1000  1000\n",
      "  1556     1  1000  1000  1000\n",
      "  1557     1  1000  1000  1000\n",
      "  1558     1  1000  1000  1000\n",
      "  1560     1  1000  1000  1000\n",
      "  1562     1  1000  1000  1000\n",
      "  1565     1  1000  1000  1000\n",
      "  1566     1  1000  1000  1000\n",
      "  1568     1  1000  1000  1000\n",
      "  1570     1  1000  1000  1000\n",
      "  1572     1  1000  1000  1000\n",
      "  1574     1  1000  1000  1000\n",
      "  1576     1  1000  1000  1000\n",
      "  1577     1  1000  1000  1000\n",
      "  1578     1  1000  1000  1000\n",
      "  1580     1  1000  1000  1000\n",
      "  1582     1  1000  1000  1000\n",
      "  1585     1  1000  1000  1000\n",
      "  1588     1  1000  1000  1000\n",
      "  1591     1  1000  1000  1000\n",
      "  1593     1  1000  1000  1000\n",
      "  1594     1  1000  1000  1000\n",
      "  1597     1  1000  1000  1000\n",
      "  1600     1  1000  1000  1000\n",
      "  1601     1  1000  1000  1000\n",
      "  1602     1  1000  1000  1000\n",
      "  1604     1  1000  1000  1000\n",
      "  1606     1  1000  1000  1000\n",
      "  1609     1  1000  1000  1000\n",
      "  1612     1  1000  1000  1000\n",
      "  1613     1  1000  1000  1000\n",
      "  1617     1  1000  1000  1000\n",
      "  1618     1  1000  1000  1000\n",
      "  1619     1  1000  1000  1000\n",
      "  1621     1  1000  1000  1000\n",
      "  1623     1  1000  1000  1000\n",
      "  1626     1  1000  1000  1000\n",
      "  1627     1  1000  1000  1000\n",
      "  1628     1  1000  1000  1000\n",
      "  1631     1  1000  1000  1000\n",
      "  1632     1  1000  1000  1000\n",
      "  1633     1  1000  1000  1000\n",
      "  1635     1  1000  1000  1000\n",
      "  1637     1  1000  1000  1000\n",
      "  1639     1  1000  1000  1000\n",
      "  1643     1  1000  1000  1000\n",
      "  1647     1  1000  1000  1000\n",
      "  1648     1  1000  1000  1000\n",
      "  1649     1  1000  1000  1000\n",
      "  1651     1  1000  1000  1000\n",
      "  1653     1  1000  1000  1000\n",
      "  1657     1  1000  1000  1000\n",
      "  1658     1  1000  1000  1000\n",
      "  1659     1  1000  1000  1000\n",
      "  1660     1  1000  1000  1000\n",
      "  1663     1  1000  1000  1000\n",
      "  1665     1  1000  1000  1000\n",
      "  1668     1  1000  1000  1000\n",
      "  1671     1  1000  1000  1000\n",
      "  1672     1  1000  1000  1000\n",
      "  1673     1  1000  1000  1000\n",
      "  1675     1  1000  1000  1000\n",
      "  1677     1  1000  1000  1000\n",
      "  1681     1  1000  1000  1000\n",
      "  1682     1  1000  1000  1000\n",
      "  1683     1  1000  1000  1000\n",
      "  1685     1  1000  1000  1000\n",
      "  1687     1  1000  1000  1000\n",
      "  1690     1  1000  1000  1000\n",
      "  1692     1  1000  1000  1000\n",
      "  1693     1  1000  1000  1000\n",
      "  1694     1  1000  1000  1000\n",
      "  1696     1  1000  1000  1000\n",
      "  1698     1  1000  1000  1000\n",
      "  1701     1  1000  1000  1000\n",
      "  1703     1  1000  1000  1000\n",
      "  1707     1  1000  1000  1000\n",
      "  1711     1  1000  1000  1000\n",
      "  1712     1  1000  1000  1000\n",
      "  1713     1  1000  1000  1000\n",
      "  1714     1  1000  1000  1000\n",
      "  1717     1  1000  1000  1000\n",
      "  1719     1  1000  1000  1000\n",
      "  1722     1  1000  1000  1000\n",
      "  1725     1  1000  1000  1000\n",
      "  1726     1  1000  1000  1000\n",
      "  1727     1  1000  1000  1000\n",
      "  1729     1  1000  1000  1000\n",
      "  1731     1  1000  1000  1000\n",
      "  1734     1  1000  1000  1000\n",
      "  1737     1  1000  1000  1000\n",
      "  1738     1  1000  1000  1000\n",
      "  1739     1  1000  1000  1000\n",
      "  1740     1  1000  1000  1000\n",
      "  1741     1  1000  1000  1000\n",
      "  1742     1  1000  1000  1000\n",
      "  1744     1  1000  1000  1000\n",
      "  1746     1  1000  1000  1000\n",
      "  1749     1  1000  1000  1000\n",
      "  1752     1  1000  1000  1000\n",
      "  1755     1  1000  1000  1000\n",
      "  1757     1  1000  1000  1000\n",
      "  1758     1  1000  1000  1000\n",
      "  1761     1  1000  1000  1000\n",
      "  1764     1  1000  1000  1000\n",
      "  1765     1  1000  1000  1000\n",
      "  1766     1  1000  1000  1000\n",
      "  1768     1  1000  1000  1000\n",
      "  1770     1  1000  1000  1000\n",
      "  1773     1  1000  1000  1000\n",
      "  1774     1  1000  1000  1000\n",
      "  1775     1  1000  1000  1000\n",
      "  1776     1  1000  1000  1000\n",
      "  1777     1  1000  1000  1000\n",
      "  1778     1  1000  1000  1000\n",
      "  1780     1  1000  1000  1000\n",
      "  1782     1  1000  1000  1000\n",
      "  1785     1  1000  1000  1000\n",
      "  1786     1  1000  1000  1000\n",
      "  1788     1  1000  1000  1000\n",
      "  1790     1  1000  1000  1000\n",
      "  1791     1  1000  1000  1000\n",
      "  1792     1  1000  1000  1000\n",
      "  1794     1  1000  1000  1000\n",
      "  1796     1  1000  1000  1000\n",
      "  1798     1  1000  1000  1000\n",
      "  1800     1  1000  1000  1000\n",
      "  1801     1  1000  1000  1000\n",
      "  1802     1  1000  1000  1000\n",
      "  1804     1  1000  1000  1000\n",
      "  1806     1  1000  1000  1000\n",
      "  1810     1  1000  1000  1000\n",
      "  1811     1  1000  1000  1000\n",
      "  1812     1  1000  1000  1000\n",
      "  1814     1  1000  1000  1000\n",
      "  1816     1  1000  1000  1000\n",
      "  1819     1  1000  1000  1000\n",
      "  1822     1  1000  1000  1000\n",
      "  1823     1  1000  1000  1000\n",
      "  1824     1  1000  1000  1000\n",
      "  1825     1  1000  1000  1000\n",
      "  1826     1  1000  1000  1000\n",
      "  1827     1  1000  1000  1000\n",
      "  1829     1  1000  1000  1000\n",
      "  1831     1  1000  1000  1000\n",
      "  1834     1  1000  1000  1000\n",
      "  1836     1  1000  1000  1000\n",
      "  1837     1  1000  1000  1000\n",
      "  1838     1  1000  1000  1000\n",
      "  1840     1  1000  1000  1000\n",
      "  1842     1  1000  1000  1000\n",
      "  1844     1  1000  1000  1000\n",
      "  1846     1  1000  1000  1000\n",
      "  1850     1  1000  1000  1000\n",
      "  1851     1  1000  1000  1000\n",
      "  1852     1  1000  1000  1000\n",
      "  1854     1  1000  1000  1000\n",
      "  1856     1  1000  1000  1000\n",
      "  1859     1  1000  1000  1000\n",
      "  1861     1  1000  1000  1000\n",
      "  1865     1  1000  1000  1000\n",
      "  1869     1  1000  1000  1000\n",
      "  1870     1  1000  1000  1000\n",
      "  1871     1  1000  1000  1000\n",
      "  1873     1  1000  1000  1000\n",
      "  1875     1  1000  1000  1000\n",
      "  1878     1  1000  1000  1000\n",
      "  1881     1  1000  1000  1000\n",
      "  1882     1  1000  1000  1000\n",
      "  1886     1  1000  1000  1000\n",
      "  1887     1  1000  1000  1000\n",
      "  1888     1  1000  1000  1000\n",
      "  1890     1  1000  1000  1000\n",
      "  1892     1  1000  1000  1000\n",
      "  1894     1  1000  1000  1000\n",
      "  1896     1  1000  1000  1000\n",
      "  1900     1  1000  1000  1000\n",
      "  1901     1  1000  1000  1000\n",
      "  1902     1  1000  1000  1000\n",
      "  1904     1  1000  1000  1000\n",
      "  1906     1  1000  1000  1000\n",
      "  1909     1  1000  1000  1000\n",
      "  1912     1  1000  1000  1000\n",
      "  1913     1  1000  1000  1000\n",
      "  1914     1  1000  1000  1000\n",
      "  1917     1  1000  1000  1000\n",
      "  1918     1  1000  1000  1000\n",
      "  1919     1  1000  1000  1000\n",
      "  1921     1  1000  1000  1000\n",
      "  1923     1  1000  1000  1000\n",
      "  1926     1  1000  1000  1000\n",
      "  1929     1  1000  1000  1000\n",
      "  1932     1  1000  1000  1000\n",
      "  1935     1  1000  1000  1000\n",
      "  1939     1  1000  1000  1000\n",
      "  1940     1  1000  1000  1000\n",
      "  1941     1  1000  1000  1000\n",
      "  1943     1  1000  1000  1000\n",
      "  1945     1  1000  1000  1000\n",
      "  1947     1  1000  1000  1000\n",
      "  1949     1  1000  1000  1000\n",
      "  1953     1  1000  1000  1000\n",
      "  1954     1  1000  1000  1000\n",
      "  1955     1  1000  1000  1000\n",
      "  1957     1  1000  1000  1000\n",
      "  1960     1  1000  1000  1000\n",
      "  1961     1  1000  1000  1000\n",
      "  1962     1  1000  1000  1000\n",
      "  1964     1  1000  1000  1000\n",
      "  1966     1  1000  1000  1000\n",
      "  1968     1  1000  1000  1000\n",
      "  1972     1  1000  1000  1000\n",
      "  1975     1  1000  1000  1000\n",
      "  1979     1  1000  1000  1000\n",
      "  1980     1  1000  1000  1000\n",
      "  1981     1  1000  1000  1000\n",
      "  1983     1  1000  1000  1000\n",
      "  1985     1  1000  1000  1000\n",
      "  1987     1  1000  1000  1000\n",
      "  1991     1  1000  1000  1000\n",
      "  1995     1  1000  1000  1000\n",
      "  1996     1  1000  1000  1000\n",
      "  1997     1  1000  1000  1000\n",
      "  1999     1  1000  1000  1000\n",
      "  2001     1  1000  1000  1000\n",
      "  2004     1  1000  1000  1000\n",
      "  2006     1  1000  1000  1000\n",
      "  2007     1  1000  1000  1000\n",
      "  2008     1  1000  1000  1000\n",
      "  2010     1  1000  1000  1000\n",
      "  2013     1  1000  1000  1000\n",
      "  2014     1  1000  1000  1000\n",
      "  2015     1  1000  1000  1000\n",
      "  2017     1  1000  1000  1000\n",
      "  2019     1  1000  1000  1000\n",
      "  2022     1  1000  1000  1000\n",
      "  2023     1  1000  1000  1000\n",
      "  2025     1  1000  1000  1000\n",
      "  2027     1  1000  1000  1000\n",
      "  2029     1  1000  1000  1000\n",
      "  2031     1  1000  1000  1000\n",
      "  2033     1  1000  1000  1000\n",
      "  2034     1  1000  1000  1000\n",
      "  2035     1  1000  1000  1000\n",
      "  2037     1  1000  1000  1000\n",
      "  2040     1  1000  1000  1000\n",
      "  2041     1  1000  1000  1000\n",
      "  2042     1  1000  1000  1000\n",
      "  2044     1  1000  1000  1000\n",
      "  2046     1  1000  1000  1000\n",
      "  2049     1  1000  1000  1000\n",
      "  2052     1  1000  1000  1000\n",
      "  2055     1  1000  1000  1000\n",
      "  2057     1  1000  1000  1000\n",
      "  2058     1  1000  1000  1000\n",
      "  2061     1  1000  1000  1000\n",
      "  2064     1  1000  1000  1000\n",
      "  2065     1  1000  1000  1000\n",
      "  2066     1  1000  1000  1000\n",
      "  2068     1  1000  1000  1000\n",
      "  2070     1  1000  1000  1000\n",
      "  2072     1  1000  1000  1000\n",
      "  2074     1  1000  1000  1000\n",
      "  2078     1  1000  1000  1000\n",
      "  2079     1  1000  1000  1000\n",
      "  2080     1  1000  1000  1000\n",
      "  2082     1  1000  1000  1000\n",
      "  2084     1  1000  1000  1000\n",
      "  2087     1  1000  1000  1000\n",
      "  2088     1  1000  1000  1000\n",
      "  2089     1  1000  1000  1000\n",
      "  2091     1  1000  1000  1000\n",
      "  2093     1  1000  1000  1000\n",
      "  2095     1  1000  1000  1000\n",
      "  2096     1  1000  1000  1000\n",
      "  2097     1  1000  1000  1000\n",
      "  2099     1  1000  1000  1000\n",
      "  2101     1  1000  1000  1000\n",
      "  2104     1  1000  1000  1000\n",
      "  2107     1  1000  1000  1000\n",
      "  2108     1  1000  1000  1000\n",
      "  2109     1  1000  1000  1000\n",
      "  2110     1  1000  1000  1000\n",
      "  2111     1  1000  1000  1000\n",
      "  2112     1  1000  1000  1000\n",
      "  2114     1  1000  1000  1000\n",
      "  2116     1  1000  1000  1000\n",
      "  2119     1  1000  1000  1000\n",
      "  2122     1  1000  1000  1000\n",
      "  2125     1  1000  1000  1000\n",
      "  2128     1  1000  1000  1000\n",
      "  2132     1  1000  1000  1000\n",
      "  2133     1  1000  1000  1000\n",
      "  2134     1  1000  1000  1000\n",
      "  2136     1  1000  1000  1000\n",
      "  2139     1  1000  1000  1000\n",
      "  2140     1  1000  1000  1000\n",
      "  2141     1  1000  1000  1000\n",
      "  2143     1  1000  1000  1000\n",
      "  2145     1  1000  1000  1000\n",
      "  2148     1  1000  1000  1000\n",
      "  2151     1  1000  1000  1000\n",
      "  2154     1  1000  1000  1000\n",
      "  2156     1  1000  1000  1000\n",
      "  2157     1  1000  1000  1000\n",
      "  2160     1  1000  1000  1000\n",
      "  2163     1  1000  1000  1000\n",
      "  2164     1  1000  1000  1000\n",
      "  2165     1  1000  1000  1000\n",
      "  2167     1  1000  1000  1000\n",
      "  2169     1  1000  1000  1000\n",
      "  2172     1  1000  1000  1000\n",
      "  2175     1  1000  1000  1000\n",
      "  2176     1  1000  1000  1000\n",
      "  2177     1  1000  1000  1000\n",
      "  2180     1  1000  1000  1000\n",
      "  2181     1  1000  1000  1000\n",
      "  2182     1  1000  1000  1000\n",
      "  2184     1  1000  1000  1000\n",
      "  2186     1  1000  1000  1000\n",
      "  2189     1  1000  1000  1000\n",
      "  2191     1  1000  1000  1000\n",
      "  2192     1  1000  1000  1000\n",
      "  2193     1  1000  1000  1000\n",
      "  2195     1  1000  1000  1000\n",
      "  2197     1  1000  1000  1000\n",
      "  2199     1  1000  1000  1000\n",
      "  2201     1  1000  1000  1000\n",
      "  2205     1  1000  1000  1000\n",
      "  2206     1  1000  1000  1000\n",
      "  2207     1  1000  1000  1000\n",
      "  2209     1  1000  1000  1000\n",
      "  2211     1  1000  1000  1000\n",
      "  2214     1  1000  1000  1000\n",
      "  2217     1  1000  1000  1000\n",
      "  2220     1  1000  1000  1000\n",
      "  2222     1  1000  1000  1000\n",
      "  2223     1  1000  1000  1000\n",
      "  2226     1  1000  1000  1000\n",
      "  2229     1  1000  1000  1000\n",
      "  2230     1  1000  1000  1000\n",
      "  2231     1  1000  1000  1000\n",
      "  2233     1  1000  1000  1000\n",
      "  2235     1  1000  1000  1000\n",
      "  2238     1  1000  1000  1000\n",
      "  2240     1  1000  1000  1000\n",
      "  2244     1  1000  1000  1000\n",
      "  2248     1  1000  1000  1000\n",
      "  2249     1  1000  1000  1000\n",
      "  2250     1  1000  1000  1000\n",
      "  2252     1  1000  1000  1000\n",
      "  2254     1  1000  1000  1000\n",
      "  2257     1  1000  1000  1000\n",
      "  2260     1  1000  1000  1000\n",
      "  2263     1  1000  1000  1000\n",
      "  2266     1  1000  1000  1000\n",
      "  2270     1  1000  1000  1000\n",
      "  2271     1  1000  1000  1000\n",
      "  2272     1  1000  1000  1000\n",
      "  2274     1  1000  1000  1000\n",
      "  2276     1  1000  1000  1000\n",
      "  2279     1  1000  1000  1000\n",
      "  2282     1  1000  1000  1000\n",
      "  2283     1  1000  1000  1000\n",
      "  2287     1  1000  1000  1000\n",
      "  2288     1  1000  1000  1000\n",
      "  2289     1  1000  1000  1000\n",
      "  2291     1  1000  1000  1000\n",
      "  2293     1  1000  1000  1000\n",
      "  2296     1  1000  1000  1000\n",
      "  2298     1  1000  1000  1000\n",
      "  2302     1  1000  1000  1000\n",
      "  2306     1  1000  1000  1000\n",
      "  2307     1  1000  1000  1000\n",
      "  2308     1  1000  1000  1000\n",
      "  2310     1  1000  1000  1000\n",
      "  2312     1  1000  1000  1000\n",
      "  2315     1  1000  1000  1000\n",
      "  2318     1  1000  1000  1000\n",
      "  2319     1  1000  1000  1000\n",
      "  2320     1  1000  1000  1000\n",
      "  2321     1  1000  1000  1000\n",
      "  2322     1  1000  1000  1000\n",
      "  2323     1  1000  1000  1000\n",
      "  2325     1  1000  1000  1000\n",
      "  2327     1  1000  1000  1000\n",
      "  2329     1  1000  1000  1000\n",
      "  2333     1  1000  1000  1000\n",
      "  2337     1  1000  1000  1000\n",
      "  2338     1  1000  1000  1000\n",
      "  2339     1  1000  1000  1000\n",
      "  2340     1  1000  1000  1000\n",
      "  2343     1  1000  1000  1000\n",
      "  2345     1  1000  1000  1000\n",
      "  2348     1  1000  1000  1000\n",
      "  2351     1  1000  1000  1000\n",
      "  2352     1  1000  1000  1000\n",
      "  2353     1  1000  1000  1000\n",
      "  2355     1  1000  1000  1000\n",
      "  2357     1  1000  1000  1000\n",
      "  2360     1  1000  1000  1000\n",
      "  2361     1  1000  1000  1000\n",
      "  2363     1  1000  1000  1000\n",
      "  2365     1  1000  1000  1000\n",
      "  2366     1  1000  1000  1000\n",
      "  2368     1  1000  1000  1000\n",
      "  2370     1  1000  1000  1000\n",
      "  2372     1  1000  1000  1000\n",
      "  2373     1  1000  1000  1000\n",
      "  2374     1  1000  1000  1000\n",
      "  2376     1  1000  1000  1000\n",
      "  2378     1  1000  1000  1000\n",
      "  2380     1  1000  1000  1000\n",
      "  2384     1  1000  1000  1000\n",
      "  2388     1  1000  1000  1000\n",
      "  2389     1  1000  1000  1000\n",
      "  2390     1  1000  1000  1000\n",
      "  2392     1  1000  1000  1000\n",
      "  2394     1  1000  1000  1000\n",
      "  2397     1  1000  1000  1000\n",
      "  2398     1  1000  1000  1000\n",
      "  2399     1  1000  1000  1000\n",
      "  2400     1  1000  1000  1000\n",
      "  2401     1  1000  1000  1000\n",
      "  2402     1  1000  1000  1000\n",
      "  2404     1  1000  1000  1000\n",
      "  2406     1  1000  1000  1000\n",
      "  2409     1  1000  1000  1000\n",
      "  2412     1  1000  1000  1000\n",
      "  2415     1  1000  1000  1000\n",
      "  2417     1  1000  1000  1000\n",
      "  2418     1  1000  1000  1000\n",
      "  2421     1  1000  1000  1000\n",
      "  2424     1  1000  1000  1000\n",
      "  2425     1  1000  1000  1000\n",
      "  2426     1  1000  1000  1000\n",
      "  2428     1  1000  1000  1000\n",
      "  2430     1  1000  1000  1000\n",
      "  2433     1  1000  1000  1000\n",
      "  2434     1  1000  1000  1000\n",
      "  2435     1  1000  1000  1000\n",
      "  2438     1  1000  1000  1000\n",
      "  2439     1  1000  1000  1000\n",
      "  2440     1  1000  1000  1000\n",
      "  2442     1  1000  1000  1000\n",
      "  2444     1  1000  1000  1000\n",
      "  2447     1  1000  1000  1000\n",
      "  2449     1  1000  1000  1000\n",
      "  2450     1  1000  1000  1000\n",
      "  2451     1  1000  1000  1000\n",
      "  2453     1  1000  1000  1000\n",
      "  2455     1  1000  1000  1000\n",
      "  2458     1  1000  1000  1000\n",
      "  2460     1  1000  1000  1000\n",
      "  2461     1  1000  1000  1000\n",
      "  2462     1  1000  1000  1000\n",
      "  2464     1  1000  1000  1000\n",
      "  2466     1  1000  1000  1000\n",
      "  2469     1  1000  1000  1000\n",
      "  2472     1  1000  1000  1000\n",
      "  2475     1  1000  1000  1000\n",
      "  2478     1  1000  1000  1000\n",
      "  2482     1  1000  1000  1000\n",
      "  2483     1  1000  1000  1000\n",
      "  2484     1  1000  1000  1000\n",
      "  2486     1  1000  1000  1000\n",
      "  2488     1  1000  1000  1000\n",
      "  2491     1  1000  1000  1000\n",
      "  2493     1  1000  1000  1000\n",
      "  2497     1  1000  1000  1000\n",
      "  2501     1  1000  1000  1000\n",
      "  2502     1  1000  1000  1000\n",
      "  2503     1  1000  1000  1000\n",
      "  2505     1  1000  1000  1000\n",
      "  2507     1  1000  1000  1000\n",
      "  2510     1  1000  1000  1000\n",
      "  2512     1  1000  1000  1000\n",
      "  2513     1  1000  1000  1000\n",
      "  2514     1  1000  1000  1000\n",
      "  2516     1  1000  1000  1000\n",
      "  2518     1  1000  1000  1000\n",
      "  2521     1  1000  1000  1000\n",
      "  2523     1  1000  1000  1000\n",
      "  2524     1  1000  1000  1000\n",
      "  2525     1  1000  1000  1000\n",
      "  2527     1  1000  1000  1000\n",
      "  2529     1  1000  1000  1000\n",
      "  2532     1  1000  1000  1000\n",
      "  2534     1  1000  1000  1000\n",
      "  2535     1  1000  1000  1000\n",
      "  2536     1  1000  1000  1000\n",
      "  2538     1  1000  1000  1000\n",
      "  2540     1  1000  1000  1000\n",
      "  2543     1  1000  1000  1000\n",
      "  2544     1  1000  1000  1000\n",
      "  2546     1  1000  1000  1000\n",
      "  2548     1  1000  1000  1000\n",
      "  2550     1  1000  1000  1000\n",
      "  2552     1  1000  1000  1000\n",
      "  2554     1  1000  1000  1000\n",
      "  2555     1  1000  1000  1000\n",
      "  2556     1  1000  1000  1000\n",
      "  2558     1  1000  1000  1000\n",
      "  2560     1  1000  1000  1000\n",
      "  2562     1  1000  1000  1000\n",
      "  2566     1  1000  1000  1000\n",
      "  2569     1  1000  1000  1000\n",
      "  2573     1  1000  1000  1000\n",
      "  2574     1  1000  1000  1000\n",
      "  2575     1  1000  1000  1000\n",
      "  2577     1  1000  1000  1000\n",
      "  2579     1  1000  1000  1000\n",
      "  2581     1  1000  1000  1000\n",
      "  2585     1  1000  1000  1000\n",
      "  2588     1  1000  1000  1000\n",
      "  2592     1  1000  1000  1000\n",
      "  2593     1  1000  1000  1000\n",
      "  2594     1  1000  1000  1000\n",
      "  2596     1  1000  1000  1000\n",
      "  2598     1  1000  1000  1000\n",
      "  2600     1  1000  1000  1000\n",
      "  2602     1  1000  1000  1000\n",
      "  2606     1  1000  1000  1000\n",
      "  2607     1  1000  1000  1000\n",
      "  2608     1  1000  1000  1000\n",
      "  2610     1  1000  1000  1000\n",
      "  2612     1  1000  1000  1000\n",
      "  2615     1  1000  1000  1000\n",
      "  2618     1  1000  1000  1000\n",
      "  2619     1  1000  1000  1000\n",
      "  2620     1  1000  1000  1000\n",
      "  2623     1  1000  1000  1000\n",
      "  2624     1  1000  1000  1000\n",
      "  2625     1  1000  1000  1000\n",
      "  2627     1  1000  1000  1000\n",
      "  2629     1  1000  1000  1000\n",
      "  2632     1  1000  1000  1000\n",
      "  2633     1  1000  1000  1000\n",
      "  2634     1  1000  1000  1000\n",
      "  2637     1  1000  1000  1000\n",
      "  2638     1  1000  1000  1000\n",
      "  2639     1  1000  1000  1000\n",
      "  2641     1  1000  1000  1000\n",
      "  2643     1  1000  1000  1000\n",
      "  2646     1  1000  1000  1000\n",
      "  2649     1  1000  1000  1000\n",
      "  2650     1  1000  1000  1000\n",
      "  2654     1  1000  1000  1000\n",
      "  2655     1  1000  1000  1000\n",
      "  2656     1  1000  1000  1000\n",
      "  2658     1  1000  1000  1000\n",
      "  2660     1  1000  1000  1000\n",
      "  2663     1  1000  1000  1000\n",
      "  2664     1  1000  1000  1000\n",
      "  2666     1  1000  1000  1000\n",
      "  2668     1  1000  1000  1000\n",
      "  2670     1  1000  1000  1000\n",
      "  2672     1  1000  1000  1000\n",
      "  2674     1  1000  1000  1000\n",
      "  2675     1  1000  1000  1000\n",
      "  2676     1  1000  1000  1000\n",
      "  2678     1  1000  1000  1000\n",
      "  2680     1  1000  1000  1000\n",
      "  2683     1  1000  1000  1000\n",
      "  2685     1  1000  1000  1000\n",
      "  2686     1  1000  1000  1000\n",
      "  2687     1  1000  1000  1000\n",
      "  2689     1  1000  1000  1000\n",
      "  2691     1  1000  1000  1000\n",
      "  2695     1  1000  1000  1000\n",
      "  2696     1  1000  1000  1000\n",
      "  2697     1  1000  1000  1000\n",
      "  2699     1  1000  1000  1000\n",
      "  2702     1  1000  1000  1000\n",
      "  2703     1  1000  1000  1000\n",
      "  2704     1  1000  1000  1000\n",
      "  2706     1  1000  1000  1000\n",
      "  2708     1  1000  1000  1000\n",
      "  2711     1  1000  1000  1000\n",
      "  2712     1  1000  1000  1000\n",
      "  2714     1  1000  1000  1000\n",
      "  2716     1  1000  1000  1000\n",
      "  2717     1  1000  1000  1000\n",
      "  2719     1  1000  1000  1000\n",
      "  2721     1  1000  1000  1000\n",
      "  2723     1  1000  1000  1000\n",
      "  2724     1  1000  1000  1000\n",
      "  2725     1  1000  1000  1000\n",
      "  2727     1  1000  1000  1000\n",
      "  2729     1  1000  1000  1000\n",
      "  2732     1  1000  1000  1000\n",
      "  2733     1  1000  1000  1000\n",
      "  2734     1  1000  1000  1000\n",
      "  2735     1  1000  1000  1000\n",
      "  2736     1  1000  1000  1000\n",
      "  2737     1  1000  1000  1000\n",
      "  2739     1  1000  1000  1000\n",
      "  2741     1  1000  1000  1000\n",
      "  2743     1  1000  1000  1000\n",
      "  2745     1  1000  1000  1000\n",
      "  2749     1  1000  1000  1000\n",
      "  2750     1  1000  1000  1000\n",
      "  2751     1  1000  1000  1000\n",
      "  2753     1  1000  1000  1000\n",
      "  2755     1  1000  1000  1000\n",
      "  2758     1  1000  1000  1000\n",
      "  2761     1  1000  1000  1000\n",
      "  2764     1  1000  1000  1000\n",
      "  2767     1  1000  1000  1000\n",
      "  2771     1  1000  1000  1000\n",
      "  2772     1  1000  1000  1000\n",
      "  2773     1  1000  1000  1000\n",
      "  2775     1  1000  1000  1000\n",
      "  2777     1  1000  1000  1000\n",
      "  2780     1  1000  1000  1000\n",
      "  2783     1  1000  1000  1000\n",
      "  2784     1  1000  1000  1000\n",
      "  2785     1  1000  1000  1000\n",
      "  2788     1  1000  1000  1000\n",
      "  2789     1  1000  1000  1000\n",
      "  2790     1  1000  1000  1000\n",
      "  2792     1  1000  1000  1000\n",
      "  2794     1  1000  1000  1000\n",
      "  2797     1  1000  1000  1000\n",
      "  2800     1  1000  1000  1000\n",
      "  2801     1  1000  1000  1000\n",
      "  2802     1  1000  1000  1000\n",
      "  2803     1  1000  1000  1000\n",
      "  2804     1  1000  1000  1000\n",
      "  2805     1  1000  1000  1000\n",
      "  2807     1  1000  1000  1000\n",
      "  2809     1  1000  1000  1000\n",
      "  2812     1  1000  1000  1000\n",
      "  2813     1  1000  1000  1000\n",
      "  2814     1  1000  1000  1000\n",
      "  2815     1  1000  1000  1000\n",
      "  2816     1  1000  1000  1000\n",
      "  2817     1  1000  1000  1000\n",
      "  2819     1  1000  1000  1000\n",
      "  2821     1  1000  1000  1000\n",
      "  2825     1  1000  1000  1000\n",
      "  2826     1  1000  1000  1000\n",
      "  2827     1  1000  1000  1000\n",
      "  2829     1  1000  1000  1000\n",
      "  2831     1  1000  1000  1000\n",
      "  2834     1  1000  1000  1000\n",
      "  2836     1  1000  1000  1000\n",
      "  2837     1  1000  1000  1000\n",
      "  2838     1  1000  1000  1000\n",
      "  2840     1  1000  1000  1000\n",
      "  2842     1  1000  1000  1000\n",
      "  2845     1  1000  1000  1000\n",
      "  2848     1  1000  1000  1000\n",
      "  2849     1  1000  1000  1000\n",
      "  2850     1  1000  1000  1000\n",
      "  2853     1  1000  1000  1000\n",
      "  2854     1  1000  1000  1000\n",
      "  2855     1  1000  1000  1000\n",
      "  2857     1  1000  1000  1000\n",
      "  2860     1  1000  1000  1000\n",
      "  2861     1  1000  1000  1000\n",
      "  2862     1  1000  1000  1000\n",
      "  2864     1  1000  1000  1000\n",
      "  2866     1  1000  1000  1000\n",
      "  2869     1  1000  1000  1000\n",
      "  2870     1  1000  1000  1000\n",
      "  2871     1  1000  1000  1000\n",
      "  2872     1  1000  1000  1000\n",
      "  2873     1  1000  1000  1000\n",
      "  2874     1  1000  1000  1000\n",
      "  2876     1  1000  1000  1000\n",
      "  2878     1  1000  1000  1000\n",
      "  2881     1  1000  1000  1000\n",
      "  2883     1  1000  1000  1000\n",
      "  2884     1  1000  1000  1000\n",
      "  2885     1  1000  1000  1000\n",
      "  2887     1  1000  1000  1000\n",
      "  2890     1  1000  1000  1000\n",
      "  2891     1  1000  1000  1000\n",
      "  2892     1  1000  1000  1000\n",
      "  2894     1  1000  1000  1000\n",
      "  2897     1  1000  1000  1000\n",
      "  2898     1  1000  1000  1000\n",
      "  2899     1  1000  1000  1000\n",
      "  2900     1  1000  1000  1000\n",
      "  2903     1  1000  1000  1000\n",
      "  2905     1  1000  1000  1000\n",
      "  2908     1  1000  1000  1000\n",
      "  2911     1  1000  1000  1000\n",
      "  2912     1  1000  1000  1000\n",
      "  2913     1  1000  1000  1000\n",
      "  2915     1  1000  1000  1000\n",
      "  2917     1  1000  1000  1000\n",
      "  2920     1  1000  1000  1000\n",
      "  2921     1  1000  1000  1000\n",
      "  2922     1  1000  1000  1000\n",
      "  2924     1  1000  1000  1000\n",
      "  2926     1  1000  1000  1000\n",
      "  2928     1  1000  1000  1000\n",
      "  2929     1  1000  1000  1000\n",
      "  2930     1  1000  1000  1000\n",
      "  2932     1  1000  1000  1000\n",
      "  2934     1  1000  1000  1000\n",
      "  2936     1  1000  1000  1000\n",
      "  2940     1  1000  1000  1000\n",
      "  2944     1  1000  1000  1000\n",
      "  2945     1  1000  1000  1000\n",
      "  2946     1  1000  1000  1000\n",
      "  2948     1  1000  1000  1000\n",
      "  2950     1  1000  1000  1000\n",
      "  2952     1  1000  1000  1000\n",
      "  2954     1  1000  1000  1000\n",
      "  2958     1  1000  1000  1000\n",
      "  2959     1  1000  1000  1000\n",
      "  2960     1  1000  1000  1000\n",
      "  2962     1  1000  1000  1000\n",
      "  2964     1  1000  1000  1000\n",
      "  2967     1  1000  1000  1000\n",
      "  2970     1  1000  1000  1000\n",
      "  2973     1  1000  1000  1000\n",
      "  2975     1  1000  1000  1000\n",
      "  2976     1  1000  1000  1000\n",
      "  2979     1  1000  1000  1000\n",
      "  2982     1  1000  1000  1000\n",
      "  2983     1  1000  1000  1000\n",
      "  2984     1  1000  1000  1000\n",
      "  2986     1  1000  1000  1000\n",
      "  2988     1  1000  1000  1000\n",
      "  2991     1  1000  1000  1000\n",
      "  2992     1  1000  1000  1000\n",
      "  2994     1  1000  1000  1000\n",
      "  2996     1  1000  1000  1000\n",
      "  2998     1  1000  1000  1000\n",
      "  3000     1  1000  1000  1000\n",
      "  3002     1  1000  1000  1000\n",
      "  3003     1  1000  1000  1000\n",
      "  3004     1  1000  1000  1000\n",
      "  3006     1  1000  1000  1000\n",
      "  3008     1  1000  1000  1000\n",
      "  3011     1  1000  1000  1000\n",
      "  3014     1  1000  1000  1000\n",
      "  3017     1  1000  1000  1000\n",
      "  3020     1  1000  1000  1000\n",
      "  3024     1  1000  1000  1000\n",
      "  3025     1  1000  1000  1000\n",
      "  3026     1  1000  1000  1000\n",
      "  3028     1  1000  1000  1000\n",
      "  3030     1  1000  1000  1000\n",
      "  3033     1  1000  1000  1000\n",
      "  3034     1  1000  1000  1000\n",
      "  3035     1  1000  1000  1000\n",
      "  3036     1  1000  1000  1000\n",
      "  3037     1  1000  1000  1000\n",
      "  3038     1  1000  1000  1000\n",
      "  3040     1  1000  1000  1000\n",
      "  3042     1  1000  1000  1000\n",
      "  3044     1  1000  1000  1000\n",
      "  3046     1  1000  1000  1000\n",
      "  3050     1  1000  1000  1000\n",
      "  3051     1  1000  1000  1000\n",
      "  3052     1  1000  1000  1000\n",
      "  3054     1  1000  1000  1000\n",
      "  3056     1  1000  1000  1000\n",
      "  3059     1  1000  1000  1000\n",
      "  3060     1  1000  1000  1000\n",
      "  3062     1  1000  1000  1000\n",
      "  3064     1  1000  1000  1000\n",
      "  3065     1  1000  1000  1000\n",
      "  3067     1  1000  1000  1000\n",
      "  3069     1  1000  1000  1000\n",
      "  3071     1  1000  1000  1000\n",
      "  3072     1  1000  1000  1000\n",
      "  3073     1  1000  1000  1000\n",
      "  3075     1  1000  1000  1000\n",
      "  3077     1  1000  1000  1000\n",
      "  3080     1  1000  1000  1000\n",
      "  3081     1  1000  1000  1000\n",
      "  3083     1  1000  1000  1000\n",
      "  3085     1  1000  1000  1000\n",
      "  3087     1  1000  1000  1000\n",
      "  3089     1  1000  1000  1000\n",
      "  3091     1  1000  1000  1000\n",
      "  3092     1  1000  1000  1000\n",
      "  3093     1  1000  1000  1000\n",
      "  3095     1  1000  1000  1000\n",
      "  3097     1  1000  1000  1000\n",
      "  3099     1  1000  1000  1000\n",
      "  3103     1  1000  1000  1000\n",
      "  3107     1  1000  1000  1000\n",
      "  3108     1  1000  1000  1000\n",
      "  3109     1  1000  1000  1000\n",
      "  3111     1  1000  1000  1000\n",
      "  3113     1  1000  1000  1000\n",
      "  3115     1  1000  1000  1000\n",
      "  3117     1  1000  1000  1000\n",
      "  3121     1  1000  1000  1000\n",
      "  3122     1  1000  1000  1000\n",
      "  3123     1  1000  1000  1000\n",
      "  3125     1  1000  1000  1000\n",
      "  3128     1  1000  1000  1000\n",
      "  3129     1  1000  1000  1000\n",
      "  3130     1  1000  1000  1000\n",
      "  3132     1  1000  1000  1000\n",
      "  3134     1  1000  1000  1000\n",
      "  3136     1  1000  1000  1000\n",
      "  3140     1  1000  1000  1000\n",
      "  3143     1  1000  1000  1000\n",
      "  3147     1  1000  1000  1000\n",
      "  3148     1  1000  1000  1000\n",
      "  3149     1  1000  1000  1000\n",
      "  3151     1  1000  1000  1000\n",
      "  3153     1  1000  1000  1000\n",
      "  3155     1  1000  1000  1000\n",
      "  3159     1  1000  1000  1000\n",
      "  3163     1  1000  1000  1000\n",
      "  3164     1  1000  1000  1000\n",
      "  3165     1  1000  1000  1000\n",
      "  3167     1  1000  1000  1000\n",
      "  3169     1  1000  1000  1000\n",
      "  3172     1  1000  1000  1000\n",
      "  3174     1  1000  1000  1000\n",
      "  3175     1  1000  1000  1000\n",
      "  3176     1  1000  1000  1000\n",
      "  3178     1  1000  1000  1000\n",
      "  3180     1  1000  1000  1000\n",
      "  3183     1  1000  1000  1000\n",
      "  3184     1  1000  1000  1000\n",
      "  3186     1  1000  1000  1000\n",
      "  3188     1  1000  1000  1000\n",
      "  3189     1  1000  1000  1000\n",
      "  3190     1  1000  1000  1000\n",
      "  3192     1  1000  1000  1000\n",
      "  3194     1  1000  1000  1000\n",
      "  3196     1  1000  1000  1000\n",
      "  3198     1  1000  1000  1000\n",
      "  3199     1  1000  1000  1000\n",
      "  3200     1  1000  1000  1000\n",
      "  3202     1  1000  1000  1000\n",
      "  3205     1  1000  1000  1000\n",
      "  3206     1  1000  1000  1000\n",
      "  3207     1  1000  1000  1000\n",
      "  3209     1  1000  1000  1000\n",
      "  3211     1  1000  1000  1000\n",
      "  3214     1  1000  1000  1000\n",
      "  3217     1  1000  1000  1000\n",
      "  3218     1  1000  1000  1000\n",
      "  3219     1  1000  1000  1000\n",
      "  3220     1  1000  1000  1000\n",
      "  3221     1  1000  1000  1000\n",
      "  3222     1  1000  1000  1000\n",
      "  3224     1  1000  1000  1000\n",
      "  3227     1  1000  1000  1000\n",
      "  3228     1  1000  1000  1000\n",
      "  3229     1  1000  1000  1000\n",
      "  3231     1  1000  1000  1000\n",
      "  3233     1  1000  1000  1000\n",
      "  3236     1  1000  1000  1000\n",
      "  3238     1  1000  1000  1000\n",
      "  3239     1  1000  1000  1000\n",
      "  3240     1  1000  1000  1000\n",
      "  3242     1  1000  1000  1000\n",
      "  3244     1  1000  1000  1000\n",
      "  3248     1  1000  1000  1000\n",
      "  3249     1  1000  1000  1000\n",
      "  3250     1  1000  1000  1000\n",
      "  3252     1  1000  1000  1000\n",
      "  3254     1  1000  1000  1000\n",
      "  3257     1  1000  1000  1000\n",
      "  3260     1  1000  1000  1000\n",
      "  3263     1  1000  1000  1000\n",
      "  3265     1  1000  1000  1000\n",
      "  3266     1  1000  1000  1000\n",
      "  3269     1  1000  1000  1000\n",
      "  3272     1  1000  1000  1000\n",
      "  3273     1  1000  1000  1000\n",
      "  3274     1  1000  1000  1000\n",
      "  3276     1  1000  1000  1000\n",
      "  3278     1  1000  1000  1000\n",
      "  3281     1  1000  1000  1000\n",
      "  3284     1  1000  1000  1000\n",
      "  3287     1  1000  1000  1000\n",
      "  3290     1  1000  1000  1000\n",
      "  3294     1  1000  1000  1000\n",
      "  3295     1  1000  1000  1000\n",
      "  3296     1  1000  1000  1000\n",
      "  3298     1  1000  1000  1000\n",
      "  3301     1  1000  1000  1000\n",
      "  3302     1  1000  1000  1000\n",
      "  3303     1  1000  1000  1000\n",
      "  3305     1  1000  1000  1000\n",
      "  3307     1  1000  1000  1000\n",
      "  3310     1  1000  1000  1000\n",
      "  3313     1  1000  1000  1000\n",
      "  3316     1  1000  1000  1000\n",
      "  3319     1  1000  1000  1000\n",
      "  3323     1  1000  1000  1000\n",
      "  3324     1  1000  1000  1000\n",
      "  3325     1  1000  1000  1000\n",
      "  3327     1  1000  1000  1000\n",
      "  3329     1  1000  1000  1000\n",
      "  3332     1  1000  1000  1000\n",
      "  3333     1  1000  1000  1000\n",
      "  3335     1  1000  1000  1000\n",
      "  3337     1  1000  1000  1000\n",
      "  3338     1  1000  1000  1000\n",
      "  3340     1  1000  1000  1000\n",
      "  3342     1  1000  1000  1000\n",
      "  3344     1  1000  1000  1000\n",
      "  3345     1  1000  1000  1000\n",
      "  3346     1  1000  1000  1000\n",
      "  3348     1  1000  1000  1000\n",
      "  3351     1  1000  1000  1000\n",
      "  3352     1  1000  1000  1000\n",
      "  3353     1  1000  1000  1000\n",
      "  3355     1  1000  1000  1000\n",
      "  3357     1  1000  1000  1000\n",
      "  3359     1  1000  1000  1000\n",
      "  3363     1  1000  1000  1000\n",
      "  3366     1  1000  1000  1000\n",
      "  3370     1  1000  1000  1000\n",
      "  3371     1  1000  1000  1000\n",
      "  3372     1  1000  1000  1000\n",
      "  3374     1  1000  1000  1000\n",
      "  3376     1  1000  1000  1000\n",
      "  3379     1  1000  1000  1000\n",
      "  3380     1  1000  1000  1000\n",
      "  3382     1  1000  1000  1000\n",
      "  3384     1  1000  1000  1000\n",
      "  3385     1  1000  1000  1000\n",
      "  3387     1  1000  1000  1000\n",
      "  3389     1  1000  1000  1000\n",
      "  3391     1  1000  1000  1000\n",
      "  3392     1  1000  1000  1000\n",
      "  3393     1  1000  1000  1000\n",
      "  3395     1  1000  1000  1000\n",
      "  3397     1  1000  1000  1000\n",
      "  3399     1  1000  1000  1000\n",
      "  3401     1  1000  1000  1000\n",
      "  3405     1  1000  1000  1000\n",
      "  3406     1  1000  1000  1000\n",
      "  3407     1  1000  1000  1000\n",
      "  3409     1  1000  1000  1000\n",
      "  3411     1  1000  1000  1000\n",
      "  3414     1  1000  1000  1000\n",
      "  3417     1  1000  1000  1000\n",
      "  3420     1  1000  1000  1000\n",
      "  3423     1  1000  1000  1000\n",
      "  3427     1  1000  1000  1000\n",
      "  3428     1  1000  1000  1000\n",
      "  3429     1  1000  1000  1000\n",
      "  3431     1  1000  1000  1000\n",
      "  3433     1  1000  1000  1000\n",
      "  3435     1  1000  1000  1000\n",
      "  3439     1  1000  1000  1000\n",
      "  3443     1  1000  1000  1000\n",
      "  3444     1  1000  1000  1000\n",
      "  3445     1  1000  1000  1000\n",
      "  3447     1  1000  1000  1000\n",
      "  3449     1  1000  1000  1000\n",
      "  3451     1  1000  1000  1000\n",
      "  3453     1  1000  1000  1000\n",
      "  3457     1  1000  1000  1000\n",
      "  3458     1  1000  1000  1000\n",
      "  3459     1  1000  1000  1000\n",
      "  3461     1  1000  1000  1000\n",
      "  3463     1  1000  1000  1000\n",
      "  3467     1  1000  1000  1000\n",
      "  3468     1  1000  1000  1000\n",
      "  3469     1  1000  1000  1000\n",
      "  3471     1  1000  1000  1000\n",
      "  3473     1  1000  1000  1000\n",
      "  3476     1  1000  1000  1000\n",
      "  3477     1  1000  1000  1000\n",
      "  3479     1  1000  1000  1000\n",
      "  3481     1  1000  1000  1000\n",
      "  3483     1  1000  1000  1000\n",
      "  3485     1  1000  1000  1000\n",
      "  3487     1  1000  1000  1000\n",
      "  3488     1  1000  1000  1000\n",
      "  3489     1  1000  1000  1000\n",
      "  3491     1  1000  1000  1000\n",
      "  3493     1  1000  1000  1000\n",
      "  3496     1  1000  1000  1000\n",
      "  3498     1  1000  1000  1000\n",
      "  3502     1  1000  1000  1000\n",
      "  3506     1  1000  1000  1000\n",
      "  3507     1  1000  1000  1000\n",
      "  3508     1  1000  1000  1000\n",
      "  3510     1  1000  1000  1000\n",
      "  3512     1  1000  1000  1000\n",
      "  3515     1  1000  1000  1000\n",
      "  3518     1  1000  1000  1000\n",
      "  3521     1  1000  1000  1000\n",
      "  3524     1  1000  1000  1000\n",
      "  3528     1  1000  1000  1000\n",
      "  3529     1  1000  1000  1000\n",
      "  3530     1  1000  1000  1000\n",
      "  3532     1  1000  1000  1000\n",
      "  3534     1  1000  1000  1000\n",
      "  3537     1  1000  1000  1000\n",
      "  3538     1  1000  1000  1000\n",
      "  3540     1  1000  1000  1000\n",
      "  3542     1  1000  1000  1000\n",
      "  3543     1  1000  1000  1000\n",
      "  3544     1  1000  1000  1000\n",
      "  3546     1  1000  1000  1000\n",
      "  3548     1  1000  1000  1000\n",
      "  3550     1  1000  1000  1000\n",
      "  3552     1  1000  1000  1000\n",
      "  3553     1  1000  1000  1000\n",
      "  3554     1  1000  1000  1000\n",
      "  3556     1  1000  1000  1000\n",
      "  3558     1  1000  1000  1000\n",
      "  3560     1  1000  1000  1000\n",
      "  3564     1  1000  1000  1000\n",
      "  3567     1  1000  1000  1000\n",
      "  3571     1  1000  1000  1000\n",
      "  3572     1  1000  1000  1000\n",
      "  3573     1  1000  1000  1000\n",
      "  3575     1  1000  1000  1000\n",
      "  3577     1  1000  1000  1000\n",
      "  3580     1  1000  1000  1000\n",
      "  3581     1  1000  1000  1000\n",
      "  3582     1  1000  1000  1000\n",
      "  3583     1  1000  1000  1000\n",
      "  3584     1  1000  1000  1000\n",
      "  3585     1  1000  1000  1000\n",
      "  3587     1  1000  1000  1000\n",
      "  3589     1  1000  1000  1000\n",
      "  3592     1  1000  1000  1000\n",
      "  3595     1  1000  1000  1000\n",
      "  3598     1  1000  1000  1000\n",
      "  3600     1  1000  1000  1000\n",
      "  3601     1  1000  1000  1000\n",
      "  3604     1  1000  1000  1000\n",
      "  3607     1  1000  1000  1000\n",
      "  3608     1  1000  1000  1000\n",
      "  3609     1  1000  1000  1000\n",
      "  3611     1  1000  1000  1000\n",
      "  3613     1  1000  1000  1000\n",
      "  3616     1  1000  1000  1000\n",
      "  3618     1  1000  1000  1000\n",
      "  3619     1  1000  1000  1000\n",
      "  3620     1  1000  1000  1000\n",
      "  3622     1  1000  1000  1000\n",
      "  3624     1  1000  1000  1000\n",
      "  3627     1  1000  1000  1000\n",
      "  3630     1  1000  1000  1000\n",
      "  3631     1  1000  1000  1000\n",
      "  3635     1  1000  1000  1000\n",
      "  3636     1  1000  1000  1000\n",
      "  3637     1  1000  1000  1000\n",
      "  3639     1  1000  1000  1000\n",
      "  3641     1  1000  1000  1000\n",
      "  3644     1  1000  1000  1000\n",
      "  3647     1  1000  1000  1000\n",
      "  3650     1  1000  1000  1000\n",
      "  3653     1  1000  1000  1000\n",
      "  3657     1  1000  1000  1000\n",
      "  3658     1  1000  1000  1000\n",
      "  3659     1  1000  1000  1000\n",
      "  3661     1  1000  1000  1000\n",
      "  3663     1  1000  1000  1000\n",
      "  3665     1  1000  1000  1000\n",
      "  3667     1  1000  1000  1000\n",
      "  3671     1  1000  1000  1000\n",
      "  3672     1  1000  1000  1000\n",
      "  3673     1  1000  1000  1000\n"
     ]
    }
   ],
   "source": [
    "!cat posre_Protein_chain_A.itp"
   ]
  },
  {
   "cell_type": "markdown",
   "metadata": {
    "nbpresent": {
     "id": "3efdb33e-1797-47b0-8866-deb26bef0b7b"
    }
   },
   "source": [
    "Here ends the \"Protein_chain_A\" moleculetype definition. Then the \"Protein_chain_L\" moleculetype definition starts. The remainder of the topology file is dedicated to defining other molecules and providing system-level descriptions. The next moleculetype (by default) is the solvent, in this case TIP3P water. Other typical choices for water include SPC, SPC/E, and TIP4P. We chose this by passing \"-water tip3p\" to `gmx pdb2gmx`. For an excellent summary of the many different water models, click [here](http://www1.lsbu.ac.uk/water/water_models.html) , but be aware that not all of these models are present within GROMACS."
   ]
  },
  {
   "cell_type": "markdown",
   "metadata": {
    "nbpresent": {
     "id": "39ea31e7-3219-49d9-b756-2bd0fb8dca0b"
    }
   },
   "source": [
    "## Ions and other parameters"
   ]
  },
  {
   "cell_type": "markdown",
   "metadata": {
    "nbpresent": {
     "id": "ecd3d9b7-4388-4f41-a597-677407b6a8fd"
    }
   },
   "source": [
    "Ion parameters are included next:"
   ]
  },
  {
   "cell_type": "code",
   "execution_count": 18,
   "metadata": {},
   "outputs": [
    {
     "name": "stdout",
     "output_type": "stream",
     "text": [
      "; Include topology for ions\n",
      "#include \"charmm27.ff/ions.itp\"\n"
     ]
    }
   ],
   "source": [
    "!grep \"ions\" topol.top"
   ]
  },
  {
   "cell_type": "markdown",
   "metadata": {},
   "source": [
    "## System level definitions"
   ]
  },
  {
   "cell_type": "markdown",
   "metadata": {
    "nbpresent": {
     "id": "5ccbb2b2-116b-48d2-9212-33ff648831ca"
    }
   },
   "source": [
    "Finally come system-level definitions. The [ system ] directive gives the name of the system that will be written to output files during the simulation. The [ molecules ] directive lists all of the molecules in the system."
   ]
  },
  {
   "cell_type": "code",
   "execution_count": 19,
   "metadata": {},
   "outputs": [
    {
     "name": "stdout",
     "output_type": "stream",
     "text": [
      "[ system ]\n",
      "; Name\n",
      "COAGULATION FACTOR XA; COAGULATION FACTOR XA\n",
      "\n",
      "[ molecules ]\n",
      "; Compound        #mols\n",
      "Protein_chain_A     1\n",
      "Protein_chain_L     1\n"
     ]
    }
   ],
   "source": [
    "!tail -8 topol.top"
   ]
  },
  {
   "cell_type": "markdown",
   "metadata": {
    "nbpresent": {
     "id": "8c2b434c-5817-4179-9529-ec89fdb0800d"
    }
   },
   "source": [
    "A few key notes about the `[ molecules ]` directive:\n",
    "\n",
    "- The order of the listed molecules must exactly match the order of the molecules in the coordinate (in this case, .gro) file.\n",
    "- The names listed must match the `[ moleculetype ]` name for each species, not residue names or anything else.\n",
    "\n",
    "If you fail to satisfy these concrete requirements at any time, you will get fatal errors from grompp (discussed later) about mismatched names, molecules not being found, or a number of others."
   ]
  },
  {
   "cell_type": "markdown",
   "metadata": {
    "nbpresent": {
     "id": "3b32f9b6-e20b-460f-ae55-7cdd99ea1892"
    }
   },
   "source": [
    "Now that we have examined the contents of a topology file, we can continue building our system."
   ]
  },
  {
   "cell_type": "markdown",
   "metadata": {
    "nbpresent": {
     "id": "598b0d30-9d4c-4b31-a670-959bb96ab87f"
    }
   },
   "source": [
    "# Solvating the simulation system"
   ]
  },
  {
   "cell_type": "markdown",
   "metadata": {
    "nbpresent": {
     "id": "4c7344d8-d42d-4e4c-918c-0e1a160a1319"
    }
   },
   "source": [
    "Now that you are familiar with the contents of the GROMACS topology, it is time to continue building our system. In this example, we are going to be simulating a simple aqueous system. It is possible to simulate proteins and other molecules in different solvents, provided that good parameters are available for all species involved.\n",
    "\n",
    "There are two steps to defining the box and filling it with solvent:\n",
    "\n",
    "- Define the box dimensions using the [`gmx editconf`](https://manual.gromacs.org/current/onlinehelp/gmx-editconf.html) tool.\n",
    "- Fill the box with water using the [`gmx solvate`](https://manual.gromacs.org/current/onlinehelp/gmx-solvate.html) tool. \n",
    "\n",
    "You are now presented with a choice as to how to treat the unit cell. For the purpose of this tutorial, we will use the rhombic dodecahedron, as its volume is ~71% of the cubic box of the same periodic distance, thus saving on the number of water molecules that need to be added to solvate the protein."
   ]
  },
  {
   "cell_type": "markdown",
   "metadata": {
    "nbpresent": {
     "id": "95ad5707-817d-46aa-b35f-09cfb6796c02"
    }
   },
   "source": [
    "## Defining the simulation box"
   ]
  },
  {
   "cell_type": "markdown",
   "metadata": {
    "nbpresent": {
     "id": "b6a06a69-5b82-4302-a61f-ba3c568c497e"
    }
   },
   "source": [
    "Let's define the box using `gmx editconf`:"
   ]
  },
  {
   "cell_type": "code",
   "execution_count": 20,
   "metadata": {
    "nbpresent": {
     "id": "23d642d0-a609-4be8-aed1-00aee72b22bf"
    },
    "scrolled": true
   },
   "outputs": [
    {
     "name": "stdout",
     "output_type": "stream",
     "text": [
      "               :-) GROMACS - gmx editconf, 2023.3-conda_forge (-:\n",
      "\n",
      "Executable:   /Users/alejandraduran/opt/anaconda3/envs/md-intro-tutorial/bin.SSE2/gmx\n",
      "Data prefix:  /Users/alejandraduran/opt/anaconda3/envs/md-intro-tutorial\n",
      "Working dir:  /Users/alejandraduran/Documents/Pton_courses/CBE422/final_project/data\n",
      "Command line:\n",
      "  gmx editconf -f 1fjs_processed.gro -o 1fjs_newbox.gro -c -d 1.0 -bt dodecahedron\n",
      "\n",
      "Note that major changes are planned in future for editconf, to improve usability and utility.\n",
      "Read 4417 atoms\n",
      "Volume: 321.98 nm^3, corresponds to roughly 144800 electrons\n",
      "No velocities found\n",
      "    system size :  6.066  5.213  4.092 (nm)\n",
      "    diameter    :  6.268               (nm)\n",
      "    center      :  2.234  1.342  2.544 (nm)\n",
      "    box vectors :  5.577  7.196  8.023 (nm)\n",
      "    box angles  :  90.00  90.00  90.00 (degrees)\n",
      "    box volume  : 321.98               (nm^3)\n",
      "    shift       :  3.967  4.858  0.379 (nm)\n",
      "new center      :  6.201  6.201  2.923 (nm)\n",
      "new box vectors :  8.268  8.268  8.268 (nm)\n",
      "new box angles  :  60.00  60.00  90.00 (degrees)\n",
      "new box volume  : 399.60               (nm^3)\n",
      "\n",
      "GROMACS reminds you: \"If I Wanted You to Understand This, I Would Explain it Better\" (J. Cruijff)\n",
      "\n"
     ]
    }
   ],
   "source": [
    "!gmx editconf -f 1fjs_processed.gro -o 1fjs_newbox.gro -c -d 1.0 -bt dodecahedron"
   ]
  },
  {
   "cell_type": "markdown",
   "metadata": {
    "nbpresent": {
     "id": "e68f5978-ef1b-4700-84bb-a40173c8ccf8"
    }
   },
   "source": [
    "The above command centers the protein in the box (-c), and places it at least 1.0 nm from the box edge (-d 1.0). The box type is defined as a rhombic dodecahedron (-bt dodecahedron). Have a look at this [section](http://manual.gromacs.org/current/reference-manual/algorithms/periodic-boundary-conditions.html#pbc) in the manual for more on periodic boundary conditions and dodecahedrons."
   ]
  },
  {
   "cell_type": "markdown",
   "metadata": {
    "nbpresent": {
     "id": "e68f5978-ef1b-4700-84bb-a40173c8ccf8"
    }
   },
   "source": [
    "The distance to the edge of the box is an important parameter. A protein should never interact with its periodic image (minimum image convention), otherwise the forces calculated will be spurious. The minimum image convention implies that the distance between two periodic images of the protein should be larger than the cut-off radius used to truncate non-bonded interactions. Here we will use a cut-off radius of 1.2 nm (see below). Specifying a solute-box distance of 1.0 nm will mean that there are at least 2.0 nm between any two periodic images of a protein. We expect that at that distance all protein-protein interactions are negligible."
   ]
  },
  {
   "cell_type": "markdown",
   "metadata": {
    "nbpresent": {
     "id": "75d89a8d-1463-4767-a002-581b3c015753"
    }
   },
   "source": [
    "## Filling the box with water"
   ]
  },
  {
   "cell_type": "code",
   "execution_count": 21,
   "metadata": {
    "nbpresent": {
     "id": "82f1ad5a-cef0-46fe-9494-92477b273cd9"
    },
    "scrolled": true
   },
   "outputs": [
    {
     "name": "stdout",
     "output_type": "stream",
     "text": [
      "               :-) GROMACS - gmx solvate, 2023.3-conda_forge (-:\n",
      "\n",
      "Executable:   /Users/alejandraduran/opt/anaconda3/envs/md-intro-tutorial/bin.SSE2/gmx\n",
      "Data prefix:  /Users/alejandraduran/opt/anaconda3/envs/md-intro-tutorial\n",
      "Working dir:  /Users/alejandraduran/Documents/Pton_courses/CBE422/final_project/data\n",
      "Command line:\n",
      "  gmx solvate -cp 1fjs_newbox.gro -cs spc216.gro -o 1fjs_solv.gro -p topol.top\n",
      "\n",
      "Reading solute configuration\n",
      "Reading solvent configuration\n",
      "\n",
      "Initialising inter-atomic distances...\n",
      "\n",
      "WARNING: Masses and atomic (Van der Waals) radii will be guessed\n",
      "         based on residue and atom names, since they could not be\n",
      "         definitively assigned from the information in your input\n",
      "         files. These guessed numbers might deviate from the mass\n",
      "         and radius of the atom type. Please check the output\n",
      "         files if necessary. Note, that this functionality may\n",
      "         be removed in a future GROMACS version. Please, consider\n",
      "         using another file format for your input.\n",
      "\n",
      "NOTE: From version 5.0 gmx solvate uses the Van der Waals radii\n",
      "from the source below. This means the results may be different\n",
      "compared to previous GROMACS versions.\n",
      "\n",
      "++++ PLEASE READ AND CITE THE FOLLOWING REFERENCE ++++\n",
      "A. Bondi\n",
      "van der Waals Volumes and Radii\n",
      "J. Phys. Chem. 68 (1964) pp. 441-451\n",
      "-------- -------- --- Thank You --- -------- --------\n",
      "\n",
      "Generating solvent configuration\n",
      "Will generate new solvent configuration of 5x5x4 boxes\n",
      "Solvent box contains 45345 atoms in 15115 residues\n",
      "Removed 5904 solvent atoms due to solvent-solvent overlap\n",
      "Removed 4110 solvent atoms due to solute-solvent overlap\n",
      "Sorting configuration\n",
      "Found 1 molecule type:\n",
      "    SOL (   3 atoms): 11777 residues\n",
      "Generated solvent containing 35331 atoms in 11777 residues\n",
      "Writing generated configuration to 1fjs_solv.gro\n",
      "\n",
      "Output configuration contains 39748 atoms in 12063 residues\n",
      "Volume                 :     399.595 (nm^3)\n",
      "Density                :     1023.56 (g/l)\n",
      "Number of solvent molecules:  11777   \n",
      "\n",
      "Processing topology\n",
      "Adding line for 11777 solvent molecules with resname (SOL) to topology file (topol.top)\n",
      "\n",
      "Back Off! I just backed up topol.top to ./#topol.top.2#\n",
      "\n",
      "GROMACS reminds you: \"It's Bicycle Repair Man !\" (Monty Python)\n",
      "\n"
     ]
    }
   ],
   "source": [
    "!gmx solvate -cp 1fjs_newbox.gro -cs spc216.gro -o 1fjs_solv.gro -p topol.top"
   ]
  },
  {
   "cell_type": "markdown",
   "metadata": {
    "nbpresent": {
     "id": "3fb8e6fc-1343-47e9-925c-c754b822b91b"
    }
   },
   "source": [
    "The configuration of the protein (-cp) is contained in the output of the previous `gmx editconf` step, and the configuration of the solvent (-cs) is part of the standard GROMACS installation. We are using spc216.gro, which is a generic equilibrated 3-point solvent model box. You can use spc216.gro as the solvent configuration for SPC, SPC/E, or TIP3P water, since they are all three-point water models. The output is called 1fjs_solv.gro, and we tell solvate the name of the topology file (topol.top) so it can be modified. Note the changes to the [ molecules ] directive of topol.top:"
   ]
  },
  {
   "cell_type": "code",
   "execution_count": 22,
   "metadata": {
    "nbpresent": {
     "id": "27850d11-a3ed-4feb-939a-3d687b5ab001"
    },
    "scrolled": true
   },
   "outputs": [
    {
     "name": "stdout",
     "output_type": "stream",
     "text": [
      "\n",
      "[ system ]\n",
      "; Name\n",
      "COAGULATION FACTOR XA; COAGULATION FACTOR XA in water\n",
      "\n",
      "[ molecules ]\n",
      "; Compound        #mols\n",
      "Protein_chain_A     1\n",
      "Protein_chain_L     1\n",
      "SOL             11777\n"
     ]
    }
   ],
   "source": [
    "!tail topol.top"
   ]
  },
  {
   "cell_type": "markdown",
   "metadata": {
    "nbpresent": {
     "id": "cf8c6e22-eb31-486d-88d9-67d800524670"
    }
   },
   "source": [
    "\n",
    "`gmx solvate` kept track of how many water molecules it has added, which it then writes to your topology to reflect the changes that have been made. Note that if you use any other (non-water) solvent,`gmx solvate` will not make these changes to your topology! Its compatibility with updating water molecules is hard-coded."
   ]
  },
  {
   "cell_type": "markdown",
   "metadata": {
    "nbpresent": {
     "id": "33086651-f3c8-43b7-b47f-36645fa72aaa"
    }
   },
   "source": [
    "# Adding Ions"
   ]
  },
  {
   "cell_type": "markdown",
   "metadata": {
    "nbpresent": {
     "id": "1c524b7e-8fcc-420a-b0fb-8ccb7d0f54c1"
    }
   },
   "source": [
    "We now have a solvated system that contains a charged protein. The output of `pdb2gmx` told us that the protein has a net charge of -2e (based on its amino acid composition). If you missed this information in the `pdb2gmx` output, look at the last line of each [ atoms ] directive in topology file; it should read  \"qtot 1.\" for chain A and  \"qtot -3.\" for chain L. Since life does not exist at a net charge, we must add ions to our system. Further, we aim to approximate physiological conditions and use therefore a NaCl concentration of 0.15 M."
   ]
  },
  {
   "cell_type": "markdown",
   "metadata": {
    "nbpresent": {
     "id": "3c3ff084-1058-4bf3-afa0-a0cea3c1df09"
    }
   },
   "source": [
    "## Preparing the input for \"gmx genion\""
   ]
  },
  {
   "cell_type": "markdown",
   "metadata": {
    "nbpresent": {
     "id": "68bf2221-bfce-429a-95d9-156af62a3359"
    }
   },
   "source": [
    "The tool for adding ions within GROMACS is called [`gmx genion`](https://manual.gromacs.org/current/onlinehelp/gmx-genion.html). What `gmx genion` does is read through the topology and replace water molecules with the ions that the user specifies. The input is called a run input file, which has an extension of .tpr; this file is produced by the GROMACS grompp module (GROMACS pre-processor), which will also be used later when we run our first simulation. `grompp` processes the coordinate file and topology (which describes the molecules) to generate an atomic-level input (`.tpr`). The .tpr file contains all the parameters for all of the atoms in the system."
   ]
  },
  {
   "cell_type": "markdown",
   "metadata": {
    "nbpresent": {
     "id": "15158eb8-2025-44e7-88dd-9966aea64b60"
    }
   },
   "source": [
    "To produce a .tpr file with [`gmx grompp`](https://manual.gromacs.org/current/onlinehelp/gmx-grompp.html), we will need an additional input file, with the extension .mdp (molecular dynamics parameter file); `gmx grompp` will assemble the parameters specified in the .mdp file with the coordinates and topology information to generate a .tpr file."
   ]
  },
  {
   "cell_type": "markdown",
   "metadata": {
    "nbpresent": {
     "id": "cc071b1a-1700-4426-9285-a039f320ee60"
    }
   },
   "source": [
    "An .mdp file is normally used to run energy minimization or an MD simulation, but in this case is simply used to generate an atomic description of the system. We can proceed with an completely empty .mdp file in this case, its only role is to create the .tpr file."
   ]
  },
  {
   "cell_type": "code",
   "execution_count": 23,
   "metadata": {},
   "outputs": [],
   "source": [
    "!touch ions.mdp"
   ]
  },
  {
   "cell_type": "markdown",
   "metadata": {
    "nbpresent": {
     "id": "3f058b29-44cc-4e0c-8462-588b1279457b"
    }
   },
   "source": [
    "Assemble your .tpr file with the following:"
   ]
  },
  {
   "cell_type": "code",
   "execution_count": 24,
   "metadata": {
    "nbpresent": {
     "id": "1bc074e1-d521-46ec-b9a2-359cdea24637"
    },
    "scrolled": true
   },
   "outputs": [
    {
     "name": "stdout",
     "output_type": "stream",
     "text": [
      "                :-) GROMACS - gmx grompp, 2023.3-conda_forge (-:\n",
      "\n",
      "Executable:   /Users/alejandraduran/opt/anaconda3/envs/md-intro-tutorial/bin.SSE2/gmx\n",
      "Data prefix:  /Users/alejandraduran/opt/anaconda3/envs/md-intro-tutorial\n",
      "Working dir:  /Users/alejandraduran/Documents/Pton_courses/CBE422/final_project/data\n",
      "Command line:\n",
      "  gmx grompp -f ions.mdp -c 1fjs_solv.gro -p topol.top -o ions.tpr\n",
      "\n",
      "\n",
      "NOTE 1 [file ions.mdp]:\n",
      "  For a correct single-point energy evaluation with nsteps = 0, use\n",
      "  continuation = yes to avoid constraining the input coordinates.\n",
      "\n",
      "Setting the LD random seed to 2145120063\n",
      "\n",
      "Generated 20503 of the 20503 non-bonded parameter combinations\n",
      "Generating 1-4 interactions: fudge = 1\n",
      "\n",
      "Generated 17396 of the 20503 1-4 parameter combinations\n",
      "\n",
      "Excluding 3 bonded neighbours molecule type 'Protein_chain_A'\n",
      "\n",
      "Excluding 3 bonded neighbours molecule type 'Protein_chain_L'\n",
      "\n",
      "Excluding 2 bonded neighbours molecule type 'SOL'\n",
      "\n",
      "NOTE 2 [file topol.top, line 48]:\n",
      "  System has non-zero total charge: -2.000000\n",
      "  Total charge should normally be an integer. See\n",
      "  http://www.gromacs.org/Documentation/Floating_Point_Arithmetic\n",
      "  for discussion on how close it should be to an integer.\n",
      "\n",
      "\n",
      "\n",
      "\n",
      "NOTE 3 [file topol.top, line 48]:\n",
      "  The bond in molecule-type Protein_chain_A between atoms 415 OG1 and 416\n",
      "  HG1 has an estimated oscillational period of 9.1e-03 ps, which is less\n",
      "  than 10 times the time step of 1.0e-03 ps.\n",
      "  Maybe you forgot to change the constraints mdp option.\n",
      "\n",
      "Analysing residue names:\n",
      "There are:   286    Protein residues\n",
      "There are: 11777      Water residues\n",
      "Analysing Protein...\n",
      "Number of degrees of freedom in T-Coupling group rest is 83910.00\n",
      "The integrator does not provide a ensemble temperature, there is no system ensemble temperature\n",
      "\n",
      "NOTE 4 [file ions.mdp]:\n",
      "  NVE simulation with an initial temperature of zero: will use a Verlet\n",
      "  buffer of 10%. Check your energy drift!\n",
      "\n",
      "\n",
      "NOTE 5 [file ions.mdp]:\n",
      "  You are using a plain Coulomb cut-off, which might produce artifacts.\n",
      "  You might want to consider using PME electrostatics.\n",
      "\n",
      "\n",
      "\n",
      "This run will generate roughly 3 Mb of data\n",
      "\n",
      "There were 5 NOTEs\n",
      "\n",
      "GROMACS reminds you: \"Even if you are on the right track, you will get run over if you just sit there.\" (Will Rogers)\n",
      "\n"
     ]
    }
   ],
   "source": [
    "!gmx grompp -f ions.mdp -c 1fjs_solv.gro -p topol.top -o ions.tpr"
   ]
  },
  {
   "cell_type": "markdown",
   "metadata": {
    "nbpresent": {
     "id": "9c28bff3-bef7-4d81-aac3-7581c40629c2"
    }
   },
   "source": [
    "Be aware that there are some `NOTE` in the output. In all other cases than generating an output `tpr` for `gmx genion` these are very important and may not be ignored, here however we only need the atomic-level description of our system in the binary file ions.tpr. We will pass this file to genion:"
   ]
  },
  {
   "cell_type": "markdown",
   "metadata": {},
   "source": [
    "*Note: A lot of GROMACS tools promt for input at the command line. As this does not play well with the jupyter notebook setup, we feed the input to the command line with a print command and a newline \\n substituting enter*"
   ]
  },
  {
   "cell_type": "code",
   "execution_count": 25,
   "metadata": {
    "nbpresent": {
     "id": "88837846-7a76-4ce4-9419-6588a42e8b1f"
    },
    "scrolled": true
   },
   "outputs": [
    {
     "name": "stdout",
     "output_type": "stream",
     "text": [
      "                :-) GROMACS - gmx genion, 2023.3-conda_forge (-:\n",
      "\n",
      "Executable:   /Users/alejandraduran/opt/anaconda3/envs/md-intro-tutorial/bin.SSE2/gmx\n",
      "Data prefix:  /Users/alejandraduran/opt/anaconda3/envs/md-intro-tutorial\n",
      "Working dir:  /Users/alejandraduran/Documents/Pton_courses/CBE422/final_project/data\n",
      "Command line:\n",
      "  gmx genion -s ions.tpr -o 1fjs_solv_ions.gro -conc 0.15 -p topol.top -pname NA -nname CL -neutral\n",
      "\n",
      "Reading file ions.tpr, VERSION 2023.3-conda_forge (single precision)\n",
      "Reading file ions.tpr, VERSION 2023.3-conda_forge (single precision)\n",
      "Will try to add 38 NA ions and 36 CL ions.\n",
      "Select a continuous group of solvent molecules\n",
      "Group     0 (         System) has 39748 elements\n",
      "Group     1 (        Protein) has  4417 elements\n",
      "Group     2 (      Protein-H) has  2238 elements\n",
      "Group     3 (        C-alpha) has   286 elements\n",
      "Group     4 (       Backbone) has   858 elements\n",
      "Group     5 (      MainChain) has  1142 elements\n",
      "Group     6 (   MainChain+Cb) has  1401 elements\n",
      "Group     7 (    MainChain+H) has  1423 elements\n",
      "Group     8 (      SideChain) has  2994 elements\n",
      "Group     9 (    SideChain-H) has  1096 elements\n",
      "Group    10 (    Prot-Masses) has  4417 elements\n",
      "Group    11 (    non-Protein) has 35331 elements\n",
      "Group    12 (          Water) has 35331 elements\n",
      "Group    13 (            SOL) has 35331 elements\n",
      "Group    14 (      non-Water) has  4417 elements\n",
      "Select a group: Selected 13: 'SOL'\n",
      "Number of (3-atomic) solvent molecules: 11777\n",
      "\n",
      "Processing topology\n",
      "Replacing 74 solute molecules in topology file (topol.top)  by 38 NA and 36 CL ions.\n",
      "\n",
      "Back Off! I just backed up topol.top to ./#topol.top.3#\n",
      "Using random seed -18104481.\n",
      "Replacing solvent molecule 7904 (atom 28129) with NA\n",
      "Replacing solvent molecule 10898 (atom 37111) with NA\n",
      "Replacing solvent molecule 11162 (atom 37903) with NA\n",
      "Replacing solvent molecule 2328 (atom 11401) with NA\n",
      "Replacing solvent molecule 10877 (atom 37048) with NA\n",
      "Replacing solvent molecule 4353 (atom 17476) with NA\n",
      "Replacing solvent molecule 11773 (atom 39736) with NA\n",
      "Replacing solvent molecule 33 (atom 4516) with NA\n",
      "Replacing solvent molecule 10012 (atom 34453) with NA\n",
      "Replacing solvent molecule 629 (atom 6304) with NA\n",
      "Replacing solvent molecule 1822 (atom 9883) with NA\n",
      "Replacing solvent molecule 1028 (atom 7501) with NA\n",
      "Replacing solvent molecule 7995 (atom 28402) with NA\n",
      "Replacing solvent molecule 1372 (atom 8533) with NA\n",
      "Replacing solvent molecule 10664 (atom 36409) with NA\n",
      "Replacing solvent molecule 5262 (atom 20203) with NA\n",
      "Replacing solvent molecule 7139 (atom 25834) with NA\n",
      "Replacing solvent molecule 4110 (atom 16747) with NA\n",
      "Replacing solvent molecule 1043 (atom 7546) with NA\n",
      "Replacing solvent molecule 640 (atom 6337) with NA\n",
      "Replacing solvent molecule 344 (atom 5449) with NA\n",
      "Replacing solvent molecule 2442 (atom 11743) with NA\n",
      "Replacing solvent molecule 6417 (atom 23668) with NA\n",
      "Replacing solvent molecule 3867 (atom 16018) with NA\n",
      "Replacing solvent molecule 5264 (atom 20209) with NA\n",
      "Replacing solvent molecule 1263 (atom 8206) with NA\n",
      "Replacing solvent molecule 1461 (atom 8800) with NA\n",
      "Replacing solvent molecule 3082 (atom 13663) with NA\n",
      "Replacing solvent molecule 2147 (atom 10858) with NA\n",
      "Replacing solvent molecule 3185 (atom 13972) with NA\n",
      "Replacing solvent molecule 2111 (atom 10750) with NA\n",
      "Replacing solvent molecule 5576 (atom 21145) with NA\n",
      "Replacing solvent molecule 1189 (atom 7984) with NA\n",
      "Replacing solvent molecule 7732 (atom 27613) with NA\n",
      "Replacing solvent molecule 2963 (atom 13306) with NA\n",
      "Replacing solvent molecule 2922 (atom 13183) with NA\n",
      "Replacing solvent molecule 5445 (atom 20752) with NA\n",
      "Replacing solvent molecule 6873 (atom 25036) with NA\n",
      "Replacing solvent molecule 3394 (atom 14599) with CL\n",
      "Replacing solvent molecule 163 (atom 4906) with CL\n",
      "Replacing solvent molecule 6316 (atom 23365) with CL\n",
      "Replacing solvent molecule 11156 (atom 37885) with CL\n",
      "Replacing solvent molecule 11023 (atom 37486) with CL\n",
      "Replacing solvent molecule 2892 (atom 13093) with CL\n",
      "Replacing solvent molecule 3808 (atom 15841) with CL\n",
      "Replacing solvent molecule 6437 (atom 23728) with CL\n",
      "Replacing solvent molecule 858 (atom 6991) with CL\n",
      "Replacing solvent molecule 8273 (atom 29236) with CL\n",
      "Replacing solvent molecule 5345 (atom 20452) with CL\n",
      "Replacing solvent molecule 8947 (atom 31258) with CL\n",
      "Replacing solvent molecule 2886 (atom 13075) with CL\n",
      "Replacing solvent molecule 3535 (atom 15022) with CL\n",
      "Replacing solvent molecule 8595 (atom 30202) with CL\n",
      "Replacing solvent molecule 8283 (atom 29266) with CL\n",
      "Replacing solvent molecule 1773 (atom 9736) with CL\n",
      "Replacing solvent molecule 5320 (atom 20377) with CL\n",
      "Replacing solvent molecule 6558 (atom 24091) with CL\n",
      "Replacing solvent molecule 11245 (atom 38152) with CL\n",
      "Replacing solvent molecule 1394 (atom 8599) with CL\n",
      "Replacing solvent molecule 3364 (atom 14509) with CL\n",
      "Replacing solvent molecule 3017 (atom 13468) with CL\n",
      "Replacing solvent molecule 8993 (atom 31396) with CL\n",
      "Replacing solvent molecule 48 (atom 4561) with CL\n",
      "Replacing solvent molecule 3552 (atom 15073) with CL\n",
      "Replacing solvent molecule 6331 (atom 23410) with CL\n",
      "Replacing solvent molecule 4257 (atom 17188) with CL\n",
      "Replacing solvent molecule 2775 (atom 12742) with CL\n",
      "Replacing solvent molecule 4289 (atom 17284) with CL\n",
      "Replacing solvent molecule 4134 (atom 16819) with CL\n",
      "Replacing solvent molecule 4113 (atom 16756) with CL\n",
      "Replacing solvent molecule 1447 (atom 8758) with CL\n",
      "Replacing solvent molecule 4792 (atom 18793) with CL\n",
      "Replacing solvent molecule 4576 (atom 18145) with CL\n",
      "Replacing solvent molecule 9591 (atom 33190) with CL\n",
      "\n",
      "\n",
      "GROMACS reminds you: \"If you want to destroy my sweater, hold this thread as I walk away.\" (Weezer)\n",
      "\n"
     ]
    }
   ],
   "source": [
    "!printf \"SOL\\n\" | gmx genion -s ions.tpr -o 1fjs_solv_ions.gro -conc 0.15 -p \\\n",
    "topol.top -pname NA -nname CL -neutral"
   ]
  },
  {
   "cell_type": "markdown",
   "metadata": {
    "nbpresent": {
     "id": "af2e805e-ca9f-4b95-b58f-0d4055f7d165"
    }
   },
   "source": [
    "We chose group \"SOL\" for embedding ions. You do not want to replace parts of your protein with ions."
   ]
  },
  {
   "cell_type": "markdown",
   "metadata": {},
   "source": [
    "*Note: Make sure to run `gmx genion` only once. `gmx genion` edits the topology \"in-place\" and does not know if there are already Cl or Na ions in the system. If you run it over again, ions will be added until there is no water left to replace with ions.*"
   ]
  },
  {
   "cell_type": "markdown",
   "metadata": {
    "nbpresent": {
     "id": "9f3bfe12-f048-4d58-88ed-b2cb22450ea2"
    }
   },
   "source": [
    "In the `gmx genion` command, we provide the structure/state file (-s) as input, generate a .gro file as output (-o), process the topology (-p) to reflect the removal of water molecules and addition of ions, define positive and negative ion names (-pname and -nname, respectively), and tell `gmx genion` to add ions necessary to neutralize the net charge on the protein by adding the correct number of negative ions (-neutral, which in this case will add 2 Na+ ions to offset the -2 charge on the protein). We further use genion to add a specified concentration of ions in addition to simply neutralizing the system by specifying the -neutral and -conc options in conjunction. Refer to the genion man page for information on how to use these options.\n",
    "\n",
    "The names of the ions specified with -pname and -nname GROMACS are standardized and not dependent on the force-field. The specified ion names are always the elemental symbol in all capital letters, which is the [ moleculetype ] name that is then written to the topology. Residue or atom names may or may not append the sign of the charge (+/-), depending on the force field. Do not use atom or residue names in the genion command, or you will encounter errors in subsequent steps."
   ]
  },
  {
   "cell_type": "markdown",
   "metadata": {
    "nbpresent": {
     "id": "e474e9aa-baeb-4ff7-b445-c17bbdd0173a"
    }
   },
   "source": [
    "Your [ molecules ] directive should now be similar to"
   ]
  },
  {
   "cell_type": "markdown",
   "metadata": {
    "nbpresent": {
     "id": "3fe444f7-f9a1-4b1b-8faa-8436793520fe"
    }
   },
   "source": [
    "    [ molecules ]\n",
    "    ; Compound      #mols\n",
    "    Protein_chain_A    1\n",
    "    Protein_chain_L    1\n",
    "    SOL           11703\n",
    "    NA              38\n",
    "    CL              36"
   ]
  },
  {
   "cell_type": "markdown",
   "metadata": {},
   "source": [
    "Let's check the last lines of the topology file"
   ]
  },
  {
   "cell_type": "code",
   "execution_count": 26,
   "metadata": {
    "nbpresent": {
     "id": "e6be30a5-ee4c-44f9-bb44-5799f3e70317"
    },
    "scrolled": true
   },
   "outputs": [
    {
     "name": "stdout",
     "output_type": "stream",
     "text": [
      "; Compound        #mols\n",
      "Protein_chain_A     1\n",
      "Protein_chain_L     1\n",
      "SOL         11703\n",
      "NA               38\n",
      "CL               36\n"
     ]
    }
   ],
   "source": [
    "!tail -6 topol.top"
   ]
  },
  {
   "cell_type": "markdown",
   "metadata": {},
   "source": [
    "If you see multiple lines of NA and CL, you most likely ran genion multiple times. Start over with the `pdb2gmx`."
   ]
  },
  {
   "cell_type": "markdown",
   "metadata": {
    "nbpresent": {
     "id": "bb96f417-4653-4a5e-914c-54771fe98290"
    }
   },
   "source": [
    "# Energy minimisation"
   ]
  },
  {
   "cell_type": "markdown",
   "metadata": {
    "nbpresent": {
     "id": "60af9d49-7607-43dd-b50e-ed6111b93c45"
    }
   },
   "source": [
    "The solvated, electroneutral system is now assembled. Before we can begin dynamics, we must ensure that the system has no steric clashes or inappropriate geometry. The structure is relaxed through a process called energy minimization (EM)."
   ]
  },
  {
   "cell_type": "markdown",
   "metadata": {
    "nbpresent": {
     "id": "60af9d49-7607-43dd-b50e-ed6111b93c45"
    }
   },
   "source": [
    "To perform energy minimization, we are once again going to use `gmx grompp` to assemble the structure, topology, and simulation parameters into a binary input file (.tpr), then we will use GROMACS MD engine, mdrun, to run the energy minimization."
   ]
  },
  {
   "cell_type": "markdown",
   "metadata": {
    "nbpresent": {
     "id": "60af9d49-7607-43dd-b50e-ed6111b93c45"
    }
   },
   "source": [
    "Assemble the binary input using `gmx grompp` using the .mdp parameter file, as input. The simulation parameter file (.mdp) determines how the simulation shall be run. Find more information on all the options in the [manual](http://manual.gromacs.org/documentation/current/user-guide/mdp-options.html) or in the following [webinar](https://bioexcel.eu/webinar-a-walk-through-simulation-parameter-options-mdp-files-for-gromacs-2019-12-05/). There are a lot of parameters that can be set, here we ony set the elemental parametes and leave everything else as default. Let's have a look at the input file:"
   ]
  },
  {
   "cell_type": "code",
   "execution_count": 27,
   "metadata": {},
   "outputs": [
    {
     "name": "stdout",
     "output_type": "stream",
     "text": [
      "title       = CHARMM steepest descent enrgy minimisation\n",
      "\n",
      "; Parameters describing what to do, when to stop and what to save\n",
      "integrator  = steep  ; Algorithm (steep = steepest descent minimization)\n",
      "emtol       = 1000.0 ; Stop minimization when the maximum force < 1000.0 kJ/mol/nm\n",
      "emstep      = 0.01   ; Minimization step size\n",
      "nstenergy   = 500    ; save energies every 1.0 ps, so we can observe if we are successful\n",
      "nsteps      = -1     ; run as long as we need\n",
      "; Settings that make sure we run with parameters in harmony with the selected force-field\n",
      "constraints             = h-bonds   ; bonds involving H are constrained\n",
      "rcoulomb                = 1.2       ; short-range electrostatic cutoff (in nm)\n",
      "rvdw                    = 1.2       ; short-range van der Waals cutoff (in nm)\n",
      "vdw-modifier            = Force-switch ;  specific CHARMM\n",
      "rvdw_switch             = 1.0       ;\n",
      "DispCorr                = no        ; account for cut-off vdW scheme -\n",
      ";in case of CHARMM DispCorr = EnerPres only for monolayers\n",
      "coulombtype             = PME       ; Particle Mesh Ewald for long-range electrostatics\n",
      "fourierspacing          = 0.15     ; grid spacing for FFT\n",
      "\n",
      "\n"
     ]
    }
   ],
   "source": [
    "!cat input/emin-charmm.mdp"
   ]
  },
  {
   "cell_type": "code",
   "execution_count": 28,
   "metadata": {
    "nbpresent": {
     "id": "34b6c3cb-5926-4ba5-b97a-8b42457956ce"
    },
    "scrolled": true
   },
   "outputs": [
    {
     "name": "stdout",
     "output_type": "stream",
     "text": [
      "                :-) GROMACS - gmx grompp, 2023.3-conda_forge (-:\n",
      "\n",
      "Executable:   /Users/alejandraduran/opt/anaconda3/envs/md-intro-tutorial/bin.SSE2/gmx\n",
      "Data prefix:  /Users/alejandraduran/opt/anaconda3/envs/md-intro-tutorial\n",
      "Working dir:  /Users/alejandraduran/Documents/Pton_courses/CBE422/final_project/data\n",
      "Command line:\n",
      "  gmx grompp -f input/emin-charmm.mdp -c 1fjs_solv_ions.gro -p topol.top -o em.tpr\n",
      "\n",
      "Ignoring obsolete mdp entry 'title'\n",
      "Setting the LD random seed to -547921953\n",
      "\n",
      "Generated 20503 of the 20503 non-bonded parameter combinations\n",
      "Generating 1-4 interactions: fudge = 1\n",
      "\n",
      "Generated 17396 of the 20503 1-4 parameter combinations\n",
      "\n",
      "Excluding 3 bonded neighbours molecule type 'Protein_chain_A'\n",
      "\n",
      "turning H bonds into constraints...\n",
      "\n",
      "Excluding 3 bonded neighbours molecule type 'Protein_chain_L'\n",
      "\n",
      "turning H bonds into constraints...\n",
      "\n",
      "Excluding 2 bonded neighbours molecule type 'SOL'\n",
      "\n",
      "turning H bonds into constraints...\n",
      "\n",
      "Excluding 1 bonded neighbours molecule type 'NA'\n",
      "\n",
      "turning H bonds into constraints...\n",
      "\n",
      "Excluding 1 bonded neighbours molecule type 'CL'\n",
      "\n",
      "turning H bonds into constraints...\n",
      "Analysing residue names:\n",
      "There are:   286    Protein residues\n",
      "There are: 11703      Water residues\n",
      "There are:    74        Ion residues\n",
      "Analysing Protein...\n",
      "Number of degrees of freedom in T-Coupling group rest is 81509.00\n",
      "The integrator does not provide a ensemble temperature, there is no system ensemble temperature\n",
      "\n",
      "The largest distance between excluded atoms is 0.418 nm between atom 3810 and 3812\n",
      "Calculating fourier grid dimensions for X Y Z\n",
      "Using a fourier grid of 56x56x56, spacing 0.148 0.148 0.148\n",
      "\n",
      "Estimate for the relative computational load of the PME mesh part: 0.10\n",
      "\n",
      "This run will generate roughly 3 Mb of data\n",
      "\n",
      "GROMACS reminds you: \"Why is the Earth moving 'round the sun? Floating in the vacuum with no purpose, not a one\" (Fleet Foxes)\n",
      "\n"
     ]
    }
   ],
   "source": [
    "!gmx grompp -f input/emin-charmm.mdp -c 1fjs_solv_ions.gro -p topol.top -o em.tpr"
   ]
  },
  {
   "cell_type": "markdown",
   "metadata": {
    "nbpresent": {
     "id": "b59bc1fe-5773-440c-ac9e-109d3df55ec4"
    }
   },
   "source": [
    "Make sure you have been updating your topol.top file when running genbox and genion, or else you will get lots of nasty error messages (\"number of coordinates in coordinate file does not match topology,\" etc)."
   ]
  },
  {
   "cell_type": "markdown",
   "metadata": {
    "nbpresent": {
     "id": "a9136c8d-2907-40aa-9eae-d697c9467e49"
    }
   },
   "source": [
    "Once run, we will find the energy-minimized structure in a file called `em.gro`. Additionally to this we will find more information on the run in an ASCII-text log file of the EM process,  `em.log`, a file for storage of energy, `em.edr` and a binary full-precision trajectory `em.trr`. \n"
   ]
  },
  {
   "cell_type": "markdown",
   "metadata": {
    "nbpresent": {
     "id": "b59bc1fe-5773-440c-ac9e-109d3df55ec4"
    }
   },
   "source": [
    "We are now ready to run mdrun to carry out the energy minimisation:"
   ]
  },
  {
   "cell_type": "code",
   "execution_count": 29,
   "metadata": {
    "nbpresent": {
     "id": "eb3e7e13-d78e-4c99-806c-99e9b30d3d69"
    },
    "scrolled": true
   },
   "outputs": [
    {
     "name": "stdout",
     "output_type": "stream",
     "text": [
      "                :-) GROMACS - gmx mdrun, 2023.3-conda_forge (-:\n",
      "\n",
      "Executable:   /Users/alejandraduran/opt/anaconda3/envs/md-intro-tutorial/bin.SSE2/gmx\n",
      "Data prefix:  /Users/alejandraduran/opt/anaconda3/envs/md-intro-tutorial\n",
      "Working dir:  /Users/alejandraduran/Documents/Pton_courses/CBE422/final_project/data\n",
      "Command line:\n",
      "  gmx mdrun -v -deffnm em\n",
      "\n",
      "Compiled SIMD is SSE2, but SSE4.1 might be faster (see log).\n",
      "The current CPU can measure timings more accurately than the code in\n",
      "gmx mdrun was configured to use. This might affect your simulation\n",
      "speed as accurate timings are needed for load-balancing.\n",
      "Please consider rebuilding gmx mdrun with the GMX_USE_RDTSCP=ON CMake option.\n",
      "Reading file em.tpr, VERSION 2023.3-conda_forge (single precision)\n",
      "\n",
      "Using 8 MPI threads\n",
      "\n",
      "Steepest Descents:\n",
      "   Tolerance (Fmax)   =  1.00000e+03\n",
      "   Number of steps    =           -1\n",
      "Step=    0, Dmax= 1.0e-02 nm, Epot= -1.52889e+05 Fmax= 4.68462e+05, atom= 2834\n",
      "Step=    1, Dmax= 1.0e-02 nm, Epot= -1.87336e+05 Fmax= 1.25523e+05, atom= 8756\n",
      "Step=    2, Dmax= 1.2e-02 nm, Epot= -2.56843e+05 Fmax= 6.27370e+04, atom= 39599\n",
      "Step=    3, Dmax= 1.4e-02 nm, Epot= -3.07497e+05 Fmax= 2.65571e+04, atom= 39599\n",
      "Step=    4, Dmax= 1.7e-02 nm, Epot= -3.56886e+05 Fmax= 2.08813e+04, atom= 4416\n",
      "Step=    5, Dmax= 2.1e-02 nm, Epot= -3.84554e+05 Fmax= 1.62805e+04, atom= 4416\n",
      "Step=    6, Dmax= 2.5e-02 nm, Epot= -4.06969e+05 Fmax= 1.05163e+04, atom= 4416\n",
      "Step=    7, Dmax= 3.0e-02 nm, Epot= -4.30397e+05 Fmax= 6.81243e+03, atom= 34892\n",
      "Step=    8, Dmax= 3.6e-02 nm, Epot= -4.54242e+05 Fmax= 1.55179e+04, atom= 494\n",
      "Step=    9, Dmax= 4.3e-02 nm, Epot= -4.61366e+05 Fmax= 2.88128e+04, atom= 4060\n",
      "Step=   10, Dmax= 5.2e-02 nm, Epot= -4.65529e+05 Fmax= 3.70805e+04, atom= 4060\n",
      "Step=   11, Dmax= 6.2e-02 nm, Epot= -4.68922e+05 Fmax= 4.28238e+04, atom= 4060\n",
      "Step=   12, Dmax= 7.4e-02 nm, Epot= -4.71346e+05 Fmax= 5.22228e+04, atom= 4060\n",
      "Step=   13, Dmax= 8.9e-02 nm, Epot= -4.73181e+05 Fmax= 6.22102e+04, atom= 4060\n",
      "Step=   14, Dmax= 1.1e-01 nm, Epot= -4.73840e+05 Fmax= 7.72059e+04, atom= 4060\n",
      "Step=   16, Dmax= 6.4e-02 nm, Epot= -4.83096e+05 Fmax= 9.28686e+03, atom= 4060\n",
      "Step=   17, Dmax= 7.7e-02 nm, Epot= -4.91400e+05 Fmax= 5.29048e+04, atom= 3904\n",
      "Step=   18, Dmax= 9.2e-02 nm, Epot= -4.92186e+05 Fmax= 6.33809e+04, atom= 3904\n",
      "Step=   20, Dmax= 5.5e-02 nm, Epot= -4.98789e+05 Fmax= 1.19779e+04, atom= 3904\n",
      "Step=   21, Dmax= 6.7e-02 nm, Epot= -5.00800e+05 Fmax= 6.30731e+04, atom= 4060\n",
      "Step=   22, Dmax= 8.0e-02 nm, Epot= -5.04724e+05 Fmax= 3.82812e+04, atom= 4060\n",
      "Step=   24, Dmax= 4.8e-02 nm, Epot= -5.07089e+05 Fmax= 2.39288e+04, atom= 4060\n",
      "Step=   25, Dmax= 5.8e-02 nm, Epot= -5.07463e+05 Fmax= 4.61832e+04, atom= 4060\n",
      "Step=   26, Dmax= 6.9e-02 nm, Epot= -5.09110e+05 Fmax= 4.69132e+04, atom= 4060\n",
      "Step=   28, Dmax= 4.1e-02 nm, Epot= -5.11946e+05 Fmax= 9.27125e+03, atom= 4060\n",
      "Step=   29, Dmax= 5.0e-02 nm, Epot= -5.13821e+05 Fmax= 6.32459e+04, atom= 4060\n",
      "Step=   30, Dmax= 6.0e-02 nm, Epot= -5.16806e+05 Fmax= 1.82629e+04, atom= 4060\n",
      "Step=   32, Dmax= 3.6e-02 nm, Epot= -5.17971e+05 Fmax= 2.62916e+04, atom= 4060\n",
      "Step=   33, Dmax= 4.3e-02 nm, Epot= -5.19029e+05 Fmax= 2.84259e+04, atom= 4060\n",
      "Step=   34, Dmax= 5.2e-02 nm, Epot= -5.19837e+05 Fmax= 3.72230e+04, atom= 4060\n",
      "Step=   35, Dmax= 6.2e-02 nm, Epot= -5.20642e+05 Fmax= 4.14278e+04, atom= 4060\n",
      "Step=   36, Dmax= 7.4e-02 nm, Epot= -5.20965e+05 Fmax= 5.30280e+04, atom= 4060\n",
      "Step=   37, Dmax= 8.9e-02 nm, Epot= -5.21305e+05 Fmax= 6.03226e+04, atom= 4060\n",
      "Step=   39, Dmax= 5.3e-02 nm, Epot= -5.24588e+05 Fmax= 7.89394e+03, atom= 4060\n",
      "Step=   40, Dmax= 6.4e-02 nm, Epot= -5.25526e+05 Fmax= 5.97146e+04, atom= 4060\n",
      "Step=   41, Dmax= 7.7e-02 nm, Epot= -5.28253e+05 Fmax= 4.34601e+04, atom= 4060\n",
      "Step=   43, Dmax= 4.6e-02 nm, Epot= -5.30138e+05 Fmax= 1.91092e+04, atom= 4060\n",
      "Step=   45, Dmax= 2.8e-02 nm, Epot= -5.30987e+05 Fmax= 1.73953e+04, atom= 4060\n",
      "Step=   46, Dmax= 3.3e-02 nm, Epot= -5.31695e+05 Fmax= 2.37127e+04, atom= 4060\n",
      "Step=   47, Dmax= 4.0e-02 nm, Epot= -5.32343e+05 Fmax= 2.73044e+04, atom= 4060\n",
      "Step=   48, Dmax= 4.8e-02 nm, Epot= -5.32791e+05 Fmax= 3.35125e+04, atom= 4060\n",
      "Step=   49, Dmax= 5.7e-02 nm, Epot= -5.33150e+05 Fmax= 3.97977e+04, atom= 4060\n",
      "Step=   50, Dmax= 6.9e-02 nm, Epot= -5.33189e+05 Fmax= 4.77411e+04, atom= 4060\n",
      "Step=   52, Dmax= 4.1e-02 nm, Epot= -5.35693e+05 Fmax= 4.83921e+03, atom= 4060\n",
      "Step=   53, Dmax= 5.0e-02 nm, Epot= -5.36309e+05 Fmax= 5.28015e+04, atom= 4060\n",
      "Step=   54, Dmax= 6.0e-02 nm, Epot= -5.39583e+05 Fmax= 2.67567e+04, atom= 4060\n",
      "Step=   56, Dmax= 3.6e-02 nm, Epot= -5.40446e+05 Fmax= 1.94007e+04, atom= 4060\n",
      "Step=   58, Dmax= 2.1e-02 nm, Epot= -5.41226e+05 Fmax= 8.02210e+03, atom= 4060\n",
      "Step=   59, Dmax= 2.6e-02 nm, Epot= -5.41657e+05 Fmax= 2.40626e+04, atom= 4060\n",
      "Step=   60, Dmax= 3.1e-02 nm, Epot= -5.42562e+05 Fmax= 1.50862e+04, atom= 4060\n",
      "Step=   62, Dmax= 1.9e-02 nm, Epot= -5.43206e+05 Fmax= 8.46726e+03, atom= 4060\n",
      "Step=   63, Dmax= 2.2e-02 nm, Epot= -5.43533e+05 Fmax= 1.98124e+04, atom= 4060\n",
      "Step=   64, Dmax= 2.7e-02 nm, Epot= -5.44272e+05 Fmax= 1.41155e+04, atom= 4060\n",
      "Step=   66, Dmax= 1.6e-02 nm, Epot= -5.44929e+05 Fmax= 6.18539e+03, atom= 4060\n",
      "Step=   67, Dmax= 1.9e-02 nm, Epot= -5.45257e+05 Fmax= 1.81999e+04, atom= 4060\n",
      "Step=   68, Dmax= 2.3e-02 nm, Epot= -5.46083e+05 Fmax= 1.13140e+04, atom= 3836\n",
      "Step=   70, Dmax= 1.4e-02 nm, Epot= -5.46653e+05 Fmax= 6.81913e+03, atom= 3836\n",
      "Step=   71, Dmax= 1.7e-02 nm, Epot= -5.46999e+05 Fmax= 1.51182e+04, atom= 3836\n",
      "Step=   72, Dmax= 2.0e-02 nm, Epot= -5.47625e+05 Fmax= 1.09564e+04, atom= 3836\n",
      "Step=   73, Dmax= 2.4e-02 nm, Epot= -5.47667e+05 Fmax= 2.06664e+04, atom= 3836\n",
      "Step=   74, Dmax= 2.9e-02 nm, Epot= -5.48350e+05 Fmax= 1.68526e+04, atom= 3836\n",
      "Step=   76, Dmax= 1.7e-02 nm, Epot= -5.49122e+05 Fmax= 5.69736e+03, atom= 3836\n",
      "Step=   77, Dmax= 2.1e-02 nm, Epot= -5.49372e+05 Fmax= 2.12421e+04, atom= 3836\n",
      "Step=   78, Dmax= 2.5e-02 nm, Epot= -5.50273e+05 Fmax= 1.13626e+04, atom= 3836\n",
      "Step=   80, Dmax= 1.5e-02 nm, Epot= -5.50726e+05 Fmax= 8.13465e+03, atom= 3836\n",
      "Step=   81, Dmax= 1.8e-02 nm, Epot= -5.51033e+05 Fmax= 1.54011e+04, atom= 3836\n",
      "Step=   82, Dmax= 2.1e-02 nm, Epot= -5.51513e+05 Fmax= 1.26230e+04, atom= 3836\n",
      "Step=   83, Dmax= 2.6e-02 nm, Epot= -5.51596e+05 Fmax= 2.13272e+04, atom= 3836\n",
      "Step=   84, Dmax= 3.1e-02 nm, Epot= -5.52095e+05 Fmax= 1.89845e+04, atom= 3836\n",
      "Step=   86, Dmax= 1.8e-02 nm, Epot= -5.52830e+05 Fmax= 5.21966e+03, atom= 3836\n",
      "Step=   87, Dmax= 2.2e-02 nm, Epot= -5.53088e+05 Fmax= 2.37771e+04, atom= 3836\n",
      "Step=   88, Dmax= 2.7e-02 nm, Epot= -5.53984e+05 Fmax= 1.12500e+04, atom= 3836\n",
      "Step=   90, Dmax= 1.6e-02 nm, Epot= -5.54358e+05 Fmax= 9.69921e+03, atom= 3836\n",
      "Step=   91, Dmax= 1.9e-02 nm, Epot= -5.54620e+05 Fmax= 1.55756e+04, atom= 3836\n",
      "Step=   92, Dmax= 2.3e-02 nm, Epot= -5.54993e+05 Fmax= 1.45356e+04, atom= 3836\n",
      "Step=   93, Dmax= 2.8e-02 nm, Epot= -5.55086e+05 Fmax= 2.19251e+04, atom= 3836\n",
      "Step=   94, Dmax= 3.3e-02 nm, Epot= -5.55440e+05 Fmax= 2.13792e+04, atom= 3836\n",
      "Step=   96, Dmax= 2.0e-02 nm, Epot= -5.56194e+05 Fmax= 4.60243e+03, atom= 3836\n",
      "Step=   97, Dmax= 2.4e-02 nm, Epot= -5.56444e+05 Fmax= 2.66294e+04, atom= 3836\n",
      "Step=   98, Dmax= 2.9e-02 nm, Epot= -5.57401e+05 Fmax= 1.10140e+04, atom= 3836\n",
      "Step=  100, Dmax= 1.7e-02 nm, Epot= -5.57706e+05 Fmax= 1.14836e+04, atom= 3836\n",
      "Step=  101, Dmax= 2.1e-02 nm, Epot= -5.57941e+05 Fmax= 1.56691e+04, atom= 3836\n",
      "Step=  102, Dmax= 2.5e-02 nm, Epot= -5.58215e+05 Fmax= 1.66776e+04, atom= 3836\n",
      "Step=  103, Dmax= 3.0e-02 nm, Epot= -5.58320e+05 Fmax= 2.24862e+04, atom= 3836\n",
      "Step=  104, Dmax= 3.6e-02 nm, Epot= -5.58536e+05 Fmax= 2.40254e+04, atom= 3836\n",
      "Step=  106, Dmax= 2.1e-02 nm, Epot= -5.59346e+05 Fmax= 3.86522e+03, atom= 3836\n",
      "Step=  107, Dmax= 2.6e-02 nm, Epot= -5.59611e+05 Fmax= 2.98225e+04, atom= 3836\n",
      "Step=  108, Dmax= 3.1e-02 nm, Epot= -5.60680e+05 Fmax= 1.06558e+04, atom= 3836\n",
      "Step=  110, Dmax= 1.8e-02 nm, Epot= -5.60917e+05 Fmax= 1.34826e+04, atom= 3836\n",
      "Step=  111, Dmax= 2.2e-02 nm, Epot= -5.61146e+05 Fmax= 1.56964e+04, atom= 3836\n",
      "Step=  112, Dmax= 2.7e-02 nm, Epot= -5.61316e+05 Fmax= 1.90439e+04, atom= 3836\n",
      "Step=  113, Dmax= 3.2e-02 nm, Epot= -5.61446e+05 Fmax= 2.30298e+04, atom= 3836\n",
      "Step=  114, Dmax= 3.8e-02 nm, Epot= -5.61515e+05 Fmax= 2.69197e+04, atom= 3836\n",
      "Step=  116, Dmax= 2.3e-02 nm, Epot= -5.62414e+05 Fmax= 3.02086e+03, atom= 3836\n",
      "Step=  117, Dmax= 2.8e-02 nm, Epot= -5.62763e+05 Fmax= 3.34292e+04, atom= 3836\n",
      "Step=  118, Dmax= 3.3e-02 nm, Epot= -5.64000e+05 Fmax= 1.01484e+04, atom= 3836\n",
      "Step=  120, Dmax= 2.0e-02 nm, Epot= -5.64162e+05 Fmax= 1.56978e+04, atom= 3836\n",
      "Step=  121, Dmax= 2.4e-02 nm, Epot= -5.64406e+05 Fmax= 1.56678e+04, atom= 3836\n",
      "Step=  122, Dmax= 2.9e-02 nm, Epot= -5.64461e+05 Fmax= 2.16327e+04, atom= 3836\n",
      "Step=  123, Dmax= 3.4e-02 nm, Epot= -5.64633e+05 Fmax= 2.35739e+04, atom= 3836\n",
      "Step=  125, Dmax= 2.1e-02 nm, Epot= -5.65292e+05 Fmax= 3.58198e+03, atom= 3836\n",
      "Step=  126, Dmax= 2.5e-02 nm, Epot= -5.65580e+05 Fmax= 2.87475e+04, atom= 3836\n",
      "Step=  127, Dmax= 3.0e-02 nm, Epot= -5.66386e+05 Fmax= 1.01818e+04, atom= 3836\n",
      "Step=  129, Dmax= 1.8e-02 nm, Epot= -5.66574e+05 Fmax= 1.32544e+04, atom= 3836\n",
      "Step=  130, Dmax= 2.1e-02 nm, Epot= -5.66765e+05 Fmax= 1.46513e+04, atom= 3836\n",
      "Step=  131, Dmax= 2.6e-02 nm, Epot= -5.66882e+05 Fmax= 1.90878e+04, atom= 3836\n",
      "Step=  132, Dmax= 3.1e-02 nm, Epot= -5.67029e+05 Fmax= 2.10595e+04, atom= 3836\n",
      "Step=  134, Dmax= 1.8e-02 nm, Epot= -5.67545e+05 Fmax= 3.00091e+03, atom= 3836\n",
      "Step=  135, Dmax= 2.2e-02 nm, Epot= -5.67935e+05 Fmax= 2.61085e+04, atom= 3836\n",
      "Step=  136, Dmax= 2.7e-02 nm, Epot= -5.68625e+05 Fmax= 8.77312e+03, atom= 3836\n",
      "Step=  138, Dmax= 1.6e-02 nm, Epot= -5.68802e+05 Fmax= 1.20449e+04, atom= 3836\n",
      "Step=  139, Dmax= 1.9e-02 nm, Epot= -5.68987e+05 Fmax= 1.31038e+04, atom= 3836\n",
      "Step=  140, Dmax= 2.3e-02 nm, Epot= -5.69111e+05 Fmax= 1.68780e+04, atom= 3836\n",
      "Step=  141, Dmax= 2.8e-02 nm, Epot= -5.69248e+05 Fmax= 1.93726e+04, atom= 3836\n",
      "Step=  142, Dmax= 3.3e-02 nm, Epot= -5.69290e+05 Fmax= 2.37452e+04, atom= 3836\n",
      "Step=  143, Dmax= 4.0e-02 nm, Epot= -5.69302e+05 Fmax= 2.85392e+04, atom= 3836\n",
      "Step=  145, Dmax= 2.4e-02 nm, Epot= -5.70094e+05 Fmax= 2.89876e+03, atom= 3836\n",
      "Step=  146, Dmax= 2.9e-02 nm, Epot= -5.70386e+05 Fmax= 3.41400e+04, atom= 3836\n",
      "Step=  147, Dmax= 3.4e-02 nm, Epot= -5.71331e+05 Fmax= 1.08626e+04, atom= 3836\n",
      "Step=  149, Dmax= 2.1e-02 nm, Epot= -5.71438e+05 Fmax= 1.63654e+04, atom= 3836\n",
      "Step=  150, Dmax= 2.5e-02 nm, Epot= -5.71622e+05 Fmax= 1.58676e+04, atom= 3836\n",
      "Step=  152, Dmax= 1.5e-02 nm, Epot= -5.71924e+05 Fmax= 3.48220e+03, atom= 3836\n",
      "Step=  153, Dmax= 1.8e-02 nm, Epot= -5.72202e+05 Fmax= 1.97586e+04, atom= 3836\n",
      "Step=  154, Dmax= 2.1e-02 nm, Epot= -5.72587e+05 Fmax= 8.19147e+03, atom= 3836\n",
      "Step=  156, Dmax= 1.3e-02 nm, Epot= -5.72756e+05 Fmax= 8.57225e+03, atom= 3836\n",
      "Step=  157, Dmax= 1.5e-02 nm, Epot= -5.72908e+05 Fmax= 1.15907e+04, atom= 3836\n",
      "Step=  158, Dmax= 1.8e-02 nm, Epot= -5.73064e+05 Fmax= 1.25109e+04, atom= 3836\n",
      "Step=  159, Dmax= 2.2e-02 nm, Epot= -5.73167e+05 Fmax= 1.65671e+04, atom= 3836\n",
      "Step=  160, Dmax= 2.6e-02 nm, Epot= -5.73296e+05 Fmax= 1.80955e+04, atom= 3836\n",
      "Step=  161, Dmax= 3.2e-02 nm, Epot= -5.73305e+05 Fmax= 2.38362e+04, atom= 3836\n",
      "Step=  162, Dmax= 3.8e-02 nm, Epot= -5.73379e+05 Fmax= 2.59944e+04, atom= 3836\n",
      "Step=  164, Dmax= 2.3e-02 nm, Epot= -5.73998e+05 Fmax= 3.84206e+03, atom= 3836\n",
      "Step=  166, Dmax= 1.4e-02 nm, Epot= -5.74224e+05 Fmax= 1.43891e+04, atom= 3836\n",
      "Step=  167, Dmax= 1.6e-02 nm, Epot= -5.74467e+05 Fmax= 7.24894e+03, atom= 3836\n",
      "Step=  168, Dmax= 2.0e-02 nm, Epot= -5.74518e+05 Fmax= 1.85660e+04, atom= 3836\n",
      "Step=  169, Dmax= 2.4e-02 nm, Epot= -5.74798e+05 Fmax= 1.26050e+04, atom= 3836\n",
      "Step=  171, Dmax= 1.4e-02 nm, Epot= -5.75008e+05 Fmax= 6.12679e+03, atom= 3836\n",
      "Step=  172, Dmax= 1.7e-02 nm, Epot= -5.75115e+05 Fmax= 1.63398e+04, atom= 3836\n",
      "Step=  173, Dmax= 2.1e-02 nm, Epot= -5.75360e+05 Fmax= 1.05677e+04, atom= 3836\n",
      "Step=  175, Dmax= 1.2e-02 nm, Epot= -5.75538e+05 Fmax= 5.54679e+03, atom= 3836\n",
      "Step=  176, Dmax= 1.5e-02 nm, Epot= -5.75679e+05 Fmax= 1.37989e+04, atom= 3836\n",
      "Step=  177, Dmax= 1.8e-02 nm, Epot= -5.75884e+05 Fmax= 9.46552e+03, atom= 3836\n",
      "Step=  178, Dmax= 2.1e-02 nm, Epot= -5.75912e+05 Fmax= 1.83142e+04, atom= 3836\n",
      "Step=  179, Dmax= 2.6e-02 nm, Epot= -5.76130e+05 Fmax= 1.52301e+04, atom= 3836\n",
      "Step=  181, Dmax= 1.5e-02 nm, Epot= -5.76386e+05 Fmax= 4.92716e+03, atom= 3836\n",
      "Step=  182, Dmax= 1.8e-02 nm, Epot= -5.76485e+05 Fmax= 1.92194e+04, atom= 3836\n",
      "Step=  183, Dmax= 2.2e-02 nm, Epot= -5.76798e+05 Fmax= 9.72786e+03, atom= 3836\n",
      "Step=  185, Dmax= 1.3e-02 nm, Epot= -5.76954e+05 Fmax= 7.61580e+03, atom= 3836\n",
      "Step=  186, Dmax= 1.6e-02 nm, Epot= -5.77061e+05 Fmax= 1.31720e+04, atom= 3836\n",
      "Step=  187, Dmax= 1.9e-02 nm, Epot= -5.77222e+05 Fmax= 1.18580e+04, atom= 3836\n",
      "Step=  188, Dmax= 2.3e-02 nm, Epot= -5.77258e+05 Fmax= 1.80211e+04, atom= 3836\n",
      "Step=  189, Dmax= 2.7e-02 nm, Epot= -5.77402e+05 Fmax= 1.80724e+04, atom= 3836\n",
      "Step=  191, Dmax= 1.6e-02 nm, Epot= -5.77718e+05 Fmax= 3.62295e+03, atom= 3836\n",
      "Step=  192, Dmax= 2.0e-02 nm, Epot= -5.77860e+05 Fmax= 2.22828e+04, atom= 3836\n",
      "Step=  193, Dmax= 2.4e-02 nm, Epot= -5.78258e+05 Fmax= 8.85399e+03, atom= 3836\n",
      "Step=  195, Dmax= 1.4e-02 nm, Epot= -5.78387e+05 Fmax= 9.82989e+03, atom= 3836\n",
      "Step=  196, Dmax= 1.7e-02 nm, Epot= -5.78494e+05 Fmax= 1.25140e+04, atom= 3836\n",
      "Step=  197, Dmax= 2.0e-02 nm, Epot= -5.78602e+05 Fmax= 1.44225e+04, atom= 3836\n",
      "Step=  198, Dmax= 2.5e-02 nm, Epot= -5.78669e+05 Fmax= 1.77145e+04, atom= 3836\n",
      "Step=  199, Dmax= 2.9e-02 nm, Epot= -5.78722e+05 Fmax= 2.11257e+04, atom= 3836\n",
      "Step=  201, Dmax= 1.8e-02 nm, Epot= -5.79114e+05 Fmax= 2.22846e+03, atom= 3836\n",
      "Step=  202, Dmax= 2.1e-02 nm, Epot= -5.79477e+05 Fmax= 2.54211e+04, atom= 3836\n",
      "Step=  203, Dmax= 2.5e-02 nm, Epot= -5.79963e+05 Fmax= 8.05046e+03, atom= 3836\n",
      "Step=  205, Dmax= 1.5e-02 nm, Epot= -5.80062e+05 Fmax= 1.21434e+04, atom= 3836\n",
      "Step=  206, Dmax= 1.8e-02 nm, Epot= -5.80189e+05 Fmax= 1.18720e+04, atom= 3836\n",
      "Step=  207, Dmax= 2.2e-02 nm, Epot= -5.80235e+05 Fmax= 1.71320e+04, atom= 3836\n",
      "Step=  208, Dmax= 2.6e-02 nm, Epot= -5.80348e+05 Fmax= 1.74346e+04, atom= 3836\n",
      "Step=  210, Dmax= 1.6e-02 nm, Epot= -5.80631e+05 Fmax= 3.26936e+03, atom= 3836\n",
      "Step=  211, Dmax= 1.9e-02 nm, Epot= -5.80763e+05 Fmax= 2.17054e+04, atom= 3836\n",
      "Step=  212, Dmax= 2.3e-02 nm, Epot= -5.81138e+05 Fmax= 8.24144e+03, atom= 3836\n",
      "Step=  214, Dmax= 1.4e-02 nm, Epot= -5.81249e+05 Fmax= 9.70687e+03, atom= 3836\n",
      "Step=  215, Dmax= 1.6e-02 nm, Epot= -5.81349e+05 Fmax= 1.18961e+04, atom= 3836\n",
      "Step=  216, Dmax= 2.0e-02 nm, Epot= -5.81438e+05 Fmax= 1.39210e+04, atom= 3836\n",
      "Step=  217, Dmax= 2.4e-02 nm, Epot= -5.81499e+05 Fmax= 1.72262e+04, atom= 3836\n",
      "Step=  218, Dmax= 2.8e-02 nm, Epot= -5.81550e+05 Fmax= 1.99012e+04, atom= 3836\n",
      "Step=  220, Dmax= 1.7e-02 nm, Epot= -5.81894e+05 Fmax= 2.32969e+03, atom= 3836\n",
      "Step=  221, Dmax= 2.0e-02 nm, Epot= -5.82119e+05 Fmax= 2.46641e+04, atom= 3836\n",
      "Step=  222, Dmax= 2.5e-02 nm, Epot= -5.82594e+05 Fmax= 7.55754e+03, atom= 3836\n",
      "Step=  224, Dmax= 1.5e-02 nm, Epot= -5.82680e+05 Fmax= 1.16693e+04, atom= 3836\n",
      "Step=  225, Dmax= 1.8e-02 nm, Epot= -5.82794e+05 Fmax= 1.15581e+04, atom= 3836\n",
      "Step=  226, Dmax= 2.1e-02 nm, Epot= -5.82835e+05 Fmax= 1.61620e+04, atom= 3836\n",
      "Step=  227, Dmax= 2.5e-02 nm, Epot= -5.82925e+05 Fmax= 1.73098e+04, atom= 3836\n",
      "Step=  229, Dmax= 1.5e-02 nm, Epot= -5.83192e+05 Fmax= 2.81142e+03, atom= 3836\n",
      "Step=  230, Dmax= 1.8e-02 nm, Epot= -5.83356e+05 Fmax= 2.11755e+04, atom= 3836\n",
      "Step=  231, Dmax= 2.2e-02 nm, Epot= -5.83694e+05 Fmax= 7.70270e+03, atom= 3836\n",
      "Step=  233, Dmax= 1.3e-02 nm, Epot= -5.83791e+05 Fmax= 9.63718e+03, atom= 3836\n",
      "Step=  234, Dmax= 1.6e-02 nm, Epot= -5.83884e+05 Fmax= 1.10912e+04, atom= 3836\n",
      "Step=  235, Dmax= 1.9e-02 nm, Epot= -5.83955e+05 Fmax= 1.38889e+04, atom= 3836\n",
      "Step=  236, Dmax= 2.3e-02 nm, Epot= -5.84024e+05 Fmax= 1.59325e+04, atom= 3836\n",
      "Step=  237, Dmax= 2.7e-02 nm, Epot= -5.84042e+05 Fmax= 2.00801e+04, atom= 3836\n",
      "Step=  238, Dmax= 3.3e-02 nm, Epot= -5.84065e+05 Fmax= 2.28003e+04, atom= 3836\n",
      "Step=  240, Dmax= 2.0e-02 nm, Epot= -5.84482e+05 Fmax= 2.86588e+03, atom= 3836\n",
      "Step=  242, Dmax= 1.2e-02 nm, Epot= -5.84651e+05 Fmax= 1.28256e+04, atom= 3836\n",
      "Step=  243, Dmax= 1.4e-02 nm, Epot= -5.84817e+05 Fmax= 5.77992e+03, atom= 3836\n",
      "Step=  244, Dmax= 1.7e-02 nm, Epot= -5.84846e+05 Fmax= 1.64248e+04, atom= 3836\n",
      "Step=  245, Dmax= 2.0e-02 nm, Epot= -5.85043e+05 Fmax= 1.03593e+04, atom= 3836\n",
      "Step=  247, Dmax= 1.2e-02 nm, Epot= -5.85173e+05 Fmax= 5.74481e+03, atom= 3836\n",
      "Step=  248, Dmax= 1.5e-02 nm, Epot= -5.85236e+05 Fmax= 1.35624e+04, atom= 3836\n",
      "Step=  249, Dmax= 1.8e-02 nm, Epot= -5.85383e+05 Fmax= 9.57809e+03, atom= 3836\n",
      "Step=  251, Dmax= 1.1e-02 nm, Epot= -5.85506e+05 Fmax= 4.27322e+03, atom= 3836\n",
      "Step=  252, Dmax= 1.3e-02 nm, Epot= -5.85603e+05 Fmax= 1.23801e+04, atom= 3836\n",
      "Step=  253, Dmax= 1.5e-02 nm, Epot= -5.85748e+05 Fmax= 7.61191e+03, atom= 3836\n",
      "Step=  254, Dmax= 1.8e-02 nm, Epot= -5.85756e+05 Fmax= 1.62933e+04, atom= 3836\n",
      "Step=  255, Dmax= 2.2e-02 nm, Epot= -5.85919e+05 Fmax= 1.25258e+04, atom= 3836\n",
      "Step=  257, Dmax= 1.3e-02 nm, Epot= -5.86077e+05 Fmax= 4.79944e+03, atom= 3836\n",
      "Step=  258, Dmax= 1.6e-02 nm, Epot= -5.86126e+05 Fmax= 1.59558e+04, atom= 3836\n",
      "Step=  259, Dmax= 1.9e-02 nm, Epot= -5.86318e+05 Fmax= 8.93529e+03, atom= 3836\n",
      "Step=  261, Dmax= 1.1e-02 nm, Epot= -5.86427e+05 Fmax= 5.96709e+03, atom= 3836\n",
      "Step=  262, Dmax= 1.4e-02 nm, Epot= -5.86495e+05 Fmax= 1.19234e+04, atom= 3836\n",
      "Step=  263, Dmax= 1.6e-02 nm, Epot= -5.86614e+05 Fmax= 9.58115e+03, atom= 3836\n",
      "Step=  264, Dmax= 2.0e-02 nm, Epot= -5.86622e+05 Fmax= 1.61270e+04, atom= 3836\n",
      "Step=  265, Dmax= 2.4e-02 nm, Epot= -5.86741e+05 Fmax= 1.48773e+04, atom= 3836\n",
      "Step=  267, Dmax= 1.4e-02 nm, Epot= -5.86939e+05 Fmax= 3.76498e+03, atom= 3836\n",
      "Step=  268, Dmax= 1.7e-02 nm, Epot= -5.86990e+05 Fmax= 1.85233e+04, atom= 3836\n",
      "Step=  269, Dmax= 2.0e-02 nm, Epot= -5.87239e+05 Fmax= 8.24961e+03, atom= 3836\n",
      "Step=  271, Dmax= 1.2e-02 nm, Epot= -5.87333e+05 Fmax= 7.78996e+03, atom= 3836\n",
      "Step=  272, Dmax= 1.5e-02 nm, Epot= -5.87396e+05 Fmax= 1.14371e+04, atom= 3836\n",
      "Step=  273, Dmax= 1.8e-02 nm, Epot= -5.87483e+05 Fmax= 1.16983e+04, atom= 3836\n",
      "Step=  274, Dmax= 2.1e-02 nm, Epot= -5.87507e+05 Fmax= 1.59485e+04, atom= 3836\n",
      "Step=  275, Dmax= 2.5e-02 nm, Epot= -5.87570e+05 Fmax= 1.74091e+04, atom= 3836\n",
      "Step=  277, Dmax= 1.5e-02 nm, Epot= -5.87820e+05 Fmax= 2.65266e+03, atom= 3836\n",
      "Step=  278, Dmax= 1.8e-02 nm, Epot= -5.87925e+05 Fmax= 2.12274e+04, atom= 3836\n",
      "Step=  279, Dmax= 2.2e-02 nm, Epot= -5.88243e+05 Fmax= 7.56172e+03, atom= 3836\n",
      "Step=  281, Dmax= 1.3e-02 nm, Epot= -5.88317e+05 Fmax= 9.72528e+03, atom= 3836\n",
      "Step=  282, Dmax= 1.6e-02 nm, Epot= -5.88391e+05 Fmax= 1.09405e+04, atom= 3836\n",
      "Step=  283, Dmax= 1.9e-02 nm, Epot= -5.88440e+05 Fmax= 1.39571e+04, atom= 3836\n",
      "Step=  284, Dmax= 2.3e-02 nm, Epot= -5.88492e+05 Fmax= 1.57749e+04, atom= 3836\n",
      "Step=  286, Dmax= 1.4e-02 nm, Epot= -5.88706e+05 Fmax= 2.02523e+03, atom= 3836\n",
      "Step=  287, Dmax= 1.6e-02 nm, Epot= -5.88895e+05 Fmax= 1.95434e+04, atom= 3836\n",
      "Step=  288, Dmax= 2.0e-02 nm, Epot= -5.89186e+05 Fmax= 6.20779e+03, atom= 3836\n",
      "Step=  290, Dmax= 1.2e-02 nm, Epot= -5.89257e+05 Fmax= 9.20361e+03, atom= 3836\n",
      "Step=  291, Dmax= 1.4e-02 nm, Epot= -5.89339e+05 Fmax= 9.36261e+03, atom= 3836\n",
      "Step=  292, Dmax= 1.7e-02 nm, Epot= -5.89384e+05 Fmax= 1.28368e+04, atom= 3836\n",
      "Step=  293, Dmax= 2.0e-02 nm, Epot= -5.89451e+05 Fmax= 1.39185e+04, atom= 3836\n",
      "Step=  294, Dmax= 2.4e-02 nm, Epot= -5.89454e+05 Fmax= 1.80146e+04, atom= 3836\n",
      "Step=  295, Dmax= 2.9e-02 nm, Epot= -5.89480e+05 Fmax= 2.05594e+04, atom= 3836\n",
      "Step=  297, Dmax= 1.8e-02 nm, Epot= -5.89802e+05 Fmax= 2.64464e+03, atom= 3836\n",
      "Step=  298, Dmax= 2.1e-02 nm, Epot= -5.89825e+05 Fmax= 2.49000e+04, atom= 3836\n",
      "Step=  299, Dmax= 2.5e-02 nm, Epot= -5.90234e+05 Fmax= 8.37573e+03, atom= 3836\n",
      "Step=  301, Dmax= 1.5e-02 nm, Epot= -5.90285e+05 Fmax= 1.16351e+04, atom= 3836\n",
      "Step=  302, Dmax= 1.8e-02 nm, Epot= -5.90356e+05 Fmax= 1.22370e+04, atom= 3836\n",
      "Step=  303, Dmax= 2.2e-02 nm, Epot= -5.90368e+05 Fmax= 1.65543e+04, atom= 3836\n",
      "Step=  304, Dmax= 2.6e-02 nm, Epot= -5.90417e+05 Fmax= 1.77934e+04, atom= 3836\n",
      "Step=  306, Dmax= 1.6e-02 nm, Epot= -5.90669e+05 Fmax= 2.76443e+03, atom= 3836\n",
      "Step=  307, Dmax= 1.9e-02 nm, Epot= -5.90690e+05 Fmax= 2.21156e+04, atom= 3836\n",
      "Step=  308, Dmax= 2.3e-02 nm, Epot= -5.91035e+05 Fmax= 7.62886e+03, atom= 3836\n",
      "Step=  310, Dmax= 1.4e-02 nm, Epot= -5.91093e+05 Fmax= 1.01940e+04, atom= 3836\n",
      "Step=  311, Dmax= 1.6e-02 nm, Epot= -5.91159e+05 Fmax= 1.12604e+04, atom= 3836\n",
      "Step=  312, Dmax= 2.0e-02 nm, Epot= -5.91190e+05 Fmax= 1.43899e+04, atom= 3836\n",
      "Step=  313, Dmax= 2.3e-02 nm, Epot= -5.91230e+05 Fmax= 1.65373e+04, atom= 3836\n",
      "Step=  315, Dmax= 1.4e-02 nm, Epot= -5.91449e+05 Fmax= 2.06626e+03, atom= 3836\n",
      "Step=  316, Dmax= 1.7e-02 nm, Epot= -5.91595e+05 Fmax= 2.00216e+04, atom= 3836\n",
      "Step=  317, Dmax= 2.0e-02 nm, Epot= -5.91874e+05 Fmax= 6.67199e+03, atom= 3836\n",
      "Step=  319, Dmax= 1.2e-02 nm, Epot= -5.91934e+05 Fmax= 9.37111e+03, atom= 3836\n",
      "Step=  320, Dmax= 1.5e-02 nm, Epot= -5.92003e+05 Fmax= 9.79761e+03, atom= 3836\n",
      "Step=  321, Dmax= 1.8e-02 nm, Epot= -5.92037e+05 Fmax= 1.32897e+04, atom= 3836\n",
      "Step=  322, Dmax= 2.1e-02 nm, Epot= -5.92092e+05 Fmax= 1.42941e+04, atom= 3836\n",
      "Step=  324, Dmax= 1.3e-02 nm, Epot= -5.92267e+05 Fmax= 2.21895e+03, atom= 3836\n",
      "Step=  325, Dmax= 1.5e-02 nm, Epot= -5.92383e+05 Fmax= 1.77482e+04, atom= 3836\n",
      "Step=  326, Dmax= 1.8e-02 nm, Epot= -5.92617e+05 Fmax= 6.11947e+03, atom= 3836\n",
      "Step=  328, Dmax= 1.1e-02 nm, Epot= -5.92681e+05 Fmax= 8.19195e+03, atom= 3836\n",
      "Step=  329, Dmax= 1.3e-02 nm, Epot= -5.92746e+05 Fmax= 9.01891e+03, atom= 3836\n",
      "Step=  330, Dmax= 1.6e-02 nm, Epot= -5.92792e+05 Fmax= 1.15793e+04, atom= 3836\n",
      "Step=  331, Dmax= 1.9e-02 nm, Epot= -5.92841e+05 Fmax= 1.32267e+04, atom= 3836\n",
      "Step=  332, Dmax= 2.3e-02 nm, Epot= -5.92856e+05 Fmax= 1.64016e+04, atom= 3836\n",
      "Step=  333, Dmax= 2.7e-02 nm, Epot= -5.92866e+05 Fmax= 1.93611e+04, atom= 3836\n",
      "Step=  335, Dmax= 1.6e-02 nm, Epot= -5.93146e+05 Fmax= 2.15329e+03, atom= 3836\n",
      "Step=  336, Dmax= 2.0e-02 nm, Epot= -5.93214e+05 Fmax= 2.33382e+04, atom= 3836\n",
      "Step=  337, Dmax= 2.3e-02 nm, Epot= -5.93570e+05 Fmax= 7.51270e+03, atom= 3836\n",
      "Step=  339, Dmax= 1.4e-02 nm, Epot= -5.93612e+05 Fmax= 1.10576e+04, atom= 3836\n",
      "Step=  340, Dmax= 1.7e-02 nm, Epot= -5.93678e+05 Fmax= 1.10844e+04, atom= 3836\n",
      "Step=  341, Dmax= 2.0e-02 nm, Epot= -5.93682e+05 Fmax= 1.56129e+04, atom= 3836\n",
      "Step=  342, Dmax= 2.4e-02 nm, Epot= -5.93735e+05 Fmax= 1.62516e+04, atom= 3836\n",
      "Step=  344, Dmax= 1.5e-02 nm, Epot= -5.93943e+05 Fmax= 2.82099e+03, atom= 3836\n",
      "Step=  345, Dmax= 1.8e-02 nm, Epot= -5.93949e+05 Fmax= 2.02263e+04, atom= 3836\n",
      "Step=  346, Dmax= 2.1e-02 nm, Epot= -5.94231e+05 Fmax= 7.34917e+03, atom= 3836\n",
      "Step=  348, Dmax= 1.3e-02 nm, Epot= -5.94285e+05 Fmax= 9.19160e+03, atom= 3836\n",
      "Step=  349, Dmax= 1.5e-02 nm, Epot= -5.94337e+05 Fmax= 1.06988e+04, atom= 3836\n",
      "Step=  350, Dmax= 1.8e-02 nm, Epot= -5.94372e+05 Fmax= 1.30981e+04, atom= 3836\n",
      "Step=  351, Dmax= 2.2e-02 nm, Epot= -5.94399e+05 Fmax= 1.55764e+04, atom= 3836\n",
      "Step=  353, Dmax= 1.3e-02 nm, Epot= -5.94590e+05 Fmax= 1.67258e+03, atom= 3836\n",
      "Step=  354, Dmax= 1.6e-02 nm, Epot= -5.94767e+05 Fmax= 1.87705e+04, atom= 3836\n",
      "Step=  355, Dmax= 1.9e-02 nm, Epot= -5.95010e+05 Fmax= 5.97810e+03, atom= 3836\n",
      "Step=  357, Dmax= 1.1e-02 nm, Epot= -5.95062e+05 Fmax= 8.90938e+03, atom= 3836\n",
      "Step=  358, Dmax= 1.4e-02 nm, Epot= -5.95125e+05 Fmax= 8.86848e+03, atom= 3836\n",
      "Step=  359, Dmax= 1.6e-02 nm, Epot= -5.95151e+05 Fmax= 1.25400e+04, atom= 3836\n",
      "Step=  360, Dmax= 2.0e-02 nm, Epot= -5.95206e+05 Fmax= 1.30470e+04, atom= 3836\n",
      "Step=  362, Dmax= 1.2e-02 nm, Epot= -5.95351e+05 Fmax= 2.27182e+03, atom= 3836\n",
      "Step=  363, Dmax= 1.4e-02 nm, Epot= -5.95437e+05 Fmax= 1.62256e+04, atom= 3836\n",
      "Step=  364, Dmax= 1.7e-02 nm, Epot= -5.95630e+05 Fmax= 5.90331e+03, atom= 3836\n",
      "Step=  366, Dmax= 1.0e-02 nm, Epot= -5.95687e+05 Fmax= 7.37655e+03, atom= 3836\n",
      "Step=  367, Dmax= 1.2e-02 nm, Epot= -5.95741e+05 Fmax= 8.58038e+03, atom= 3836\n",
      "Step=  368, Dmax= 1.5e-02 nm, Epot= -5.95786e+05 Fmax= 1.05274e+04, atom= 3836\n",
      "Step=  369, Dmax= 1.7e-02 nm, Epot= -5.95825e+05 Fmax= 1.24723e+04, atom= 3836\n",
      "Step=  370, Dmax= 2.1e-02 nm, Epot= -5.95846e+05 Fmax= 1.50132e+04, atom= 3836\n",
      "Step=  371, Dmax= 2.5e-02 nm, Epot= -5.95849e+05 Fmax= 1.81435e+04, atom= 3836\n",
      "Step=  373, Dmax= 1.5e-02 nm, Epot= -5.96092e+05 Fmax= 1.80223e+03, atom= 3836\n",
      "Step=  374, Dmax= 1.8e-02 nm, Epot= -5.96196e+05 Fmax= 2.18034e+04, atom= 3836\n",
      "Step=  375, Dmax= 2.2e-02 nm, Epot= -5.96504e+05 Fmax= 6.79808e+03, atom= 3836\n",
      "Step=  377, Dmax= 1.3e-02 nm, Epot= -5.96540e+05 Fmax= 1.04313e+04, atom= 3836\n",
      "Step=  378, Dmax= 1.6e-02 nm, Epot= -5.96602e+05 Fmax= 1.01042e+04, atom= 3836\n",
      "Step=  379, Dmax= 1.9e-02 nm, Epot= -5.96604e+05 Fmax= 1.46501e+04, atom= 3836\n",
      "Step=  380, Dmax= 2.3e-02 nm, Epot= -5.96656e+05 Fmax= 1.49071e+04, atom= 3836\n",
      "Step=  382, Dmax= 1.4e-02 nm, Epot= -5.96831e+05 Fmax= 2.78626e+03, atom= 3836\n",
      "Step=  383, Dmax= 1.6e-02 nm, Epot= -5.96836e+05 Fmax= 1.85711e+04, atom= 3836\n",
      "Step=  384, Dmax= 1.9e-02 nm, Epot= -5.97070e+05 Fmax= 6.99698e+03, atom= 3836\n",
      "Step=  386, Dmax= 1.2e-02 nm, Epot= -5.97120e+05 Fmax= 8.34832e+03, atom= 3836\n",
      "Step=  387, Dmax= 1.4e-02 nm, Epot= -5.97164e+05 Fmax= 1.00935e+04, atom= 3836\n",
      "Step=  388, Dmax= 1.7e-02 nm, Epot= -5.97200e+05 Fmax= 1.19804e+04, atom= 3836\n",
      "Step=  389, Dmax= 2.0e-02 nm, Epot= -5.97221e+05 Fmax= 1.46056e+04, atom= 3836\n",
      "Step=  390, Dmax= 2.4e-02 nm, Epot= -5.97229e+05 Fmax= 1.71416e+04, atom= 3836\n",
      "Step=  392, Dmax= 1.5e-02 nm, Epot= -5.97450e+05 Fmax= 1.85828e+03, atom= 3836\n",
      "Step=  393, Dmax= 1.7e-02 nm, Epot= -5.97508e+05 Fmax= 2.12339e+04, atom= 3836\n",
      "Step=  394, Dmax= 2.1e-02 nm, Epot= -5.97816e+05 Fmax= 6.27267e+03, atom= 3836\n",
      "Step=  396, Dmax= 1.3e-02 nm, Epot= -5.97849e+05 Fmax= 1.01647e+04, atom= 3836\n",
      "Step=  397, Dmax= 1.5e-02 nm, Epot= -5.97911e+05 Fmax= 9.66351e+03, atom= 3836\n",
      "Step=  398, Dmax= 1.8e-02 nm, Epot= -5.97911e+05 Fmax= 1.40375e+04, atom= 3836\n",
      "Step=  399, Dmax= 2.2e-02 nm, Epot= -5.97961e+05 Fmax= 1.45330e+04, atom= 3836\n",
      "Step=  401, Dmax= 1.3e-02 nm, Epot= -5.98125e+05 Fmax= 2.64857e+03, atom= 3836\n",
      "Step=  402, Dmax= 1.6e-02 nm, Epot= -5.98143e+05 Fmax= 1.78475e+04, atom= 3836\n",
      "Step=  403, Dmax= 1.9e-02 nm, Epot= -5.98353e+05 Fmax= 6.82708e+03, atom= 3836\n",
      "Step=  405, Dmax= 1.1e-02 nm, Epot= -5.98402e+05 Fmax= 7.96501e+03, atom= 3836\n",
      "Step=  406, Dmax= 1.4e-02 nm, Epot= -5.98443e+05 Fmax= 9.75690e+03, atom= 3836\n",
      "Step=  407, Dmax= 1.6e-02 nm, Epot= -5.98478e+05 Fmax= 1.15620e+04, atom= 3836\n",
      "Step=  408, Dmax= 1.9e-02 nm, Epot= -5.98499e+05 Fmax= 1.39312e+04, atom= 3836\n",
      "Step=  409, Dmax= 2.3e-02 nm, Epot= -5.98504e+05 Fmax= 1.68023e+04, atom= 3836\n",
      "Step=  411, Dmax= 1.4e-02 nm, Epot= -5.98712e+05 Fmax= 1.68616e+03, atom= 3836\n",
      "Step=  412, Dmax= 1.7e-02 nm, Epot= -5.98813e+05 Fmax= 2.02042e+04, atom= 3836\n",
      "Step=  413, Dmax= 2.0e-02 nm, Epot= -5.99078e+05 Fmax= 6.31467e+03, atom= 3836\n",
      "Step=  415, Dmax= 1.2e-02 nm, Epot= -5.99112e+05 Fmax= 9.65056e+03, atom= 3836\n",
      "Step=  416, Dmax= 1.5e-02 nm, Epot= -5.99166e+05 Fmax= 9.39493e+03, atom= 3836\n",
      "Step=  417, Dmax= 1.7e-02 nm, Epot= -5.99171e+05 Fmax= 1.35504e+04, atom= 3836\n",
      "Step=  418, Dmax= 2.1e-02 nm, Epot= -5.99217e+05 Fmax= 1.38620e+04, atom= 3836\n",
      "Step=  420, Dmax= 1.3e-02 nm, Epot= -5.99368e+05 Fmax= 2.54784e+03, atom= 3836\n",
      "Step=  421, Dmax= 1.5e-02 nm, Epot= -5.99383e+05 Fmax= 1.72610e+04, atom= 3836\n",
      "Step=  422, Dmax= 1.8e-02 nm, Epot= -5.99586e+05 Fmax= 6.44589e+03, atom= 3836\n",
      "Step=  424, Dmax= 1.1e-02 nm, Epot= -5.99632e+05 Fmax= 7.78402e+03, atom= 3836\n",
      "Step=  425, Dmax= 1.3e-02 nm, Epot= -5.99672e+05 Fmax= 9.31350e+03, atom= 3836\n",
      "Step=  426, Dmax= 1.6e-02 nm, Epot= -5.99705e+05 Fmax= 1.11579e+04, atom= 3836\n",
      "Step=  427, Dmax= 1.9e-02 nm, Epot= -5.99726e+05 Fmax= 1.34881e+04, atom= 3836\n",
      "Step=  428, Dmax= 2.2e-02 nm, Epot= -5.99734e+05 Fmax= 1.59569e+04, atom= 3836\n",
      "Step=  430, Dmax= 1.3e-02 nm, Epot= -5.99925e+05 Fmax= 1.66661e+03, atom= 3836\n",
      "Step=  431, Dmax= 1.6e-02 nm, Epot= -5.99999e+05 Fmax= 1.97493e+04, atom= 3836\n",
      "Step=  432, Dmax= 1.9e-02 nm, Epot= -6.00266e+05 Fmax= 5.75529e+03, atom= 3836\n",
      "Step=  434, Dmax= 1.2e-02 nm, Epot= -6.00296e+05 Fmax= 9.48763e+03, atom= 3836\n",
      "Step=  435, Dmax= 1.4e-02 nm, Epot= -6.00352e+05 Fmax= 8.89549e+03, atom= 3836\n",
      "Step=  436, Dmax= 1.7e-02 nm, Epot= -6.00355e+05 Fmax= 1.30861e+04, atom= 3836\n",
      "Step=  437, Dmax= 2.0e-02 nm, Epot= -6.00401e+05 Fmax= 1.34006e+04, atom= 3836\n",
      "Step=  439, Dmax= 1.2e-02 nm, Epot= -6.00542e+05 Fmax= 2.52646e+03, atom= 3836\n",
      "Step=  440, Dmax= 1.4e-02 nm, Epot= -6.00562e+05 Fmax= 1.64831e+04, atom= 3836\n",
      "Step=  441, Dmax= 1.7e-02 nm, Epot= -6.00742e+05 Fmax= 6.39505e+03, atom= 3836\n",
      "Step=  443, Dmax= 1.0e-02 nm, Epot= -6.00787e+05 Fmax= 7.31756e+03, atom= 3836\n",
      "Step=  444, Dmax= 1.3e-02 nm, Epot= -6.00823e+05 Fmax= 9.11764e+03, atom= 3836\n",
      "Step=  445, Dmax= 1.5e-02 nm, Epot= -6.00858e+05 Fmax= 1.06466e+04, atom= 3836\n",
      "Step=  446, Dmax= 1.8e-02 nm, Epot= -6.00876e+05 Fmax= 1.29962e+04, atom= 3836\n",
      "Step=  447, Dmax= 2.2e-02 nm, Epot= -6.00886e+05 Fmax= 1.54939e+04, atom= 3836\n",
      "Step=  449, Dmax= 1.3e-02 nm, Epot= -6.01063e+05 Fmax= 1.64306e+03, atom= 3836\n",
      "Step=  450, Dmax= 1.6e-02 nm, Epot= -6.01150e+05 Fmax= 1.86795e+04, atom= 3836\n",
      "Step=  451, Dmax= 1.9e-02 nm, Epot= -6.01378e+05 Fmax= 5.90969e+03, atom= 3836\n",
      "Step=  453, Dmax= 1.1e-02 nm, Epot= -6.01410e+05 Fmax= 8.88145e+03, atom= 3836\n",
      "Step=  454, Dmax= 1.3e-02 nm, Epot= -6.01458e+05 Fmax= 8.78164e+03, atom= 3836\n",
      "Step=  455, Dmax= 1.6e-02 nm, Epot= -6.01466e+05 Fmax= 1.24875e+04, atom= 3836\n",
      "Step=  456, Dmax= 1.9e-02 nm, Epot= -6.01507e+05 Fmax= 1.29345e+04, atom= 3836\n",
      "Step=  458, Dmax= 1.2e-02 nm, Epot= -6.01639e+05 Fmax= 2.28477e+03, atom= 3836\n",
      "Step=  459, Dmax= 1.4e-02 nm, Epot= -6.01665e+05 Fmax= 1.60878e+04, atom= 3836\n",
      "Step=  460, Dmax= 1.7e-02 nm, Epot= -6.01843e+05 Fmax= 5.89484e+03, atom= 3836\n",
      "Step=  462, Dmax= 1.0e-02 nm, Epot= -6.01884e+05 Fmax= 7.29926e+03, atom= 3836\n",
      "Step=  463, Dmax= 1.2e-02 nm, Epot= -6.01922e+05 Fmax= 8.55261e+03, atom= 3836\n",
      "Step=  464, Dmax= 1.4e-02 nm, Epot= -6.01951e+05 Fmax= 1.04314e+04, atom= 3836\n",
      "Step=  465, Dmax= 1.7e-02 nm, Epot= -6.01974e+05 Fmax= 1.24170e+04, atom= 3836\n",
      "Step=  466, Dmax= 2.1e-02 nm, Epot= -6.01980e+05 Fmax= 1.48907e+04, atom= 3836\n",
      "Step=  468, Dmax= 1.3e-02 nm, Epot= -6.02147e+05 Fmax= 1.45539e+03, atom= 3836\n",
      "Step=  469, Dmax= 1.5e-02 nm, Epot= -6.02241e+05 Fmax= 1.84109e+04, atom= 3836\n",
      "Step=  470, Dmax= 1.8e-02 nm, Epot= -6.02474e+05 Fmax= 5.24000e+03, atom= 3836\n",
      "Step=  472, Dmax= 1.1e-02 nm, Epot= -6.02502e+05 Fmax= 8.89165e+03, atom= 3836\n",
      "Step=  473, Dmax= 1.3e-02 nm, Epot= -6.02553e+05 Fmax= 8.15259e+03, atom= 3836\n",
      "Step=  474, Dmax= 1.6e-02 nm, Epot= -6.02557e+05 Fmax= 1.22327e+04, atom= 3836\n",
      "Step=  475, Dmax= 1.9e-02 nm, Epot= -6.02602e+05 Fmax= 1.23228e+04, atom= 3836\n",
      "Step=  477, Dmax= 1.1e-02 nm, Epot= -6.02722e+05 Fmax= 2.44109e+03, atom= 3836\n",
      "Step=  478, Dmax= 1.3e-02 nm, Epot= -6.02742e+05 Fmax= 1.51922e+04, atom= 3836\n",
      "Step=  479, Dmax= 1.6e-02 nm, Epot= -6.02896e+05 Fmax= 6.01962e+03, atom= 3836\n",
      "Step=  481, Dmax= 9.7e-03 nm, Epot= -6.02938e+05 Fmax= 6.69239e+03, atom= 3836\n",
      "Step=  482, Dmax= 1.2e-02 nm, Epot= -6.02970e+05 Fmax= 8.54890e+03, atom= 3836\n",
      "Step=  483, Dmax= 1.4e-02 nm, Epot= -6.03004e+05 Fmax= 9.77398e+03, atom= 3836\n",
      "Step=  484, Dmax= 1.7e-02 nm, Epot= -6.03019e+05 Fmax= 1.21518e+04, atom= 3836\n",
      "Step=  485, Dmax= 2.0e-02 nm, Epot= -6.03034e+05 Fmax= 1.42590e+04, atom= 3836\n",
      "Step=  487, Dmax= 1.2e-02 nm, Epot= -6.03185e+05 Fmax= 1.62519e+03, atom= 3836\n",
      "Step=  488, Dmax= 1.4e-02 nm, Epot= -6.03258e+05 Fmax= 1.72429e+04, atom= 3836\n",
      "Step=  489, Dmax= 1.7e-02 nm, Epot= -6.03452e+05 Fmax= 5.55701e+03, atom= 3836\n",
      "Step=  491, Dmax= 1.0e-02 nm, Epot= -6.03484e+05 Fmax= 8.14698e+03, atom= 3836\n",
      "Step=  492, Dmax= 1.2e-02 nm, Epot= -6.03526e+05 Fmax= 8.23322e+03, atom= 3836\n",
      "Step=  493, Dmax= 1.5e-02 nm, Epot= -6.03537e+05 Fmax= 1.14822e+04, atom= 3836\n",
      "Step=  494, Dmax= 1.8e-02 nm, Epot= -6.03571e+05 Fmax= 1.20930e+04, atom= 3836\n",
      "Step=  496, Dmax= 1.1e-02 nm, Epot= -6.03687e+05 Fmax= 2.02193e+03, atom= 3836\n",
      "Step=  497, Dmax= 1.3e-02 nm, Epot= -6.03725e+05 Fmax= 1.50194e+04, atom= 3836\n",
      "Step=  498, Dmax= 1.6e-02 nm, Epot= -6.03881e+05 Fmax= 5.36441e+03, atom= 3836\n",
      "Step=  500, Dmax= 9.3e-03 nm, Epot= -6.03917e+05 Fmax= 6.86859e+03, atom= 3836\n",
      "Step=  501, Dmax= 1.1e-02 nm, Epot= -6.03954e+05 Fmax= 7.82902e+03, atom= 3836\n",
      "Step=  502, Dmax= 1.3e-02 nm, Epot= -6.03979e+05 Fmax= 9.77490e+03, atom= 3836\n",
      "Step=  503, Dmax= 1.6e-02 nm, Epot= -6.04003e+05 Fmax= 1.14071e+04, atom= 3836\n",
      "Step=  504, Dmax= 1.9e-02 nm, Epot= -6.04008e+05 Fmax= 1.39178e+04, atom= 3836\n",
      "Step=  506, Dmax= 1.2e-02 nm, Epot= -6.04154e+05 Fmax= 1.24335e+03, atom= 3836\n",
      "Step=  507, Dmax= 1.4e-02 nm, Epot= -6.04270e+05 Fmax= 1.71896e+04, atom= 3836\n",
      "Step=  508, Dmax= 1.7e-02 nm, Epot= -6.04474e+05 Fmax= 4.74298e+03, atom= 3836\n",
      "Step=  510, Dmax= 1.0e-02 nm, Epot= -6.04500e+05 Fmax= 8.35579e+03, atom= 3836\n",
      "Step=  511, Dmax= 1.2e-02 nm, Epot= -6.04549e+05 Fmax= 7.44718e+03, atom= 3836\n",
      "Step=  512, Dmax= 1.4e-02 nm, Epot= -6.04552e+05 Fmax= 1.14566e+04, atom= 3836\n",
      "Step=  513, Dmax= 1.7e-02 nm, Epot= -6.04595e+05 Fmax= 1.13086e+04, atom= 3836\n",
      "Step=  515, Dmax= 1.0e-02 nm, Epot= -6.04698e+05 Fmax= 2.37690e+03, atom= 3836\n",
      "Step=  516, Dmax= 1.2e-02 nm, Epot= -6.04717e+05 Fmax= 1.39794e+04, atom= 3836\n",
      "Step=  517, Dmax= 1.5e-02 nm, Epot= -6.04848e+05 Fmax= 5.68724e+03, atom= 3836\n",
      "Step=  519, Dmax= 9.0e-03 nm, Epot= -6.04887e+05 Fmax= 6.09747e+03, atom= 3836\n",
      "Step=  520, Dmax= 1.1e-02 nm, Epot= -6.04916e+05 Fmax= 8.03625e+03, atom= 3836\n",
      "Step=  521, Dmax= 1.3e-02 nm, Epot= -6.04949e+05 Fmax= 8.95064e+03, atom= 3836\n",
      "Step=  522, Dmax= 1.6e-02 nm, Epot= -6.04962e+05 Fmax= 1.13820e+04, atom= 3836\n",
      "Step=  523, Dmax= 1.9e-02 nm, Epot= -6.04979e+05 Fmax= 1.31016e+04, atom= 3836\n",
      "Step=  525, Dmax= 1.1e-02 nm, Epot= -6.05109e+05 Fmax= 1.62143e+03, atom= 3836\n",
      "Step=  526, Dmax= 1.3e-02 nm, Epot= -6.05167e+05 Fmax= 1.58948e+04, atom= 3836\n",
      "Step=  527, Dmax= 1.6e-02 nm, Epot= -6.05334e+05 Fmax= 5.24562e+03, atom= 3836\n",
      "Step=  529, Dmax= 9.6e-03 nm, Epot= -6.05364e+05 Fmax= 7.45178e+03, atom= 3836\n",
      "Step=  530, Dmax= 1.2e-02 nm, Epot= -6.05400e+05 Fmax= 7.73874e+03, atom= 3836\n",
      "Step=  531, Dmax= 1.4e-02 nm, Epot= -6.05414e+05 Fmax= 1.05370e+04, atom= 3836\n",
      "Step=  532, Dmax= 1.7e-02 nm, Epot= -6.05443e+05 Fmax= 1.13248e+04, atom= 3836\n",
      "Step=  534, Dmax= 1.0e-02 nm, Epot= -6.05546e+05 Fmax= 1.76541e+03, atom= 3836\n",
      "Step=  535, Dmax= 1.2e-02 nm, Epot= -6.05594e+05 Fmax= 1.40418e+04, atom= 3836\n",
      "Step=  536, Dmax= 1.4e-02 nm, Epot= -6.05732e+05 Fmax= 4.85976e+03, atom= 3836\n",
      "Step=  538, Dmax= 8.6e-03 nm, Epot= -6.05764e+05 Fmax= 6.48109e+03, atom= 3836\n",
      "Step=  539, Dmax= 1.0e-02 nm, Epot= -6.05800e+05 Fmax= 7.14597e+03, atom= 3836\n",
      "Step=  540, Dmax= 1.2e-02 nm, Epot= -6.05821e+05 Fmax= 9.17765e+03, atom= 3836\n",
      "Step=  541, Dmax= 1.5e-02 nm, Epot= -6.05847e+05 Fmax= 1.04595e+04, atom= 3836\n",
      "Step=  542, Dmax= 1.8e-02 nm, Epot= -6.05850e+05 Fmax= 1.30255e+04, atom= 3836\n",
      "Step=  543, Dmax= 2.2e-02 nm, Epot= -6.05852e+05 Fmax= 1.52784e+04, atom= 3836\n",
      "Step=  545, Dmax= 1.3e-02 nm, Epot= -6.06019e+05 Fmax= 1.74370e+03, atom= 3836\n",
      "Step=  546, Dmax= 1.5e-02 nm, Epot= -6.06028e+05 Fmax= 1.84821e+04, atom= 3836\n",
      "Step=  547, Dmax= 1.9e-02 nm, Epot= -6.06243e+05 Fmax= 5.94828e+03, atom= 3836\n",
      "Step=  549, Dmax= 1.1e-02 nm, Epot= -6.06263e+05 Fmax= 8.73890e+03, atom= 3836\n",
      "Step=  550, Dmax= 1.3e-02 nm, Epot= -6.06299e+05 Fmax= 8.80826e+03, atom= 3836\n",
      "Step=  552, Dmax= 8.0e-03 nm, Epot= -6.06369e+05 Fmax= 1.70454e+03, atom= 3836\n",
      "Step=  553, Dmax= 9.6e-03 nm, Epot= -6.06431e+05 Fmax= 1.09639e+04, atom= 3836\n",
      "Step=  554, Dmax= 1.2e-02 nm, Epot= -6.06522e+05 Fmax= 4.20035e+03, atom= 3836\n",
      "Step=  556, Dmax= 6.9e-03 nm, Epot= -6.06558e+05 Fmax= 4.91131e+03, atom= 3836\n",
      "Step=  557, Dmax= 8.3e-03 nm, Epot= -6.06591e+05 Fmax= 6.01859e+03, atom= 3836\n",
      "Step=  558, Dmax= 1.0e-02 nm, Epot= -6.06623e+05 Fmax= 7.08920e+03, atom= 3836\n",
      "Step=  559, Dmax= 1.2e-02 nm, Epot= -6.06647e+05 Fmax= 8.66335e+03, atom= 3836\n",
      "Step=  560, Dmax= 1.4e-02 nm, Epot= -6.06668e+05 Fmax= 1.01963e+04, atom= 3836\n",
      "Step=  561, Dmax= 1.7e-02 nm, Epot= -6.06676e+05 Fmax= 1.25068e+04, atom= 3836\n",
      "Step=  562, Dmax= 2.1e-02 nm, Epot= -6.06677e+05 Fmax= 1.46240e+04, atom= 3836\n",
      "Step=  564, Dmax= 1.2e-02 nm, Epot= -6.06833e+05 Fmax= 1.61807e+03, atom= 3836\n",
      "Step=  565, Dmax= 1.5e-02 nm, Epot= -6.06841e+05 Fmax= 1.80718e+04, atom= 3836\n",
      "Step=  566, Dmax= 1.8e-02 nm, Epot= -6.07057e+05 Fmax= 5.41592e+03, atom= 3836\n",
      "Step=  568, Dmax= 1.1e-02 nm, Epot= -6.07075e+05 Fmax= 8.63577e+03, atom= 3836\n",
      "Step=  569, Dmax= 1.3e-02 nm, Epot= -6.07113e+05 Fmax= 8.29643e+03, atom= 3836\n",
      "Step=  571, Dmax= 7.7e-03 nm, Epot= -6.07176e+05 Fmax= 1.87810e+03, atom= 3836\n",
      "Step=  572, Dmax= 9.3e-03 nm, Epot= -6.07227e+05 Fmax= 1.02904e+04, atom= 3836\n",
      "Step=  573, Dmax= 1.1e-02 nm, Epot= -6.07307e+05 Fmax= 4.34084e+03, atom= 3836\n",
      "Step=  575, Dmax= 6.7e-03 nm, Epot= -6.07342e+05 Fmax= 4.42235e+03, atom= 3836\n",
      "Step=  576, Dmax= 8.0e-03 nm, Epot= -6.07372e+05 Fmax= 6.10000e+03, atom= 3836\n",
      "Step=  577, Dmax= 9.6e-03 nm, Epot= -6.07405e+05 Fmax= 6.53188e+03, atom= 3836\n",
      "Step=  578, Dmax= 1.2e-02 nm, Epot= -6.07426e+05 Fmax= 8.60608e+03, atom= 3836\n",
      "Step=  579, Dmax= 1.4e-02 nm, Epot= -6.07451e+05 Fmax= 9.59828e+03, atom= 3836\n",
      "Step=  580, Dmax= 1.7e-02 nm, Epot= -6.07454e+05 Fmax= 1.21809e+04, atom= 3836\n",
      "Step=  581, Dmax= 2.0e-02 nm, Epot= -6.07462e+05 Fmax= 1.40563e+04, atom= 3836\n",
      "Step=  583, Dmax= 1.2e-02 nm, Epot= -6.07604e+05 Fmax= 1.72130e+03, atom= 3836\n",
      "Step=  584, Dmax= 1.4e-02 nm, Epot= -6.07614e+05 Fmax= 1.70507e+04, atom= 3836\n",
      "Step=  585, Dmax= 1.7e-02 nm, Epot= -6.07798e+05 Fmax= 5.60104e+03, atom= 3836\n",
      "Step=  587, Dmax= 1.0e-02 nm, Epot= -6.07819e+05 Fmax= 8.00709e+03, atom= 3836\n",
      "Step=  588, Dmax= 1.2e-02 nm, Epot= -6.07851e+05 Fmax= 8.26535e+03, atom= 3836\n",
      "Step=  589, Dmax= 1.5e-02 nm, Epot= -6.07854e+05 Fmax= 1.13188e+04, atom= 3836\n",
      "Step=  590, Dmax= 1.8e-02 nm, Epot= -6.07876e+05 Fmax= 1.20998e+04, atom= 3836\n",
      "Step=  592, Dmax= 1.1e-02 nm, Epot= -6.07987e+05 Fmax= 1.92196e+03, atom= 3836\n",
      "Step=  593, Dmax= 1.3e-02 nm, Epot= -6.07993e+05 Fmax= 1.50084e+04, atom= 3836\n",
      "Step=  594, Dmax= 1.5e-02 nm, Epot= -6.08144e+05 Fmax= 5.24099e+03, atom= 3836\n",
      "Step=  596, Dmax= 9.3e-03 nm, Epot= -6.08169e+05 Fmax= 6.90852e+03, atom= 3836\n",
      "Step=  597, Dmax= 1.1e-02 nm, Epot= -6.08198e+05 Fmax= 7.69262e+03, atom= 3836\n",
      "Step=  598, Dmax= 1.3e-02 nm, Epot= -6.08212e+05 Fmax= 9.79375e+03, atom= 3836\n",
      "Step=  599, Dmax= 1.6e-02 nm, Epot= -6.08229e+05 Fmax= 1.12477e+04, atom= 3836\n",
      "Step=  601, Dmax= 9.6e-03 nm, Epot= -6.08327e+05 Fmax= 1.40403e+03, atom= 3836\n",
      "Step=  602, Dmax= 1.2e-02 nm, Epot= -6.08390e+05 Fmax= 1.36565e+04, atom= 3836\n",
      "Step=  603, Dmax= 1.4e-02 nm, Epot= -6.08516e+05 Fmax= 4.51665e+03, atom= 3836\n",
      "Step=  605, Dmax= 8.3e-03 nm, Epot= -6.08542e+05 Fmax= 6.39345e+03, atom= 3836\n",
      "Step=  606, Dmax= 1.0e-02 nm, Epot= -6.08574e+05 Fmax= 6.66958e+03, atom= 3836\n",
      "Step=  607, Dmax= 1.2e-02 nm, Epot= -6.08589e+05 Fmax= 9.03648e+03, atom= 3836\n",
      "Step=  608, Dmax= 1.4e-02 nm, Epot= -6.08614e+05 Fmax= 9.76424e+03, atom= 3836\n",
      "Step=  610, Dmax= 8.6e-03 nm, Epot= -6.08692e+05 Fmax= 1.49414e+03, atom= 3836\n",
      "Step=  611, Dmax= 1.0e-02 nm, Epot= -6.08747e+05 Fmax= 1.20978e+04, atom= 3836\n",
      "Step=  612, Dmax= 1.2e-02 nm, Epot= -6.08852e+05 Fmax= 4.15260e+03, atom= 3836\n",
      "Step=  614, Dmax= 7.4e-03 nm, Epot= -6.08880e+05 Fmax= 5.59955e+03, atom= 3836\n",
      "Step=  615, Dmax= 8.9e-03 nm, Epot= -6.08911e+05 Fmax= 6.11385e+03, atom= 3836\n",
      "Step=  616, Dmax= 1.1e-02 nm, Epot= -6.08931e+05 Fmax= 7.92367e+03, atom= 3836\n",
      "Step=  617, Dmax= 1.3e-02 nm, Epot= -6.08955e+05 Fmax= 8.95452e+03, atom= 3836\n",
      "Step=  618, Dmax= 1.5e-02 nm, Epot= -6.08961e+05 Fmax= 1.12436e+04, atom= 3836\n",
      "Step=  619, Dmax= 1.8e-02 nm, Epot= -6.08968e+05 Fmax= 1.30810e+04, atom= 3836\n",
      "Step=  621, Dmax= 1.1e-02 nm, Epot= -6.09092e+05 Fmax= 1.54474e+03, atom= 3836\n",
      "Step=  622, Dmax= 1.3e-02 nm, Epot= -6.09117e+05 Fmax= 1.58583e+04, atom= 3836\n",
      "Step=  623, Dmax= 1.6e-02 nm, Epot= -6.09278e+05 Fmax= 5.14268e+03, atom= 3836\n",
      "Step=  625, Dmax= 9.6e-03 nm, Epot= -6.09298e+05 Fmax= 7.47455e+03, atom= 3836\n",
      "Step=  626, Dmax= 1.2e-02 nm, Epot= -6.09328e+05 Fmax= 7.61528e+03, atom= 3836\n",
      "Step=  627, Dmax= 1.4e-02 nm, Epot= -6.09332e+05 Fmax= 1.05414e+04, atom= 3836\n",
      "Step=  628, Dmax= 1.7e-02 nm, Epot= -6.09355e+05 Fmax= 1.11768e+04, atom= 3836\n",
      "Step=  630, Dmax= 9.9e-03 nm, Epot= -6.09450e+05 Fmax= 1.82782e+03, atom= 3836\n",
      "Step=  631, Dmax= 1.2e-02 nm, Epot= -6.09463e+05 Fmax= 1.38662e+04, atom= 3836\n",
      "Step=  632, Dmax= 1.4e-02 nm, Epot= -6.09592e+05 Fmax= 4.90971e+03, atom= 3836\n",
      "Step=  634, Dmax= 8.6e-03 nm, Epot= -6.09617e+05 Fmax= 6.35796e+03, atom= 3836\n",
      "Step=  635, Dmax= 1.0e-02 nm, Epot= -6.09643e+05 Fmax= 7.17960e+03, atom= 3836\n",
      "Step=  636, Dmax= 1.2e-02 nm, Epot= -6.09659e+05 Fmax= 9.03694e+03, atom= 3836\n",
      "Step=  637, Dmax= 1.5e-02 nm, Epot= -6.09675e+05 Fmax= 1.04709e+04, atom= 3836\n",
      "Step=  639, Dmax= 8.9e-03 nm, Epot= -6.09760e+05 Fmax= 1.25762e+03, atom= 3836\n",
      "Step=  640, Dmax= 1.1e-02 nm, Epot= -6.09831e+05 Fmax= 1.27049e+04, atom= 3836\n",
      "Step=  641, Dmax= 1.3e-02 nm, Epot= -6.09942e+05 Fmax= 4.14446e+03, atom= 3836\n",
      "Step=  643, Dmax= 7.7e-03 nm, Epot= -6.09967e+05 Fmax= 5.97165e+03, atom= 3836\n",
      "Step=  644, Dmax= 9.2e-03 nm, Epot= -6.09996e+05 Fmax= 6.14161e+03, atom= 3836\n",
      "Step=  645, Dmax= 1.1e-02 nm, Epot= -6.10011e+05 Fmax= 8.42024e+03, atom= 3836\n",
      "Step=  646, Dmax= 1.3e-02 nm, Epot= -6.10035e+05 Fmax= 9.01456e+03, atom= 3836\n",
      "Step=  648, Dmax= 8.0e-03 nm, Epot= -6.10103e+05 Fmax= 1.42696e+03, atom= 3836\n",
      "Step=  649, Dmax= 9.6e-03 nm, Epot= -6.10158e+05 Fmax= 1.11717e+04, atom= 3836\n",
      "Step=  650, Dmax= 1.1e-02 nm, Epot= -6.10248e+05 Fmax= 3.89578e+03, atom= 3836\n",
      "Step=  652, Dmax= 6.9e-03 nm, Epot= -6.10275e+05 Fmax= 5.14838e+03, atom= 3836\n",
      "Step=  653, Dmax= 8.3e-03 nm, Epot= -6.10303e+05 Fmax= 5.71189e+03, atom= 3836\n",
      "Step=  654, Dmax= 9.9e-03 nm, Epot= -6.10324e+05 Fmax= 7.30565e+03, atom= 3836\n",
      "Step=  655, Dmax= 1.2e-02 nm, Epot= -6.10345e+05 Fmax= 8.34297e+03, atom= 3836\n",
      "Step=  656, Dmax= 1.4e-02 nm, Epot= -6.10354e+05 Fmax= 1.03884e+04, atom= 3836\n",
      "Step=  657, Dmax= 1.7e-02 nm, Epot= -6.10361e+05 Fmax= 1.21628e+04, atom= 3836\n",
      "Step=  659, Dmax= 1.0e-02 nm, Epot= -6.10470e+05 Fmax= 1.39531e+03, atom= 3836\n",
      "Step=  660, Dmax= 1.2e-02 nm, Epot= -6.10507e+05 Fmax= 1.47408e+04, atom= 3836\n",
      "Step=  661, Dmax= 1.5e-02 nm, Epot= -6.10647e+05 Fmax= 4.73001e+03, atom= 3836\n",
      "Step=  663, Dmax= 8.9e-03 nm, Epot= -6.10667e+05 Fmax= 6.96819e+03, atom= 3836\n",
      "Step=  664, Dmax= 1.1e-02 nm, Epot= -6.10695e+05 Fmax= 7.02487e+03, atom= 3836\n",
      "Step=  665, Dmax= 1.3e-02 nm, Epot= -6.10701e+05 Fmax= 9.80858e+03, atom= 3836\n",
      "Step=  666, Dmax= 1.5e-02 nm, Epot= -6.10724e+05 Fmax= 1.03321e+04, atom= 3836\n",
      "Step=  668, Dmax= 9.2e-03 nm, Epot= -6.10807e+05 Fmax= 1.72943e+03, atom= 3836\n",
      "Step=  669, Dmax= 1.1e-02 nm, Epot= -6.10824e+05 Fmax= 1.28184e+04, atom= 3836\n",
      "Step=  670, Dmax= 1.3e-02 nm, Epot= -6.10936e+05 Fmax= 4.59099e+03, atom= 3836\n",
      "Step=  672, Dmax= 8.0e-03 nm, Epot= -6.10961e+05 Fmax= 5.85819e+03, atom= 3836\n",
      "Step=  673, Dmax= 9.6e-03 nm, Epot= -6.10984e+05 Fmax= 6.69334e+03, atom= 3836\n",
      "Step=  674, Dmax= 1.1e-02 nm, Epot= -6.11001e+05 Fmax= 8.34498e+03, atom= 3836\n",
      "Step=  675, Dmax= 1.4e-02 nm, Epot= -6.11016e+05 Fmax= 9.74154e+03, atom= 3836\n",
      "Step=  676, Dmax= 1.7e-02 nm, Epot= -6.11018e+05 Fmax= 1.18960e+04, atom= 3836\n",
      "Step=  678, Dmax= 9.9e-03 nm, Epot= -6.11122e+05 Fmax= 1.06071e+03, atom= 3836\n",
      "Step=  679, Dmax= 1.2e-02 nm, Epot= -6.11195e+05 Fmax= 1.46605e+04, atom= 3836\n",
      "Step=  680, Dmax= 1.4e-02 nm, Epot= -6.11340e+05 Fmax= 4.06770e+03, atom= 3836\n",
      "Step=  682, Dmax= 8.6e-03 nm, Epot= -6.11357e+05 Fmax= 7.12795e+03, atom= 3836\n",
      "Step=  683, Dmax= 1.0e-02 nm, Epot= -6.11390e+05 Fmax= 6.36660e+03, atom= 3836\n",
      "Step=  685, Dmax= 6.2e-03 nm, Epot= -6.11432e+05 Fmax= 1.73920e+03, atom= 3836\n",
      "Step=  686, Dmax= 7.4e-03 nm, Epot= -6.11472e+05 Fmax= 7.96735e+03, atom= 3836\n",
      "Step=  687, Dmax= 8.9e-03 nm, Epot= -6.11524e+05 Fmax= 3.69353e+03, atom= 3836\n",
      "Step=  689, Dmax= 5.3e-03 nm, Epot= -6.11552e+05 Fmax= 3.29070e+03, atom= 3836\n",
      "Step=  690, Dmax= 6.4e-03 nm, Epot= -6.11578e+05 Fmax= 5.09902e+03, atom= 3836\n",
      "Step=  691, Dmax= 7.7e-03 nm, Epot= -6.11606e+05 Fmax= 4.96776e+03, atom= 3836\n",
      "Step=  692, Dmax= 9.2e-03 nm, Epot= -6.11623e+05 Fmax= 7.10196e+03, atom= 3836\n",
      "Step=  693, Dmax= 1.1e-02 nm, Epot= -6.11649e+05 Fmax= 7.40369e+03, atom= 3836\n",
      "Step=  694, Dmax= 1.3e-02 nm, Epot= -6.11653e+05 Fmax= 9.96372e+03, atom= 3836\n",
      "Step=  695, Dmax= 1.6e-02 nm, Epot= -6.11669e+05 Fmax= 1.09392e+04, atom= 3836\n",
      "Step=  697, Dmax= 9.5e-03 nm, Epot= -6.11759e+05 Fmax= 1.62619e+03, atom= 3836\n",
      "Step=  698, Dmax= 1.1e-02 nm, Epot= -6.11776e+05 Fmax= 1.33681e+04, atom= 3836\n",
      "Step=  699, Dmax= 1.4e-02 nm, Epot= -6.11892e+05 Fmax= 4.68644e+03, atom= 3836\n",
      "Step=  701, Dmax= 8.2e-03 nm, Epot= -6.11914e+05 Fmax= 6.14602e+03, atom= 3836\n",
      "Step=  702, Dmax= 9.9e-03 nm, Epot= -6.11937e+05 Fmax= 6.82992e+03, atom= 3836\n",
      "Step=  703, Dmax= 1.2e-02 nm, Epot= -6.11949e+05 Fmax= 8.77116e+03, atom= 3836\n",
      "Step=  704, Dmax= 1.4e-02 nm, Epot= -6.11964e+05 Fmax= 9.90277e+03, atom= 3836\n",
      "Step=  706, Dmax= 8.5e-03 nm, Epot= -6.12041e+05 Fmax= 1.28101e+03, atom= 3836\n",
      "Step=  707, Dmax= 1.0e-02 nm, Epot= -6.12088e+05 Fmax= 1.22300e+04, atom= 3836\n",
      "Step=  708, Dmax= 1.2e-02 nm, Epot= -6.12192e+05 Fmax= 3.91537e+03, atom= 3836\n",
      "Step=  710, Dmax= 7.4e-03 nm, Epot= -6.12214e+05 Fmax= 5.76557e+03, atom= 3836\n",
      "Step=  711, Dmax= 8.9e-03 nm, Epot= -6.12241e+05 Fmax= 5.87184e+03, atom= 3836\n",
      "Step=  712, Dmax= 1.1e-02 nm, Epot= -6.12253e+05 Fmax= 8.06988e+03, atom= 3836\n",
      "Step=  713, Dmax= 1.3e-02 nm, Epot= -6.12274e+05 Fmax= 8.69615e+03, atom= 3836\n",
      "Step=  715, Dmax= 7.7e-03 nm, Epot= -6.12336e+05 Fmax= 1.38101e+03, atom= 3836\n",
      "Step=  716, Dmax= 9.2e-03 nm, Epot= -6.12383e+05 Fmax= 1.06514e+04, atom= 3836\n",
      "Step=  717, Dmax= 1.1e-02 nm, Epot= -6.12463e+05 Fmax= 3.83413e+03, atom= 3836\n",
      "Step=  719, Dmax= 6.6e-03 nm, Epot= -6.12487e+05 Fmax= 4.85242e+03, atom= 3836\n",
      "Step=  720, Dmax= 7.9e-03 nm, Epot= -6.12511e+05 Fmax= 5.56375e+03, atom= 3836\n",
      "Step=  721, Dmax= 9.5e-03 nm, Epot= -6.12530e+05 Fmax= 6.94947e+03, atom= 3836\n",
      "Step=  722, Dmax= 1.1e-02 nm, Epot= -6.12548e+05 Fmax= 8.04059e+03, atom= 3836\n",
      "Step=  723, Dmax= 1.4e-02 nm, Epot= -6.12555e+05 Fmax= 9.99062e+03, atom= 3836\n",
      "Step=  724, Dmax= 1.6e-02 nm, Epot= -6.12561e+05 Fmax= 1.15783e+04, atom= 3836\n",
      "Step=  726, Dmax= 9.9e-03 nm, Epot= -6.12660e+05 Fmax= 1.33833e+03, atom= 3836\n",
      "Step=  727, Dmax= 1.2e-02 nm, Epot= -6.12683e+05 Fmax= 1.42830e+04, atom= 3836\n",
      "Step=  728, Dmax= 1.4e-02 nm, Epot= -6.12819e+05 Fmax= 4.37533e+03, atom= 3836\n",
      "Step=  730, Dmax= 8.5e-03 nm, Epot= -6.12835e+05 Fmax= 6.80027e+03, atom= 3836\n",
      "Step=  731, Dmax= 1.0e-02 nm, Epot= -6.12862e+05 Fmax= 6.64961e+03, atom= 3836\n",
      "Step=  732, Dmax= 1.2e-02 nm, Epot= -6.12864e+05 Fmax= 9.45233e+03, atom= 3836\n",
      "Step=  733, Dmax= 1.5e-02 nm, Epot= -6.12886e+05 Fmax= 9.92424e+03, atom= 3836\n",
      "Step=  735, Dmax= 8.8e-03 nm, Epot= -6.12961e+05 Fmax= 1.72249e+03, atom= 3836\n",
      "Step=  736, Dmax= 1.1e-02 nm, Epot= -6.12974e+05 Fmax= 1.21913e+04, atom= 3836\n",
      "Step=  737, Dmax= 1.3e-02 nm, Epot= -6.13072e+05 Fmax= 4.54817e+03, atom= 3836\n",
      "Step=  739, Dmax= 7.6e-03 nm, Epot= -6.13094e+05 Fmax= 5.48875e+03, atom= 3836\n",
      "Step=  740, Dmax= 9.2e-03 nm, Epot= -6.13114e+05 Fmax= 6.54404e+03, atom= 3836\n",
      "Step=  741, Dmax= 1.1e-02 nm, Epot= -6.13130e+05 Fmax= 7.91669e+03, atom= 3836\n",
      "Step=  742, Dmax= 1.3e-02 nm, Epot= -6.13142e+05 Fmax= 9.39863e+03, atom= 3836\n",
      "Step=  743, Dmax= 1.6e-02 nm, Epot= -6.13144e+05 Fmax= 1.14403e+04, atom= 3836\n",
      "Step=  745, Dmax= 9.5e-03 nm, Epot= -6.13239e+05 Fmax= 1.08763e+03, atom= 3836\n",
      "Step=  746, Dmax= 1.1e-02 nm, Epot= -6.13296e+05 Fmax= 1.37996e+04, atom= 3836\n",
      "Step=  747, Dmax= 1.4e-02 nm, Epot= -6.13420e+05 Fmax= 4.18997e+03, atom= 3836\n",
      "Step=  749, Dmax= 8.2e-03 nm, Epot= -6.13436e+05 Fmax= 6.62917e+03, atom= 3836\n",
      "Step=  750, Dmax= 9.9e-03 nm, Epot= -6.13463e+05 Fmax= 6.30320e+03, atom= 3836\n",
      "Step=  751, Dmax= 1.2e-02 nm, Epot= -6.13466e+05 Fmax= 9.25394e+03, atom= 3836\n",
      "Step=  752, Dmax= 1.4e-02 nm, Epot= -6.13489e+05 Fmax= 9.36279e+03, atom= 3836\n",
      "Step=  754, Dmax= 8.5e-03 nm, Epot= -6.13558e+05 Fmax= 1.78778e+03, atom= 3836\n",
      "Step=  755, Dmax= 1.0e-02 nm, Epot= -6.13567e+05 Fmax= 1.16455e+04, atom= 3836\n",
      "Step=  756, Dmax= 1.2e-02 nm, Epot= -6.13659e+05 Fmax= 4.44312e+03, atom= 3836\n",
      "Step=  758, Dmax= 7.4e-03 nm, Epot= -6.13680e+05 Fmax= 5.21725e+03, atom= 3836\n",
      "Step=  759, Dmax= 8.8e-03 nm, Epot= -6.13700e+05 Fmax= 6.38143e+03, atom= 3836\n",
      "Step=  760, Dmax= 1.1e-02 nm, Epot= -6.13716e+05 Fmax= 7.51948e+03, atom= 3836\n",
      "Step=  761, Dmax= 1.3e-02 nm, Epot= -6.13726e+05 Fmax= 9.19460e+03, atom= 3836\n",
      "Step=  762, Dmax= 1.5e-02 nm, Epot= -6.13732e+05 Fmax= 1.08072e+04, atom= 3836\n",
      "Step=  764, Dmax= 9.2e-03 nm, Epot= -6.13820e+05 Fmax= 1.17090e+03, atom= 3836\n",
      "Step=  765, Dmax= 1.1e-02 nm, Epot= -6.13858e+05 Fmax= 1.33227e+04, atom= 3836\n",
      "Step=  766, Dmax= 1.3e-02 nm, Epot= -6.13978e+05 Fmax= 3.97813e+03, atom= 3836\n",
      "Step=  768, Dmax= 7.9e-03 nm, Epot= -6.13994e+05 Fmax= 6.38324e+03, atom= 3836\n",
      "Step=  769, Dmax= 9.5e-03 nm, Epot= -6.14020e+05 Fmax= 6.08602e+03, atom= 3836\n",
      "Step=  770, Dmax= 1.1e-02 nm, Epot= -6.14024e+05 Fmax= 8.84548e+03, atom= 3836\n",
      "Step=  771, Dmax= 1.4e-02 nm, Epot= -6.14046e+05 Fmax= 9.11761e+03, atom= 3836\n",
      "Step=  773, Dmax= 8.2e-03 nm, Epot= -6.14111e+05 Fmax= 1.67887e+03, atom= 3836\n",
      "Step=  774, Dmax= 9.8e-03 nm, Epot= -6.14127e+05 Fmax= 1.12249e+04, atom= 3836\n",
      "Step=  775, Dmax= 1.2e-02 nm, Epot= -6.14211e+05 Fmax= 4.29528e+03, atom= 3836\n",
      "Step=  777, Dmax= 7.1e-03 nm, Epot= -6.14233e+05 Fmax= 5.00854e+03, atom= 3836\n",
      "Step=  778, Dmax= 8.5e-03 nm, Epot= -6.14251e+05 Fmax= 6.14953e+03, atom= 3836\n",
      "Step=  779, Dmax= 1.0e-02 nm, Epot= -6.14268e+05 Fmax= 7.25613e+03, atom= 3836\n",
      "Step=  780, Dmax= 1.2e-02 nm, Epot= -6.14279e+05 Fmax= 8.80012e+03, atom= 3836\n",
      "Step=  781, Dmax= 1.5e-02 nm, Epot= -6.14285e+05 Fmax= 1.05180e+04, atom= 3836\n",
      "Step=  783, Dmax= 8.8e-03 nm, Epot= -6.14367e+05 Fmax= 1.09483e+03, atom= 3836\n",
      "Step=  784, Dmax= 1.1e-02 nm, Epot= -6.14418e+05 Fmax= 1.27245e+04, atom= 3836\n",
      "Step=  785, Dmax= 1.3e-02 nm, Epot= -6.14525e+05 Fmax= 3.95637e+03, atom= 3836\n",
      "Step=  787, Dmax= 7.6e-03 nm, Epot= -6.14541e+05 Fmax= 6.06726e+03, atom= 3836\n",
      "Step=  788, Dmax= 9.1e-03 nm, Epot= -6.14566e+05 Fmax= 5.92502e+03, atom= 3836\n",
      "Step=  789, Dmax= 1.1e-02 nm, Epot= -6.14572e+05 Fmax= 8.49609e+03, atom= 3836\n",
      "Step=  790, Dmax= 1.3e-02 nm, Epot= -6.14592e+05 Fmax= 8.76665e+03, atom= 3836\n",
      "Step=  792, Dmax= 7.9e-03 nm, Epot= -6.14653e+05 Fmax= 1.57343e+03, atom= 3836\n",
      "Step=  793, Dmax= 9.5e-03 nm, Epot= -6.14672e+05 Fmax= 1.08860e+04, atom= 3836\n",
      "Step=  794, Dmax= 1.1e-02 nm, Epot= -6.14753e+05 Fmax= 4.03199e+03, atom= 3836\n",
      "Step=  796, Dmax= 6.8e-03 nm, Epot= -6.14774e+05 Fmax= 4.92425e+03, atom= 3836\n",
      "Step=  797, Dmax= 8.2e-03 nm, Epot= -6.14794e+05 Fmax= 5.82937e+03, atom= 3836\n",
      "Step=  798, Dmax= 9.8e-03 nm, Epot= -6.14809e+05 Fmax= 7.06012e+03, atom= 3836\n",
      "Step=  799, Dmax= 1.2e-02 nm, Epot= -6.14821e+05 Fmax= 8.43499e+03, atom= 3836\n",
      "Step=  800, Dmax= 1.4e-02 nm, Epot= -6.14826e+05 Fmax= 1.01124e+04, atom= 3836\n",
      "Step=  802, Dmax= 8.5e-03 nm, Epot= -6.14904e+05 Fmax= 9.95970e+02, atom= 3836\n",
      "\n",
      "writing lowest energy coordinates.\n",
      "\n",
      "Steepest Descents converged to Fmax < 1000 in 803 steps\n",
      "Potential Energy  = -6.1490375e+05\n",
      "Maximum force     =  9.9596960e+02 on atom 3836\n",
      "Norm of force     =  2.0661212e+01\n",
      "\n",
      "GROMACS reminds you: \"Right Between the Eyes\" (F. Zappa)\n",
      "\n"
     ]
    }
   ],
   "source": [
    "!gmx mdrun -v -deffnm em"
   ]
  },
  {
   "cell_type": "markdown",
   "metadata": {
    "nbpresent": {
     "id": "65593f21-7e6d-426e-a48e-847cd9faa631"
    }
   },
   "source": [
    "The -v flag is for the impatient: it makes `gmx mdrun` verbose, such that it prints its progress to the screen at every step. Never use this flag if run in background, on a HPC center or on a local cluster, it prints unnecessary data in the standard output file. \n",
    "The -deffnm flag will define the file names of the input and output. So, if you did not name your grompp output \"em.tpr,\" you will have to explicitly specify its name with the `gmx mdrun` -s flag."
   ]
  },
  {
   "cell_type": "markdown",
   "metadata": {},
   "source": [
    "*Note: if you do not want to wait, but look at some of the results directly, copy the data from the /reference directory into the current directory. To do this from within this notebook, remove the comment characters (#) in the following cell*  "
   ]
  },
  {
   "cell_type": "code",
   "execution_count": null,
   "metadata": {},
   "outputs": [],
   "source": [
    "## ONLY execute the lines below if you do not want to run and wait for the simulation to finish\n",
    "#!cp reference/em_charmm.edr em.edr\n",
    "#!cp reference/em_charmm.gro em.gro"
   ]
  },
  {
   "cell_type": "markdown",
   "metadata": {
    "nbpresent": {
     "id": "0274fdde-8eaf-4df7-b0da-f7744035566f"
    }
   },
   "source": [
    "## Determining if the run was successful"
   ]
  },
  {
   "cell_type": "markdown",
   "metadata": {
    "nbpresent": {
     "id": "a1ca837f-1179-4518-a425-cd9ad733cd73"
    }
   },
   "source": [
    "There are two very important factors to evaluate to determine if EM was successful. \n",
    "\n",
    "The first is the potential energy (printed at the end of the EM process, even without -v). Epot should be negative and (for a simple protein in water) on the order of 100000 kJ/mol, depending on the system size and number of water molecules\n",
    "\n",
    "The second important feature is the maximum force, Fmax, the target for which was set in minim.mdp - \"emtol = 1000.0\" - indicating a target Fmax of no greater than 1000 kJ/(mol nm). It is possible to arrive at a reasonable Epot with Fmax > emtol. If this happens, your system may not be stable enough for simulation. Evaluate why it may be happening, and perhaps change your minimization parameters (integrator, emstep, etc).\n",
    "\n"
   ]
  },
  {
   "cell_type": "markdown",
   "metadata": {
    "nbpresent": {
     "id": "08ee3d6c-ad7d-42be-9622-f43d9ab3d1e7"
    }
   },
   "source": [
    "## Analysing the run results"
   ]
  },
  {
   "cell_type": "markdown",
   "metadata": {
    "nbpresent": {
     "id": "e4c99f39-4127-487f-b3fe-fbe5b3595316"
    }
   },
   "source": [
    "Let's do a bit of analysis. The em.edr file contains all of the energy terms that GROMACS collects during EM. You can analyze any .edr file using the GROMACS energy module."
   ]
  },
  {
   "cell_type": "markdown",
   "metadata": {
    "nbpresent": {
     "id": "4c87141e-8583-497a-8c8c-22ca7e149a3f"
    }
   },
   "source": [
    "To analyse or visualize simulation data in python or jupyter notebooks, we can output a simplified xvg format from gmx-analysis tools with the option `-xvg none`"
   ]
  },
  {
   "cell_type": "code",
   "execution_count": 30,
   "metadata": {
    "nbpresent": {
     "id": "9ebad872-0589-4675-a240-b89c396a35c1"
    },
    "scrolled": true
   },
   "outputs": [
    {
     "name": "stdout",
     "output_type": "stream",
     "text": [
      "                :-) GROMACS - gmx energy, 2023.3-conda_forge (-:\n",
      "\n",
      "Executable:   /Users/alejandraduran/opt/anaconda3/envs/md-intro-tutorial/bin.SSE2/gmx\n",
      "Data prefix:  /Users/alejandraduran/opt/anaconda3/envs/md-intro-tutorial\n",
      "Working dir:  /Users/alejandraduran/Documents/Pton_courses/CBE422/final_project/data\n",
      "Command line:\n",
      "  gmx energy -f em.edr -o potential.xvg -xvg none\n",
      "\n",
      "Opened em.edr as single precision energy file\n",
      "\n",
      "Select the terms you want from the following list by\n",
      "selecting either (part of) the name or the number or a combination.\n",
      "End your selection with an empty line or a zero.\n",
      "-------------------------------------------------------------------\n",
      "  1  Bond             2  U-B              3  Proper-Dih.      4  Improper-Dih. \n",
      "  5  CMAP-Dih.        6  LJ-14            7  Coulomb-14       8  LJ-(SR)       \n",
      "  9  Coulomb-(SR)    10  Coul.-recip.    11  Potential       12  Pressure      \n",
      " 13  Constr.-rmsd    14  Vir-XX          15  Vir-XY          16  Vir-XZ        \n",
      " 17  Vir-YX          18  Vir-YY          19  Vir-YZ          20  Vir-ZX        \n",
      " 21  Vir-ZY          22  Vir-ZZ          23  Pres-XX         24  Pres-XY       \n",
      " 25  Pres-XZ         26  Pres-YX         27  Pres-YY         28  Pres-YZ       \n",
      " 29  Pres-ZX         30  Pres-ZY         31  Pres-ZZ         32  #Surf*SurfTen \n",
      " 33  T-rest        \n",
      "\n",
      "Last energy frame read 635 time  802.000          \n",
      "\n",
      "Statistics over 803 steps [ 0.0000 through 802.0000 ps ], 1 data sets\n",
      "All statistics are over 636 points (frames)\n",
      "\n",
      "Energy                      Average   Err.Est.       RMSD  Tot-Drift\n",
      "-------------------------------------------------------------------------------\n",
      "Potential                   -585796      15000    42774.6   -99525.8  (kJ/mol)\n",
      "\n",
      "GROMACS reminds you: \"And I Will Strike Down Upon Thee With Great Vengeance and With Furious Anger Those Who Attempt to Poison and Destroy My Brothers.\" (Pulp Fiction)\n",
      "\n"
     ]
    }
   ],
   "source": [
    "!printf \"Potential\\n0\\n\" | gmx energy -f em.edr -o potential.xvg -xvg none"
   ]
  },
  {
   "cell_type": "markdown",
   "metadata": {
    "nbpresent": {
     "id": "a4591650-99ca-436f-a572-7e254adb454e"
    }
   },
   "source": [
    "You will be shown the average of Epot, and a file called \"potential.xvg\" will be written. To plot this data file, you can use the script below. The resulting plot should show a steady convergence of Epot."
   ]
  },
  {
   "cell_type": "code",
   "execution_count": 31,
   "metadata": {
    "nbpresent": {
     "id": "4ce04079-a188-4372-ac3f-10665cd8b1a5"
    },
    "scrolled": true
   },
   "outputs": [
    {
     "data": {
      "text/plain": [
       "<Axes: xlabel='step'>"
      ]
     },
     "execution_count": 31,
     "metadata": {},
     "output_type": "execute_result"
    },
    {
     "data": {
      "image/png": "[encoded data removed]",
      "text/plain": [
       "<Figure size 640x480 with 1 Axes>"
      ]
     },
     "metadata": {},
     "output_type": "display_data"
    }
   ],
   "source": [
    "import pandas as pd\n",
    "df = pd.read_csv('potential.xvg', sep='\\s+', header=None, names=['step','energy'])\n",
    "df.plot('step')"
   ]
  },
  {
   "cell_type": "markdown",
   "metadata": {
    "nbpresent": {
     "id": "ca79195b-10c4-4c90-8d1c-b4706aeba797"
    }
   },
   "source": [
    "In alternative you can plot data file using Xmgrace plotting tool by directly output xvg format from the analysis tools. To use xmgrace from this notebook, remove the comment character (#) in the following cells: "
   ]
  },
  {
   "cell_type": "code",
   "execution_count": null,
   "metadata": {
    "nbpresent": {
     "id": "1b4235fe-77e5-4874-8519-aaacde0dcacb"
    },
    "scrolled": true
   },
   "outputs": [],
   "source": [
    "#!printf \"Potential\\n0\\n\" | gmx energy -f em.edr -o potential.xvg"
   ]
  },
  {
   "cell_type": "markdown",
   "metadata": {
    "nbpresent": {
     "id": "ca79195b-10c4-4c90-8d1c-b4706aeba797"
    }
   },
   "source": [
    "To plot this data file, now you will need the Xmgrace plotting tool. "
   ]
  },
  {
   "cell_type": "code",
   "execution_count": null,
   "metadata": {
    "nbpresent": {
     "id": "ecd1a98a-daa7-4f2e-9825-824bee8578ad"
    },
    "scrolled": true
   },
   "outputs": [],
   "source": [
    "#!xmgrace potential.xvg"
   ]
  },
  {
   "cell_type": "markdown",
   "metadata": {
    "nbpresent": {
     "id": "e6db598c-b3ac-4a16-8044-1662a0646b15"
    }
   },
   "source": [
    "Now that our system is at an energy minimum, we can begin real dynamics."
   ]
  },
  {
   "cell_type": "markdown",
   "metadata": {
    "nbpresent": {
     "id": "4c85e968-f181-42fb-a3b3-ab42facdb15a"
    }
   },
   "source": [
    "# Position restraints "
   ]
  },
  {
   "cell_type": "markdown",
   "metadata": {
    "nbpresent": {
     "id": "2b10cf65-f4fd-4244-bb0b-612e4aa3ade8"
    }
   },
   "source": [
    "EM ensured that we have a reasonable starting structure, in terms of geometry and solvent orientation. To begin real dynamics, we must equilibrate the solvent and ions around the protein. If we were to attempt unrestrained dynamics at this point, the system may collapse. The reason is that the solvent is mostly optimized within itself, and not necessarily with the solute, and ions are randomly placed by replacing water molecules."
   ]
  },
  {
   "cell_type": "markdown",
   "metadata": {
    "nbpresent": {
     "id": "2b10cf65-f4fd-4244-bb0b-612e4aa3ade8"
    }
   },
   "source": [
    "Remember that posre.itp file that pdb2gmx generated a long time ago? We're going to use it now. The purpose of posre.itp is to apply a position restraining force on the heavy atoms of the protein (anything that is not a hydrogen). Movement is permitted, but only after overcoming a substantial energy penalty. The utility of position restraints is that they allow us to relax our solvent and ions around our protein, without the added variable of structural changes in the protein. The origin of the position restraints (the coordinates at which the restraint potential is zero) is provided via a coordinate file passed to the -r option of grompp. Depending from the protein and ion types, this process may also be in the order nanoseconds."
   ]
  },
  {
   "cell_type": "markdown",
   "metadata": {
    "nbpresent": {
     "id": "2b10cf65-f4fd-4244-bb0b-612e4aa3ade8"
    }
   },
   "source": [
    "To use position restraints we need to add \\\"define = -DPOSRES\\\" to the simulation parameter file, .mdp, (more details on the simulation parameters below). Have a look at the .mdp file for this run:"
   ]
  },
  {
   "cell_type": "code",
   "execution_count": 32,
   "metadata": {},
   "outputs": [
    {
     "name": "stdout",
     "output_type": "stream",
     "text": [
      "title                   = CHARMM NVT equilibration \n",
      "define                  = -DPOSRES  ; position restrain the protein\n",
      "\n",
      "; Parameters describing what to do, when to stop and what to save\n",
      "integrator              = md        ; leap-frog integrator\n"
     ]
    }
   ],
   "source": [
    "!head -5 input/nvt-charmm.mdp "
   ]
  },
  {
   "cell_type": "markdown",
   "metadata": {},
   "source": [
    "When using position restraints, a file with restraint coordinates must be supplied with -r to gmx grompp (see below). It can be the same file as supplied for -c. "
   ]
  },
  {
   "cell_type": "markdown",
   "metadata": {
    "nbpresent": {
     "id": "4c85e968-f181-42fb-a3b3-ab42facdb15a"
    }
   },
   "source": [
    "# Equilibration run - temperature"
   ]
  },
  {
   "cell_type": "markdown",
   "metadata": {
    "nbpresent": {
     "id": "2b10cf65-f4fd-4244-bb0b-612e4aa3ade8"
    }
   },
   "source": [
    "EM ensured that we have a reasonable starting structure, in terms of geometry and solvent orientation. Now the system needs to be brought to the temperature we wish to simulate and establish the proper orientation about the solute (the protein). After we arrive at the correct temperature (based on kinetic energies), we will apply pressure to the system until it reaches the proper density."
   ]
  },
  {
   "cell_type": "markdown",
   "metadata": {
    "nbpresent": {
     "id": "2b10cf65-f4fd-4244-bb0b-612e4aa3ade8"
    }
   },
   "source": [
    "Equilibration is often conducted in two phases. The first phase is conducted under an NVT ensemble (constant Number of particles, Volume, and Temperature). This ensemble is also referred to as \"isothermal-isochoric\" or \"canonical.\" The timeframe for such a procedure is dependent upon the contents of the system. Typically, 100-200 ps should suffice, and we will conduct a 100-ps NVT equilibration for this exercise. Depending on your machine, this may take a while (just under an hour if run in parallel on 16 cores or so)."
   ]
  },
  {
   "cell_type": "markdown",
   "metadata": {
    "nbpresent": {
     "id": "2b10cf65-f4fd-4244-bb0b-612e4aa3ade8"
    }
   },
   "source": [
    "We will call grompp and mdrun just as we did at the EM step, but this time with the energy minimised structure as input and a different .mdp file for the run. Have a look at the input file for this run:"
   ]
  },
  {
   "cell_type": "code",
   "execution_count": 33,
   "metadata": {},
   "outputs": [
    {
     "name": "stdout",
     "output_type": "stream",
     "text": [
      "title                   = CHARMM NVT equilibration \n",
      "define                  = -DPOSRES  ; position restrain the protein\n",
      "\n",
      "; Parameters describing what to do, when to stop and what to save\n",
      "integrator              = md        ; leap-frog integrator\n",
      "dt                      = 0.002     ; 2 fs\n",
      "nsteps                  = 50000     ; 2 * 50000 = 100 ps\n",
      "nstenergy               = 500       ; save energy and temperature every 1.0 ps\n",
      "\n",
      "; periodic boundary condition\n",
      "pbc                     = xyz       ;\n",
      "\n",
      "; Keep system temperature fluctuating physically correct\n",
      "tcoupl                  = V-rescale           ; modified Berendsen thermostat\n",
      "tc-grps                 = system   ; coupling groups \n",
      "tau_t                   = 1.0      ; time constant, in ps\n",
      "ref_t                   = 300      ; reference temperature, one for each group, in K\n",
      "\n",
      "; Pressure coupling is off\n",
      "pcoupl                  = no\n",
      "\n",
      "; Velocity generation\n",
      "gen_vel                 = yes                 ; assign velocities from Maxwell distribution\n",
      "gen_temp                = 300                 ; temperature for Maxwell distribution\n",
      "\n",
      "; Settings that make sure we run with parameters in harmony with the selected force-field\n",
      "constraints             = h-bonds   ; bonds involving H are constrained\n",
      "rcoulomb                = 1.2       ; short-range electrostatic cutoff (in nm)\n",
      "rvdw                    = 1.2       ; short-range van der Waals cutoff (in nm)\n",
      "vdw-modifier            = Force-switch ;  specific CHARMM\n",
      "rvdw_switch             = 1.0       ;\n",
      "DispCorr                = no        ; account for cut-off vdW scheme -\n",
      ";in case of CHARMM DispCorr = EnerPres only for monolayers\n",
      "coulombtype             = PME       ; Particle Mesh Ewald for long-range electrostatics\n",
      "fourierspacing          = 0.15     ; grid spacing for FFT\n",
      "\n",
      "\n"
     ]
    }
   ],
   "source": [
    "!cat input/nvt-charmm.mdp"
   ]
  },
  {
   "cell_type": "markdown",
   "metadata": {
    "nbpresent": {
     "id": "cc6aa785-2b71-44bc-8a86-0c95e3b65c82"
    }
   },
   "source": [
    "Instead of energy tolerance, we now give time a step size and a number of steps. Furthermore, we need to set a temperature. Now, we're good to run. Take note of a few parameters in the .mdp file:\n",
    "\n",
    "- `gen_vel = yes`: Initiates velocity generation. Using different random seeds (gen_seed) gives different initial velocities, and thus multiple (different) simulations can be conducted from the same starting structure.\n",
    "- `tcoupl = V-rescale`: The velocity rescaling thermostat is an improvement upon the Berendsen weak coupling method, which did not reproduce a correct kinetic ensemble.\n",
    "- `pcoupl = no`: Pressure coupling is not applied. \n",
    "\n",
    "A full explanation of the parameters used can be found in the GROMACS [manual](http://manual.gromacs.org/documentation/current/user-guide/mdp-options.html), in addition to the comments provided. "
   ]
  },
  {
   "cell_type": "markdown",
   "metadata": {},
   "source": [
    "Now, we're good to run."
   ]
  },
  {
   "cell_type": "code",
   "execution_count": 34,
   "metadata": {
    "nbpresent": {
     "id": "2b413eeb-b4a1-4499-b977-156c6a0b4566"
    },
    "scrolled": true
   },
   "outputs": [
    {
     "name": "stdout",
     "output_type": "stream",
     "text": [
      "                :-) GROMACS - gmx grompp, 2023.3-conda_forge (-:\n",
      "\n",
      "Executable:   /Users/alejandraduran/opt/anaconda3/envs/md-intro-tutorial/bin.SSE2/gmx\n",
      "Data prefix:  /Users/alejandraduran/opt/anaconda3/envs/md-intro-tutorial\n",
      "Working dir:  /Users/alejandraduran/Documents/Pton_courses/CBE422/final_project/data\n",
      "Command line:\n",
      "  gmx grompp -f input/nvt-charmm.mdp -c em.gro -r em.gro -p topol.top -o nvt.tpr\n",
      "\n",
      "Ignoring obsolete mdp entry 'title'\n",
      "Setting the LD random seed to -1228998212\n",
      "\n",
      "Generated 20503 of the 20503 non-bonded parameter combinations\n",
      "Generating 1-4 interactions: fudge = 1\n",
      "\n",
      "Generated 17396 of the 20503 1-4 parameter combinations\n",
      "\n",
      "Excluding 3 bonded neighbours molecule type 'Protein_chain_A'\n",
      "\n",
      "turning H bonds into constraints...\n",
      "\n",
      "Excluding 3 bonded neighbours molecule type 'Protein_chain_L'\n",
      "\n",
      "turning H bonds into constraints...\n",
      "\n",
      "Excluding 2 bonded neighbours molecule type 'SOL'\n",
      "\n",
      "turning H bonds into constraints...\n",
      "\n",
      "Excluding 1 bonded neighbours molecule type 'NA'\n",
      "\n",
      "turning H bonds into constraints...\n",
      "\n",
      "Excluding 1 bonded neighbours molecule type 'CL'\n",
      "\n",
      "turning H bonds into constraints...\n",
      "\n",
      "Setting gen_seed to 1803288319\n",
      "\n",
      "Velocities were taken from a Maxwell distribution at 300 K\n",
      "Analysing residue names:\n",
      "There are:   286    Protein residues\n",
      "There are: 11703      Water residues\n",
      "There are:    74        Ion residues\n",
      "Analysing Protein...\n",
      "Number of degrees of freedom in T-Coupling group System is 81509.00\n",
      "\n",
      "The largest distance between excluded atoms is 0.423 nm between atom 1873 and 1881\n",
      "\n",
      "Determining Verlet buffer for a tolerance of 0.005 kJ/mol/ps at 300 K\n",
      "\n",
      "Calculated rlist for 1x1 atom pair-list as 1.233 nm, buffer size 0.033 nm\n",
      "\n",
      "Set rlist, assuming 4x4 atom pair-list, to 1.200 nm, buffer size 0.000 nm\n",
      "\n",
      "Note that mdrun will redetermine rlist based on the actual pair-list setup\n",
      "\n",
      "NOTE 1 [file input/nvt-charmm.mdp]:\n",
      "  Removing center of mass motion in the presence of position restraints\n",
      "  might cause artifacts. When you are using position restraints to\n",
      "  equilibrate a macro-molecule, the artifacts are usually negligible.\n",
      "\n",
      "Calculating fourier grid dimensions for X Y Z\n",
      "Using a fourier grid of 56x56x56, spacing 0.148 0.148 0.148\n",
      "\n",
      "Estimate for the relative computational load of the PME mesh part: 0.11\n",
      "\n",
      "This run will generate roughly 3 Mb of data\n",
      "\n",
      "There was 1 NOTE\n",
      "\n",
      "GROMACS reminds you: \"I am driven by two main philosophies: know more today about the world than I knew yesterday and lessen the suffering of others. You'd be surprised how far that gets you.\" (Neil deGrasse Tyson)\n",
      "\n",
      "                :-) GROMACS - gmx mdrun, 2023.3-conda_forge (-:\n",
      "\n",
      "Executable:   /Users/alejandraduran/opt/anaconda3/envs/md-intro-tutorial/bin.SSE2/gmx\n",
      "Data prefix:  /Users/alejandraduran/opt/anaconda3/envs/md-intro-tutorial\n",
      "Working dir:  /Users/alejandraduran/Documents/Pton_courses/CBE422/final_project/data\n",
      "Command line:\n",
      "  gmx mdrun -ntmpi 1 -v -deffnm nvt\n",
      "\n",
      "Compiled SIMD is SSE2, but SSE4.1 might be faster (see log).\n",
      "The current CPU can measure timings more accurately than the code in\n",
      "gmx mdrun was configured to use. This might affect your simulation\n",
      "speed as accurate timings are needed for load-balancing.\n",
      "Please consider rebuilding gmx mdrun with the GMX_USE_RDTSCP=ON CMake option.\n",
      "Reading file nvt.tpr, VERSION 2023.3-conda_forge (single precision)\n",
      "Changing nstlist from 10 to 80, rlist from 1.2 to 1.316\n",
      "\n",
      "\n",
      "Using 1 MPI thread\n",
      "starting mdrun 'COAGULATION FACTOR XA'\n",
      "50000 steps,    100.0 ps.\n",
      "step 15000, will finish Wed Dec  6 02:44:41 2023 will finish Wed Dec  6 02:41:30 2023, will finish Wed Dec  6 02:48:18 2023, will finish Wed Dec  6 02:57:17 2023, will finish Wed Dec  6 02:56:26 2023"
     ]
    }
   ],
   "source": [
    "!gmx grompp -f input/nvt-charmm.mdp -c em.gro -r em.gro -p topol.top -o nvt.tpr \n",
    "!gmx mdrun -ntmpi 1 -v -deffnm nvt"
   ]
  },
  {
   "cell_type": "markdown",
   "metadata": {
    "nbpresent": {
     "id": "828a3d07-e09e-44a3-8c97-350bb3a42a84"
    }
   },
   "source": [
    "Your computer should be working at full speed now to finish this simulation; it should be done in 5 to 10 minutes. "
   ]
  },
  {
   "cell_type": "markdown",
   "metadata": {},
   "source": [
    "*Note: if you do not want to wait, but look at some of the results directly, copy the data from the /reference directory into the current directory. To do this from within this notebook, remove the comment characters (#) in the following cell*  "
   ]
  },
  {
   "cell_type": "code",
   "execution_count": null,
   "metadata": {},
   "outputs": [],
   "source": [
    "## ONLY execute the lines below if you do not want to run and wait for the simulation to finish\n",
    "#!cp reference/nvt_charmm.edr nvt.edr\n",
    "#!cp reference/nvt_charmm.gro nvt.gro\n",
    "#!cp reference/nvt_charmm.cpt nvt.cpt"
   ]
  },
  {
   "cell_type": "markdown",
   "metadata": {
    "nbpresent": {
     "id": "cc6aa785-2b71-44bc-8a86-0c95e3b65c82"
    }
   },
   "source": [
    "Let's analyze the temperature progression, again using gmx energy:"
   ]
  },
  {
   "cell_type": "code",
   "execution_count": null,
   "metadata": {
    "nbpresent": {
     "id": "a414818c-cb67-4514-a983-5322d9d388b0"
    },
    "scrolled": true
   },
   "outputs": [],
   "source": [
    "!echo \"Temperature\" | gmx energy -f nvt.edr -o temperature.xvg -xvg none -b 20"
   ]
  },
  {
   "cell_type": "code",
   "execution_count": null,
   "metadata": {
    "nbpresent": {
     "id": "4ce04079-a188-4372-ac3f-10665cd8b1a5"
    },
    "scrolled": false
   },
   "outputs": [],
   "source": [
    "import pandas as pd\n",
    "df = pd.read_csv('temperature.xvg', sep='\\s+', header=None, names=['time','temperature'])\n",
    "df.plot('time')"
   ]
  },
  {
   "cell_type": "markdown",
   "metadata": {},
   "source": [
    "Or for alterantive visualization, remove the comment characters (#) in the following cells:"
   ]
  },
  {
   "cell_type": "code",
   "execution_count": null,
   "metadata": {
    "nbpresent": {
     "id": "a414818c-cb67-4514-a983-5322d9d388b0"
    },
    "scrolled": true
   },
   "outputs": [],
   "source": [
    "#!echo \"Temperature\" | gmx energy -f nvt.edr -o temperature.xvg -b 20"
   ]
  },
  {
   "cell_type": "code",
   "execution_count": null,
   "metadata": {
    "nbpresent": {
     "id": "e44de384-42ac-4813-9a45-cc496b28a4d7"
    },
    "scrolled": true
   },
   "outputs": [],
   "source": [
    "#!xmgrace temperature.xvg"
   ]
  },
  {
   "cell_type": "markdown",
   "metadata": {
    "nbpresent": {
     "id": "00806afa-b604-4964-9616-edc3ff3d046d"
    }
   },
   "source": [
    "From the plot, it is clear that the temperature of the system quickly reaches the target value (300 K), and remains stable over the remainder of the equilibration. For this system, an equilibration period (on the order of 50 ps) may be adequate."
   ]
  },
  {
   "cell_type": "markdown",
   "metadata": {
    "nbpresent": {
     "id": "82f60247-efd9-4559-9b40-ddc31d78b0cf"
    }
   },
   "source": [
    "# Equilibration run - pressure"
   ]
  },
  {
   "cell_type": "markdown",
   "metadata": {
    "nbpresent": {
     "id": "d420cdd6-a94d-49a4-8776-c5ceee7b3cb4"
    }
   },
   "source": [
    "The previous step, NVT equilibration, stabilized the temperature of the system. Prior to data collection, we must also stabilize the pressure (and thus also the density) of the system. Equilibration of pressure is conducted under an NPT ensemble, wherein the Number of particles, Pressure, and Temperature are all constant. The ensemble is also called the \"isothermal-isobaric\" ensemble, and most closely resembles experimental conditions.\n",
    "\n",
    "The .mdp file used for a 100-ps NPT equilibration can be found here. It is not drastically different from the parameter file used for NVT equilibration. Note the addition of the pressure coupling section. Berendsen barostat is used for this equilibation phase."
   ]
  },
  {
   "cell_type": "code",
   "execution_count": null,
   "metadata": {},
   "outputs": [],
   "source": [
    "!cat input/npt-charmm.mdp"
   ]
  },
  {
   "cell_type": "markdown",
   "metadata": {
    "nbpresent": {
     "id": "d420cdd6-a94d-49a4-8776-c5ceee7b3cb4"
    }
   },
   "source": [
    "A few other changes:\n",
    "\n",
    "- `continuation = yes`: We are continuing the simulation from the NVT equilibration phase\n",
    "- `gen_vel = no`: Velocities are read from the trajectory (see below) \n",
    "\n",
    "We will call grompp and mdrun just as we did for NVT equilibration. Note that we are now including the -t flag to include the checkpoint file from the NVT equilibration; this file contains all the necessary state variables to continue our simulation. To conserve the velocities produced during NVT, we must include the final coordinate file (output) of the NVT simulation using the option (-c)."
   ]
  },
  {
   "cell_type": "code",
   "execution_count": null,
   "metadata": {
    "nbpresent": {
     "id": "d0031438-f9e0-4d31-9c19-df4dc92d2d22"
    }
   },
   "outputs": [],
   "source": [
    "!gmx grompp -f input/npt-charmm.mdp -c nvt.gro -r nvt.gro -t nvt.cpt -p topol.top -o npt.tpr"
   ]
  },
  {
   "cell_type": "markdown",
   "metadata": {
    "nbpresent": {
     "id": "6fd8fd4f-6972-4eed-91c9-805282079174"
    }
   },
   "source": [
    "Now we'll start an MD simulation just like before - this one will take a few minutes; that's why it is commented out. Go ahead run it if you want to generate your own data.   "
   ]
  },
  {
   "cell_type": "code",
   "execution_count": null,
   "metadata": {
    "nbpresent": {
     "id": "8a3208e1-acc3-40ab-b3be-a26fa2bb071c"
    },
    "scrolled": true
   },
   "outputs": [],
   "source": [
    "!gmx mdrun -ntmpi 1 -v -deffnm npt"
   ]
  },
  {
   "cell_type": "markdown",
   "metadata": {
    "nbpresent": {
     "id": "d0acf72c-7b94-4864-89a4-84674b63a04e"
    }
   },
   "source": [
    "If the simulation takes too long to run for this tutorial, you may use the provided data by copying it to the current directory. But remember that you can always check/analyse the output files while the simulation is still running. "
   ]
  },
  {
   "cell_type": "code",
   "execution_count": null,
   "metadata": {
    "nbpresent": {
     "id": "cefe08a1-7c2d-4d1d-a575-50a07b1254d8"
    }
   },
   "outputs": [],
   "source": [
    "##ONLY execute the lines below if you do not want to run and wait for the simulation to finish\n",
    "#!cp reference/npt_charmm.edr npt.edr\n",
    "#!cp reference/npt_charmm.gro npt.gro\n",
    "#!cp reference/npt_charmm.cpt npt.cpt"
   ]
  },
  {
   "cell_type": "markdown",
   "metadata": {
    "nbpresent": {
     "id": "eb120f75-b472-4cb1-a3ee-21c580ca03e7"
    }
   },
   "source": [
    "Let's analyze the pressure progression, again using energy:"
   ]
  },
  {
   "cell_type": "code",
   "execution_count": null,
   "metadata": {
    "nbpresent": {
     "id": "dd41db3e-bcdb-4cad-a8c7-834ebd3b6078"
    },
    "scrolled": false
   },
   "outputs": [],
   "source": [
    "!echo \"Pressure\" | gmx energy -f npt.edr -o pressure.xvg -xvg none"
   ]
  },
  {
   "cell_type": "code",
   "execution_count": null,
   "metadata": {
    "nbpresent": {
     "id": "4ce04079-a188-4372-ac3f-10665cd8b1a5"
    },
    "scrolled": true
   },
   "outputs": [],
   "source": [
    "import pandas as pd\n",
    "df = pd.read_csv('pressure.xvg', sep='\\s+', header=None, names=['time','pressure'])\n",
    "df.plot('time')"
   ]
  },
  {
   "cell_type": "markdown",
   "metadata": {},
   "source": [
    "Or for alterantive visualization, remove the comment characters (#) in the following cells:"
   ]
  },
  {
   "cell_type": "code",
   "execution_count": null,
   "metadata": {
    "nbpresent": {
     "id": "a414818c-cb67-4514-a983-5322d9d388b0"
    },
    "scrolled": true
   },
   "outputs": [],
   "source": [
    "#!echo \"Pressure\" | gmx energy -f npt.edr -o pressure.xvg"
   ]
  },
  {
   "cell_type": "code",
   "execution_count": null,
   "metadata": {
    "nbpresent": {
     "id": "c1fd41ec-970c-46aa-abf9-23954d3eb887"
    },
    "scrolled": true
   },
   "outputs": [],
   "source": [
    "#!xmgrace pressure.xvg"
   ]
  },
  {
   "cell_type": "markdown",
   "metadata": {
    "nbpresent": {
     "id": "24293621-f825-48bb-8493-b42fbc65c616"
    }
   },
   "source": [
    "The pressure value fluctuates widely over the course of the 100-ps equilibration phase, but this behavior is not unexpected. The reference pressure was set to 1 bar, so is this outcome acceptable? Pressure is a quantity that fluctuates widely over the course of an MD simulation, as is clear from the large root-mean-square fluctuation (in the order of 100 bar), so statistically speaking, one cannot distinguish a difference between the obtained average and the target/reference value (1 bar). \n",
    "\n",
    "Let's take a look at density as well using energy."
   ]
  },
  {
   "cell_type": "code",
   "execution_count": null,
   "metadata": {
    "nbpresent": {
     "id": "5f5636cc-2d8e-4fcb-b1a3-a6aa5e059be9"
    },
    "scrolled": true
   },
   "outputs": [],
   "source": [
    "!echo \"Density\" | gmx energy -f npt.edr -o density.xvg -xvg none"
   ]
  },
  {
   "cell_type": "code",
   "execution_count": null,
   "metadata": {
    "nbpresent": {
     "id": "4ce04079-a188-4372-ac3f-10665cd8b1a5"
    },
    "scrolled": false
   },
   "outputs": [],
   "source": [
    "import pandas as pd\n",
    "df = pd.read_csv('density.xvg', sep='\\s+', header=None, names=['time','density'])\n",
    "df.plot('time')"
   ]
  },
  {
   "cell_type": "markdown",
   "metadata": {},
   "source": [
    "Or for alterantive visualization, remove the comment characters (#) in the following cells:"
   ]
  },
  {
   "cell_type": "code",
   "execution_count": null,
   "metadata": {
    "nbpresent": {
     "id": "a414818c-cb67-4514-a983-5322d9d388b0"
    },
    "scrolled": true
   },
   "outputs": [],
   "source": [
    "#!echo \"Density\" | gmx energy -f npt.edr -o density.xvg"
   ]
  },
  {
   "cell_type": "code",
   "execution_count": null,
   "metadata": {
    "nbpresent": {
     "id": "1b457711-eabc-471c-adff-b44c56fefca1"
    },
    "scrolled": true
   },
   "outputs": [],
   "source": [
    "#!xmgrace density.xvg"
   ]
  },
  {
   "cell_type": "markdown",
   "metadata": {
    "nbpresent": {
     "id": "55be45c5-3caa-472d-995e-9e9532ff4f86"
    }
   },
   "source": [
    "The average value is close to the experimental value of 1000 kg m-3 and the expected density of the TIP3P model of 1001 kg m-3. The parameters for the TIP3P water model closely replicate experimental values for water. The density values are very stable over time, indicating that the system is well-equilibrated now with respect to pressure and density.\n",
    "\n",
    "Please note: Pressure-related terms are slow to converge, and thus you may have to run NPT equilibration slightly longer than is specified here."
   ]
  },
  {
   "cell_type": "markdown",
   "metadata": {
    "nbpresent": {
     "id": "bcefd2f6-8318-40a7-98e0-dc89ecb9ca56"
    }
   },
   "source": [
    "# The \"production\" run"
   ]
  },
  {
   "cell_type": "markdown",
   "metadata": {
    "nbpresent": {
     "id": "f366f0c1-5bb1-47a1-a8af-e6f79e7eb2fc"
    }
   },
   "source": [
    "Upon completion of the two equilibration phases, the system is now well-equilibrated at the desired temperature and pressure. We are now ready to release the position restraints and run production MD for data collection. The process is just like we have seen before, as we will make use of the checkpoint file (which in this case now contains preserve pressure coupling information) to grompp. We will run a 1-ns MD simulation. Note we have explictly add a section that controls the output frequency in log file (.log), energy file (.edr), in the trajcotry file (.trr) and the compress trajectory file (.xtc)."
   ]
  },
  {
   "cell_type": "code",
   "execution_count": null,
   "metadata": {},
   "outputs": [],
   "source": [
    "!cat input/md-charmm.mdp"
   ]
  },
  {
   "cell_type": "markdown",
   "metadata": {
    "nbpresent": {
     "id": "f0ff0a16-ecdd-40e6-af2c-4234793043c1"
    }
   },
   "source": [
    "Here, we use velocity-rescaling temperature coupling as thermostat and stochastic cell rescaling as barostat. A full explanation of the available thermostats and barostats in GROMACS can be found in the manual (see [here](http://manual.gromacs.org/documentation/current/reference-manual/algorithms/molecular-dynamics.html#temperature-coupling) for thermostat and [here](http://manual.gromacs.org/documentation/current/reference-manual/algorithms/molecular-dynamics.html#pressure-coupling) for barostat). \n",
    "\n",
    "Note, for thermostats and barostats we need to compute temperature or pressure. This requires global communication and is currently not done on GPU. To reduce these computational cost, [nsttcouple](https://manual.gromacs.org/current/user-guide/mdp-options.html#mdp-nsttcouple) and [nstpcouple](https://manual.gromacs.org/current/user-guide/mdp-options.html#mdp-nstpcouple) (frequency for coupling temperature/pressure) are set to 100 by default in GROMACS 2023 (see the webinar [What's new in GROMACS2023](https://www.gromacs.org/tutorial_webinar.html). The recommendation is to use tau_t = 1 ps for V-rescale and tau_p = 5 ps for C-rescale. \n",
    "\n",
    "`gmx grompp` will print an estimate for generated data and PME load. PME load will dictate how many processors should be dedicated to the PME calculation, and how many for the PP (everything except for PME) calculations. Refer to the [manual](http://manual.gromacs.org/documentation/current/user-guide/mdrun-performance.html#parallelization-schemes) for details."
   ]
  },
  {
   "cell_type": "code",
   "execution_count": null,
   "metadata": {
    "nbpresent": {
     "id": "9749ba51-ceef-4d26-a92b-f056a3a4e4c1"
    },
    "scrolled": true
   },
   "outputs": [],
   "source": [
    "!gmx grompp -f input/md-charmm.mdp -c npt.gro -t npt.cpt -p topol.top -o md.tpr"
   ]
  },
  {
   "cell_type": "code",
   "execution_count": null,
   "metadata": {
    "nbpresent": {
     "id": "94034110-7553-4031-ab62-01022bce77b8"
    },
    "scrolled": true
   },
   "outputs": [],
   "source": [
    "!gmx mdrun -ntmpi 1 -v -deffnm md"
   ]
  },
  {
   "cell_type": "markdown",
   "metadata": {
    "nbpresent": {
     "id": "247e14a4-0892-4f32-9624-8402d0b7e070"
    }
   },
   "source": [
    "As before, this run will take some time - probably more than planned for going through this tutorial. As an alternative, use the data provided here"
   ]
  },
  {
   "cell_type": "code",
   "execution_count": null,
   "metadata": {
    "nbpresent": {
     "id": "cbf6faf8-a98c-464d-8e0f-aa2fd6ae36cb"
    }
   },
   "outputs": [],
   "source": [
    "##ONLY execute the lines below if you do not want to run and wait for the simulation to finish\n",
    "#!cp reference/md_charmm.log md.log\n",
    "#!cp reference/md_charmm.edr md.edr\n",
    "#!cp reference/md_charmm.gro md.gro\n",
    "#!cp reference/md_charmm.xtc md.xtc"
   ]
  },
  {
   "cell_type": "markdown",
   "metadata": {
    "nbpresent": {
     "id": "f5ecb43b-4d2f-44e7-85dd-62f9d2665a17"
    }
   },
   "source": [
    "# Analysis"
   ]
  },
  {
   "cell_type": "markdown",
   "metadata": {
    "nbpresent": {
     "id": "ef9d62ee-3df6-4b4e-ba99-0eb1e6374fb2"
    }
   },
   "source": [
    "Now that we have simulated our protein, we should run some analysis on the system. What types of data are important? This is an important question to ask before running the simulation, so you should have some ideas about the types of data you will want to collect in your own systems. For this tutorial, a few basic tools will be introduced."
   ]
  },
  {
   "cell_type": "markdown",
   "metadata": {
    "nbpresent": {
     "id": "ef9d62ee-3df6-4b4e-ba99-0eb1e6374fb2"
    }
   },
   "source": [
    "The first tool is [`gmx trjconv`](https://manual.gromacs.org/current/onlinehelp/gmx-trjconv.html), which is used as a post-processing tool to strip out coordinates, correct for periodicity, or manually alter the trajectory (time units, frame frequency, etc). Here you find a suggested workflow for `gmx trjconv` [link](https://manual.gromacs.org/2021/user-guide/terminology.html?highlight=periodic%20boundary). This exercise, we will use `gmx trjconv` to account for any periodicity in the system. The protein will diffuse through the unit cell, and may appear \"broken\" or may \"jump\" across to the other side of the box. To account for such actions, issue the following:"
   ]
  },
  {
   "cell_type": "code",
   "execution_count": null,
   "metadata": {
    "nbpresent": {
     "id": "49e846cb-4d93-4ff7-972e-2a01e68ffe13"
    },
    "scrolled": true
   },
   "outputs": [],
   "source": [
    "!printf \"1\\n1\\n\" | gmx trjconv -s md.tpr -f md.xtc -o md_center.xtc -center -pbc mol"
   ]
  },
  {
   "cell_type": "markdown",
   "metadata": {
    "nbpresent": {
     "id": "232962b5-46c5-460e-a6cd-d2c59ae98683"
    }
   },
   "source": [
    "Select 1 (\"Protein\") as the group to be centered and 1 (\"Protein\") for output. We will conduct all our analyses on this \"corrected\" trajectory. Let's look at so obtained trajcetory using nglview. "
   ]
  },
  {
   "cell_type": "code",
   "execution_count": null,
   "metadata": {
    "nbpresent": {
     "id": "f45c2308-0e74-4025-ac1e-200ba2869162"
    },
    "scrolled": true
   },
   "outputs": [],
   "source": [
    "import nglview as ng \n",
    "import mdtraj as md\n",
    "traj = md.load(\"md_center.xtc\", top=\"1fjs_newbox.gro\")\n",
    "view = ng.show_mdtraj(traj)\n",
    "view"
   ]
  },
  {
   "cell_type": "markdown",
   "metadata": {},
   "source": [
    "In alternative, remove the comment character (#) to use VMD "
   ]
  },
  {
   "cell_type": "code",
   "execution_count": null,
   "metadata": {
    "nbpresent": {
     "id": "f45c2308-0e74-4025-ac1e-200ba2869162"
    },
    "scrolled": true
   },
   "outputs": [],
   "source": [
    "#!vmd 1fjs_newbox.gro md_center.xtc"
   ]
  },
  {
   "cell_type": "markdown",
   "metadata": {
    "nbpresent": {
     "id": "ef9d62ee-3df6-4b4e-ba99-0eb1e6374fb2"
    }
   },
   "source": [
    "Note, the protein should never interact with its periodic image (minimum image convention), otherwise the forces calculated will be spurious. To calculate the distance between the protein and its periodic image, we use the tool [`gmx mindist`](https://manual.gromacs.org/current/onlinehelp/gmx-mindist.html) with the option -pi. "
   ]
  },
  {
   "cell_type": "code",
   "execution_count": null,
   "metadata": {
    "nbpresent": {
     "id": "49e846cb-4d93-4ff7-972e-2a01e68ffe13"
    },
    "scrolled": true
   },
   "outputs": [],
   "source": [
    "!printf \"1\\n\" | gmx mindist -s md.tpr -f md_center.xtc -pi -od mindist.xvg \n",
    "#!xmgrace mindist.xvg"
   ]
  },
  {
   "cell_type": "markdown",
   "metadata": {},
   "source": [
    "The distance between the protein and its periodic image should not be smaller than the cut-off used to describe non-bonded interactions."
   ]
  },
  {
   "cell_type": "markdown",
   "metadata": {
    "nbpresent": {
     "id": "232962b5-46c5-460e-a6cd-d2c59ae98683"
    }
   },
   "source": [
    "Now let's look at structural stability. GROMACS has a built-in utility for RMSD calculations called [`gmx rms`](https://manual.gromacs.org/current/onlinehelp/gmx-rms.html). To calculate RMSD relative to the crystal structure, issue this command:"
   ]
  },
  {
   "cell_type": "code",
   "execution_count": null,
   "metadata": {
    "nbpresent": {
     "id": "41a754a7-38be-4f22-b1af-838fefef505b"
    },
    "scrolled": false
   },
   "outputs": [],
   "source": [
    "!printf \"4\\n1\\n\" | gmx rms -s em.tpr -f md_center.xtc -o rmsd_xray.xvg -tu ns -xvg none"
   ]
  },
  {
   "cell_type": "markdown",
   "metadata": {
    "nbpresent": {
     "id": "ca9b922f-429b-45f5-b118-aa633c85c2e6"
    }
   },
   "source": [
    "Choose 4 (\"Backbone\") for both the least-squares fit and the group for RMSD calculation. The -tu flag will output the results in terms of ns, even though the trajectory was written in ps. This is done for clarity of the output (especially if you have a long simulation - 1ns does not look as nice as 100 ns). The output plot will show the RMSD relative to the structure present in the original pdb file:\n"
   ]
  },
  {
   "cell_type": "code",
   "execution_count": null,
   "metadata": {
    "nbpresent": {
     "id": "4ce04079-a188-4372-ac3f-10665cd8b1a5"
    },
    "scrolled": false
   },
   "outputs": [],
   "source": [
    "import pandas as pd\n",
    "df = pd.read_csv('rmsd_xray.xvg', sep='\\s+', header=None, names=['time','RMSD'])\n",
    "df.plot('time')"
   ]
  },
  {
   "cell_type": "markdown",
   "metadata": {},
   "source": [
    "Or for alterantive visualization, remove the comment characters (#) in the following cells:"
   ]
  },
  {
   "cell_type": "code",
   "execution_count": null,
   "metadata": {
    "nbpresent": {
     "id": "41a754a7-38be-4f22-b1af-838fefef505b"
    },
    "scrolled": true
   },
   "outputs": [],
   "source": [
    "#!printf \"4\\n1\\n\" | gmx rms -s em.tpr -f md_center.xtc -o rmsd_xray.xvg -tu ns"
   ]
  },
  {
   "cell_type": "code",
   "execution_count": null,
   "metadata": {
    "nbpresent": {
     "id": "0938839f-aaff-455f-a2e0-8e6e1c5f7e19"
    },
    "scrolled": true
   },
   "outputs": [],
   "source": [
    "#!xmgrace rmsd_xray.xvg "
   ]
  },
  {
   "cell_type": "markdown",
   "metadata": {
    "nbpresent": {
     "id": "e09ab1d9-4a3c-4f31-a309-524cafbea23f"
    }
   },
   "source": [
    "The time series shows the RMSD levels off to ~0.15 nm (1.5 Å), indicating that the structure is stable. \n",
    "\n",
    "The option `-h` provides help information for GROMACS tool. "
   ]
  },
  {
   "cell_type": "code",
   "execution_count": null,
   "metadata": {},
   "outputs": [],
   "source": [
    "!gmx rms -h"
   ]
  },
  {
   "cell_type": "markdown",
   "metadata": {
    "nbpresent": {
     "id": "0c6ed6c2-b327-4aa5-be30-5a34dda3fb00"
    }
   },
   "source": [
    "## Radius of gyration"
   ]
  },
  {
   "cell_type": "markdown",
   "metadata": {
    "nbpresent": {
     "id": "5e00cc55-3f22-419c-b7ec-12b1a1974c87"
    }
   },
   "source": [
    "The radius of gyration of a protein is a measure of its compactness. If a protein is stably folded, it will likely maintain a relatively steady value of Rg. If a protein unfolds, its Rg will change over time. Let's analyze the radius of gyration for the protein in our simulation using GROMACS [`gmx gyrate`](https://manual.gromacs.org/current/onlinehelp/gmx-gyrate.html) tool:"
   ]
  },
  {
   "cell_type": "code",
   "execution_count": null,
   "metadata": {
    "nbpresent": {
     "id": "d5801034-d329-48bd-9563-b59b3df88421"
    },
    "scrolled": true
   },
   "outputs": [],
   "source": [
    "!echo \"1\" | gmx gyrate -f md_center.xtc -s md.tpr -o gyrate.xvg -xvg none"
   ]
  },
  {
   "cell_type": "code",
   "execution_count": null,
   "metadata": {
    "nbpresent": {
     "id": "4ce04079-a188-4372-ac3f-10665cd8b1a5"
    },
    "scrolled": false
   },
   "outputs": [],
   "source": [
    "import pandas as pd\n",
    "df = pd.read_csv('gyrate.xvg', sep='\\s+', header=None, names=['time','Rg'], usecols=[0, 1])\n",
    "df.plot('time')"
   ]
  },
  {
   "cell_type": "markdown",
   "metadata": {},
   "source": [
    "Or for alterantive visualization, remove the comment characters (#) in the following cells:"
   ]
  },
  {
   "cell_type": "code",
   "execution_count": null,
   "metadata": {
    "nbpresent": {
     "id": "d5801034-d329-48bd-9563-b59b3df88421"
    },
    "scrolled": true
   },
   "outputs": [],
   "source": [
    "#!echo \"1\" | gmx gyrate -f md_center.xtc -s md.tpr -o gyrate.xvg "
   ]
  },
  {
   "cell_type": "code",
   "execution_count": null,
   "metadata": {
    "nbpresent": {
     "id": "bacba8b7-de93-4e5f-a08b-5154ace5af43"
    },
    "scrolled": true
   },
   "outputs": [],
   "source": [
    "#!xmgrace gyrate.xvg"
   ]
  },
  {
   "cell_type": "markdown",
   "metadata": {
    "nbpresent": {
     "id": "ca31ca31-edde-434e-9757-96e683450f2b"
    }
   },
   "source": [
    "We can see from the reasonably invariant Rg values that the protein remains very stable, in its compact (folded) form over the course of 1 ns at 300 K. This result is not unexpected, but illustrates an advanced capacity of GROMACS analysis that comes built-in."
   ]
  },
  {
   "cell_type": "markdown",
   "metadata": {
    "nbpresent": {
     "id": "0c6ed6c2-b327-4aa5-be30-5a34dda3fb00"
    }
   },
   "source": [
    "## Index file"
   ]
  },
  {
   "cell_type": "markdown",
   "metadata": {},
   "source": [
    "Index groups are necessary for almost every GROMACS tools. All GROMACS tools can generate default index groups. If one needs special index groups, he/she can use gmx [gmx make_ndx](https://manual.gromacs.org/current/onlinehelp/gmx-make_ndx.html) to generate an index file (ndx). For example the command `splitch 1` splits the group 1 (Protein) in chains and the command `q`  close the tool.  "
   ]
  },
  {
   "cell_type": "code",
   "execution_count": null,
   "metadata": {
    "scrolled": true
   },
   "outputs": [],
   "source": [
    "!printf \"splitch 1\\nq\\n\" | gmx make_ndx -f nvt.tpr -o "
   ]
  },
  {
   "cell_type": "markdown",
   "metadata": {},
   "source": [
    "Now we can calculate the hydrogen bonds between the two protein chains using the tool [gmx hbond](https://manual.gromacs.org/current/onlinehelp/gmx-hbond.html). The option -num provide the number of hydrogen bond as a function of time.  "
   ]
  },
  {
   "cell_type": "code",
   "execution_count": null,
   "metadata": {},
   "outputs": [],
   "source": [
    "!printf \"17\\n18\\n\"| gmx hbond -f md.xtc -s md.tpr  -n index.ndx -num -xvg none"
   ]
  },
  {
   "cell_type": "code",
   "execution_count": null,
   "metadata": {
    "nbpresent": {
     "id": "4ce04079-a188-4372-ac3f-10665cd8b1a5"
    },
    "scrolled": false
   },
   "outputs": [],
   "source": [
    "import pandas as pd\n",
    "df = pd.read_csv('hbnum.xvg', sep='\\s+', header=None, names=['time','H-bonds'], usecols=[0, 1])\n",
    "df.plot('time')"
   ]
  },
  {
   "cell_type": "markdown",
   "metadata": {},
   "source": [
    "Or for alterantive visualization, remove the comment characters (#) in the following cells:"
   ]
  },
  {
   "cell_type": "code",
   "execution_count": null,
   "metadata": {},
   "outputs": [],
   "source": [
    "#!printf \"17\\n18\\n\"| gmx hbond -f md.xtc -s md.tpr  -n index.ndx -num"
   ]
  },
  {
   "cell_type": "code",
   "execution_count": null,
   "metadata": {},
   "outputs": [],
   "source": [
    "#!xmgrace hbnum.xvg"
   ]
  },
  {
   "cell_type": "markdown",
   "metadata": {},
   "source": [
    "## Report time"
   ]
  },
  {
   "cell_type": "markdown",
   "metadata": {},
   "source": [
    "Now that we have runned the simulation, we should report or recall about what type of simulation we have per\n",
    "formed. The GROMACS tool (`gmx report-methods`)[https://manual.gromacs.org/current/onlinehelp/gmx-report-methods.\n",
    "html] can be useful for this purpose. gmx report-methods print out basic system information on a performed run. It can also provide an unformatted text (with the option -o) or a LaTeX formatted output file with the option -m. \n",
    "Let's try it."
   ]
  },
  {
   "cell_type": "code",
   "execution_count": null,
   "metadata": {},
   "outputs": [],
   "source": [
    "!gmx report-methods -s md.tpr"
   ]
  },
  {
   "cell_type": "markdown",
   "metadata": {},
   "source": [
    "## Do you have any questions? Have a look at the user discussions on [GROMACS forums](htttp://forums.gromacs.org)"
   ]
  },
  {
   "cell_type": "markdown",
   "metadata": {
    "nbpresent": {
     "id": "f71b256d-7af7-4fc5-aecf-3a7470134fb9"
    }
   },
   "source": [
    "## Excursion: Plotting gromacs data with \"pandas\" in python and notebooks"
   ]
  },
  {
   "cell_type": "markdown",
   "metadata": {
    "nbpresent": {
     "id": "4c87141e-8583-497a-8c8c-22ca7e149a3f"
    }
   },
   "source": [
    "To analyse or visualize simulation data in python or jupyter notebooks, we can output a simplified xvg format from gmx-analysis tools with the option `-xvg none`"
   ]
  },
  {
   "cell_type": "code",
   "execution_count": null,
   "metadata": {
    "nbpresent": {
     "id": "9ebad872-0589-4675-a240-b89c396a35c1"
    },
    "scrolled": true
   },
   "outputs": [],
   "source": [
    "!echo \"12\\n0\\n\" | gmx energy -f em.edr -o potential.xvg -xvg none"
   ]
  },
  {
   "cell_type": "markdown",
   "metadata": {
    "nbpresent": {
     "id": "a4591650-99ca-436f-a572-7e254adb454e"
    }
   },
   "source": [
    "And here is the plot.."
   ]
  },
  {
   "cell_type": "code",
   "execution_count": null,
   "metadata": {
    "nbpresent": {
     "id": "4ce04079-a188-4372-ac3f-10665cd8b1a5"
    },
    "scrolled": true
   },
   "outputs": [],
   "source": [
    "import pandas as pd\n",
    "df = pd.read_csv('potential.xvg', sep='\\s+', header=None, names=['time','energy'])\n",
    "df.plot('time')"
   ]
  },
  {
   "cell_type": "code",
   "execution_count": null,
   "metadata": {},
   "outputs": [],
   "source": []
  }
 ],
 "metadata": {
  "anaconda-cloud": {},
  "kernelspec": {
   "display_name": "Python 3 (ipykernel)",
   "language": "python",
   "name": "python3"
  },
  "language_info": {
   "codemirror_mode": {
    "name": "ipython",
    "version": 3
   },
   "file_extension": ".py",
   "mimetype": "text/x-python",
   "name": "python",
   "nbconvert_exporter": "python",
   "pygments_lexer": "ipython3",
   "version": "3.11.6"
  },
  "nbpresent": {
   "slides": {
    "5ee989b6-b87f-45b2-b186-0f81e2eb6c0e": {
     "id": "5ee989b6-b87f-45b2-b186-0f81e2eb6c0e",
     "prev": null,
     "regions": {
      "1099d9ed-4336-403d-8924-acb02ce1d7c0": {
       "attrs": {
        "height": 0.2,
        "width": 0.4,
        "x": 0.1,
        "y": 0.7
       },
       "id": "1099d9ed-4336-403d-8924-acb02ce1d7c0"
      },
      "159e8040-85d4-4abc-8f26-2cf90a0407d7": {
       "attrs": {
        "height": 0.6,
        "width": 0.8,
        "x": 0.1,
        "y": 0.1
       },
       "id": "159e8040-85d4-4abc-8f26-2cf90a0407d7"
      },
      "d9ecb908-45c1-485f-bb18-bbc91a1fd84e": {
       "attrs": {
        "height": 0.2,
        "width": 0.4,
        "x": 0.5,
        "y": 0.7
       },
       "id": "d9ecb908-45c1-485f-bb18-bbc91a1fd84e"
      }
     }
    }
   },
   "themes": {}
  }
 },
 "nbformat": 4,
 "nbformat_minor": 2
}
